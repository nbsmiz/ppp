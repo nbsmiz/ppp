{
 "cells": [
  {
   "cell_type": "markdown",
   "metadata": {},
   "source": [
    "# Current Covid API Data"
   ]
  },
  {
   "cell_type": "code",
   "execution_count": 1,
   "metadata": {},
   "outputs": [],
   "source": [
    "import pandas as pd\n",
    "import requests"
   ]
  },
  {
   "cell_type": "markdown",
   "metadata": {},
   "source": [
    "df_curr = pd.read_csv('https://api.covidtracking.com/v1/states/current.csv')"
   ]
  },
  {
   "cell_type": "code",
   "execution_count": 41,
   "metadata": {},
   "outputs": [],
   "source": [
    "df_curr.to_csv('covid_current.csv')"
   ]
  },
  {
   "cell_type": "code",
   "execution_count": 3,
   "metadata": {},
   "outputs": [],
   "source": [
    "df_curr = pd.read_csv('covid_current.csv')"
   ]
  },
  {
   "cell_type": "code",
   "execution_count": 19,
   "metadata": {},
   "outputs": [],
   "source": [
    "cols = ['state', 'positive']"
   ]
  },
  {
   "cell_type": "code",
   "execution_count": 20,
   "metadata": {},
   "outputs": [
    {
     "data": {
      "text/plain": [
       "(56, 2)"
      ]
     },
     "execution_count": 20,
     "metadata": {},
     "output_type": "execute_result"
    }
   ],
   "source": [
    "df_curr[cols].shape"
   ]
  },
  {
   "cell_type": "markdown",
   "metadata": {},
   "source": [
    "# Historical Covid API Data"
   ]
  },
  {
   "cell_type": "code",
   "execution_count": 30,
   "metadata": {},
   "outputs": [],
   "source": [
    "df_hist = pd.read_csv('https://api.covidtracking.com/v1/states/daily.csv')"
   ]
  },
  {
   "cell_type": "code",
   "execution_count": 31,
   "metadata": {},
   "outputs": [
    {
     "data": {
      "text/html": [
       "<div>\n",
       "<style scoped>\n",
       "    .dataframe tbody tr th:only-of-type {\n",
       "        vertical-align: middle;\n",
       "    }\n",
       "\n",
       "    .dataframe tbody tr th {\n",
       "        vertical-align: top;\n",
       "    }\n",
       "\n",
       "    .dataframe thead th {\n",
       "        text-align: right;\n",
       "    }\n",
       "</style>\n",
       "<table border=\"1\" class=\"dataframe\">\n",
       "  <thead>\n",
       "    <tr style=\"text-align: right;\">\n",
       "      <th></th>\n",
       "      <th>date</th>\n",
       "      <th>state</th>\n",
       "      <th>positive</th>\n",
       "      <th>negative</th>\n",
       "      <th>pending</th>\n",
       "      <th>hospitalizedCurrently</th>\n",
       "      <th>hospitalizedCumulative</th>\n",
       "      <th>inIcuCurrently</th>\n",
       "      <th>inIcuCumulative</th>\n",
       "      <th>onVentilatorCurrently</th>\n",
       "      <th>...</th>\n",
       "      <th>posNeg</th>\n",
       "      <th>deathIncrease</th>\n",
       "      <th>hospitalizedIncrease</th>\n",
       "      <th>hash</th>\n",
       "      <th>commercialScore</th>\n",
       "      <th>negativeRegularScore</th>\n",
       "      <th>negativeScore</th>\n",
       "      <th>positiveScore</th>\n",
       "      <th>score</th>\n",
       "      <th>grade</th>\n",
       "    </tr>\n",
       "  </thead>\n",
       "  <tbody>\n",
       "    <tr>\n",
       "      <th>0</th>\n",
       "      <td>20200824</td>\n",
       "      <td>AK</td>\n",
       "      <td>5628.0</td>\n",
       "      <td>324875.0</td>\n",
       "      <td>NaN</td>\n",
       "      <td>43.0</td>\n",
       "      <td>NaN</td>\n",
       "      <td>NaN</td>\n",
       "      <td>NaN</td>\n",
       "      <td>8.0</td>\n",
       "      <td>...</td>\n",
       "      <td>330503</td>\n",
       "      <td>0</td>\n",
       "      <td>0</td>\n",
       "      <td>54865e3eaef9af79f98d4ca570197186492760a0</td>\n",
       "      <td>0</td>\n",
       "      <td>0</td>\n",
       "      <td>0</td>\n",
       "      <td>0</td>\n",
       "      <td>0</td>\n",
       "      <td>NaN</td>\n",
       "    </tr>\n",
       "    <tr>\n",
       "      <th>1</th>\n",
       "      <td>20200824</td>\n",
       "      <td>AL</td>\n",
       "      <td>116710.0</td>\n",
       "      <td>806609.0</td>\n",
       "      <td>NaN</td>\n",
       "      <td>1149.0</td>\n",
       "      <td>13793.0</td>\n",
       "      <td>NaN</td>\n",
       "      <td>1391.0</td>\n",
       "      <td>NaN</td>\n",
       "      <td>...</td>\n",
       "      <td>923319</td>\n",
       "      <td>11</td>\n",
       "      <td>291</td>\n",
       "      <td>2fe1d500d143b2a7f02117934c2c53d0b2648560</td>\n",
       "      <td>0</td>\n",
       "      <td>0</td>\n",
       "      <td>0</td>\n",
       "      <td>0</td>\n",
       "      <td>0</td>\n",
       "      <td>NaN</td>\n",
       "    </tr>\n",
       "    <tr>\n",
       "      <th>2</th>\n",
       "      <td>20200824</td>\n",
       "      <td>AR</td>\n",
       "      <td>56894.0</td>\n",
       "      <td>616810.0</td>\n",
       "      <td>NaN</td>\n",
       "      <td>466.0</td>\n",
       "      <td>3962.0</td>\n",
       "      <td>NaN</td>\n",
       "      <td>NaN</td>\n",
       "      <td>108.0</td>\n",
       "      <td>...</td>\n",
       "      <td>673704</td>\n",
       "      <td>9</td>\n",
       "      <td>42</td>\n",
       "      <td>51dc585c49ed43ee35e01760e30b6b7aa792afe6</td>\n",
       "      <td>0</td>\n",
       "      <td>0</td>\n",
       "      <td>0</td>\n",
       "      <td>0</td>\n",
       "      <td>0</td>\n",
       "      <td>NaN</td>\n",
       "    </tr>\n",
       "    <tr>\n",
       "      <th>3</th>\n",
       "      <td>20200824</td>\n",
       "      <td>AS</td>\n",
       "      <td>0.0</td>\n",
       "      <td>1514.0</td>\n",
       "      <td>NaN</td>\n",
       "      <td>NaN</td>\n",
       "      <td>NaN</td>\n",
       "      <td>NaN</td>\n",
       "      <td>NaN</td>\n",
       "      <td>NaN</td>\n",
       "      <td>...</td>\n",
       "      <td>1514</td>\n",
       "      <td>0</td>\n",
       "      <td>0</td>\n",
       "      <td>c878baea61754904c3c233d78e523723e2f4a8e1</td>\n",
       "      <td>0</td>\n",
       "      <td>0</td>\n",
       "      <td>0</td>\n",
       "      <td>0</td>\n",
       "      <td>0</td>\n",
       "      <td>NaN</td>\n",
       "    </tr>\n",
       "    <tr>\n",
       "      <th>4</th>\n",
       "      <td>20200824</td>\n",
       "      <td>AZ</td>\n",
       "      <td>198414.0</td>\n",
       "      <td>958808.0</td>\n",
       "      <td>NaN</td>\n",
       "      <td>908.0</td>\n",
       "      <td>21219.0</td>\n",
       "      <td>345.0</td>\n",
       "      <td>NaN</td>\n",
       "      <td>176.0</td>\n",
       "      <td>...</td>\n",
       "      <td>1157222</td>\n",
       "      <td>0</td>\n",
       "      <td>-22</td>\n",
       "      <td>a3a22a4967b6ca06481f5aa38b1c59235db23f87</td>\n",
       "      <td>0</td>\n",
       "      <td>0</td>\n",
       "      <td>0</td>\n",
       "      <td>0</td>\n",
       "      <td>0</td>\n",
       "      <td>NaN</td>\n",
       "    </tr>\n",
       "  </tbody>\n",
       "</table>\n",
       "<p>5 rows × 53 columns</p>\n",
       "</div>"
      ],
      "text/plain": [
       "       date state  positive  negative  pending  hospitalizedCurrently  \\\n",
       "0  20200824    AK    5628.0  324875.0      NaN                   43.0   \n",
       "1  20200824    AL  116710.0  806609.0      NaN                 1149.0   \n",
       "2  20200824    AR   56894.0  616810.0      NaN                  466.0   \n",
       "3  20200824    AS       0.0    1514.0      NaN                    NaN   \n",
       "4  20200824    AZ  198414.0  958808.0      NaN                  908.0   \n",
       "\n",
       "   hospitalizedCumulative  inIcuCurrently  inIcuCumulative  \\\n",
       "0                     NaN             NaN              NaN   \n",
       "1                 13793.0             NaN           1391.0   \n",
       "2                  3962.0             NaN              NaN   \n",
       "3                     NaN             NaN              NaN   \n",
       "4                 21219.0           345.0              NaN   \n",
       "\n",
       "   onVentilatorCurrently  ...   posNeg  deathIncrease hospitalizedIncrease  \\\n",
       "0                    8.0  ...   330503              0                    0   \n",
       "1                    NaN  ...   923319             11                  291   \n",
       "2                  108.0  ...   673704              9                   42   \n",
       "3                    NaN  ...     1514              0                    0   \n",
       "4                  176.0  ...  1157222              0                  -22   \n",
       "\n",
       "                                       hash commercialScore  \\\n",
       "0  54865e3eaef9af79f98d4ca570197186492760a0               0   \n",
       "1  2fe1d500d143b2a7f02117934c2c53d0b2648560               0   \n",
       "2  51dc585c49ed43ee35e01760e30b6b7aa792afe6               0   \n",
       "3  c878baea61754904c3c233d78e523723e2f4a8e1               0   \n",
       "4  a3a22a4967b6ca06481f5aa38b1c59235db23f87               0   \n",
       "\n",
       "  negativeRegularScore  negativeScore  positiveScore score  grade  \n",
       "0                    0              0              0     0    NaN  \n",
       "1                    0              0              0     0    NaN  \n",
       "2                    0              0              0     0    NaN  \n",
       "3                    0              0              0     0    NaN  \n",
       "4                    0              0              0     0    NaN  \n",
       "\n",
       "[5 rows x 53 columns]"
      ]
     },
     "execution_count": 31,
     "metadata": {},
     "output_type": "execute_result"
    }
   ],
   "source": [
    "df_hist.head()"
   ]
  },
  {
   "cell_type": "code",
   "execution_count": 39,
   "metadata": {},
   "outputs": [],
   "source": [
    "df_hist.to_csv('daily.csv')"
   ]
  },
  {
   "cell_type": "code",
   "execution_count": 22,
   "metadata": {},
   "outputs": [],
   "source": [
    "df_hist = pd.read_csv('daily.csv')"
   ]
  },
  {
   "cell_type": "code",
   "execution_count": 23,
   "metadata": {},
   "outputs": [
    {
     "data": {
      "text/html": [
       "<div>\n",
       "<style scoped>\n",
       "    .dataframe tbody tr th:only-of-type {\n",
       "        vertical-align: middle;\n",
       "    }\n",
       "\n",
       "    .dataframe tbody tr th {\n",
       "        vertical-align: top;\n",
       "    }\n",
       "\n",
       "    .dataframe thead th {\n",
       "        text-align: right;\n",
       "    }\n",
       "</style>\n",
       "<table border=\"1\" class=\"dataframe\">\n",
       "  <thead>\n",
       "    <tr style=\"text-align: right;\">\n",
       "      <th></th>\n",
       "      <th>Unnamed: 0</th>\n",
       "      <th>date</th>\n",
       "      <th>state</th>\n",
       "      <th>positive</th>\n",
       "      <th>negative</th>\n",
       "      <th>pending</th>\n",
       "      <th>hospitalizedCurrently</th>\n",
       "      <th>hospitalizedCumulative</th>\n",
       "      <th>inIcuCurrently</th>\n",
       "      <th>inIcuCumulative</th>\n",
       "      <th>...</th>\n",
       "      <th>posNeg</th>\n",
       "      <th>deathIncrease</th>\n",
       "      <th>hospitalizedIncrease</th>\n",
       "      <th>hash</th>\n",
       "      <th>commercialScore</th>\n",
       "      <th>negativeRegularScore</th>\n",
       "      <th>negativeScore</th>\n",
       "      <th>positiveScore</th>\n",
       "      <th>score</th>\n",
       "      <th>grade</th>\n",
       "    </tr>\n",
       "  </thead>\n",
       "  <tbody>\n",
       "    <tr>\n",
       "      <th>0</th>\n",
       "      <td>0</td>\n",
       "      <td>20200824</td>\n",
       "      <td>AK</td>\n",
       "      <td>5628.0</td>\n",
       "      <td>324875.0</td>\n",
       "      <td>NaN</td>\n",
       "      <td>43.0</td>\n",
       "      <td>NaN</td>\n",
       "      <td>NaN</td>\n",
       "      <td>NaN</td>\n",
       "      <td>...</td>\n",
       "      <td>330503</td>\n",
       "      <td>0</td>\n",
       "      <td>0</td>\n",
       "      <td>54865e3eaef9af79f98d4ca570197186492760a0</td>\n",
       "      <td>0</td>\n",
       "      <td>0</td>\n",
       "      <td>0</td>\n",
       "      <td>0</td>\n",
       "      <td>0</td>\n",
       "      <td>NaN</td>\n",
       "    </tr>\n",
       "    <tr>\n",
       "      <th>1</th>\n",
       "      <td>1</td>\n",
       "      <td>20200824</td>\n",
       "      <td>AL</td>\n",
       "      <td>116710.0</td>\n",
       "      <td>806609.0</td>\n",
       "      <td>NaN</td>\n",
       "      <td>1149.0</td>\n",
       "      <td>13793.0</td>\n",
       "      <td>NaN</td>\n",
       "      <td>1391.0</td>\n",
       "      <td>...</td>\n",
       "      <td>923319</td>\n",
       "      <td>11</td>\n",
       "      <td>291</td>\n",
       "      <td>2fe1d500d143b2a7f02117934c2c53d0b2648560</td>\n",
       "      <td>0</td>\n",
       "      <td>0</td>\n",
       "      <td>0</td>\n",
       "      <td>0</td>\n",
       "      <td>0</td>\n",
       "      <td>NaN</td>\n",
       "    </tr>\n",
       "    <tr>\n",
       "      <th>2</th>\n",
       "      <td>2</td>\n",
       "      <td>20200824</td>\n",
       "      <td>AR</td>\n",
       "      <td>56894.0</td>\n",
       "      <td>616810.0</td>\n",
       "      <td>NaN</td>\n",
       "      <td>466.0</td>\n",
       "      <td>3962.0</td>\n",
       "      <td>NaN</td>\n",
       "      <td>NaN</td>\n",
       "      <td>...</td>\n",
       "      <td>673704</td>\n",
       "      <td>9</td>\n",
       "      <td>42</td>\n",
       "      <td>51dc585c49ed43ee35e01760e30b6b7aa792afe6</td>\n",
       "      <td>0</td>\n",
       "      <td>0</td>\n",
       "      <td>0</td>\n",
       "      <td>0</td>\n",
       "      <td>0</td>\n",
       "      <td>NaN</td>\n",
       "    </tr>\n",
       "    <tr>\n",
       "      <th>3</th>\n",
       "      <td>3</td>\n",
       "      <td>20200824</td>\n",
       "      <td>AS</td>\n",
       "      <td>0.0</td>\n",
       "      <td>1514.0</td>\n",
       "      <td>NaN</td>\n",
       "      <td>NaN</td>\n",
       "      <td>NaN</td>\n",
       "      <td>NaN</td>\n",
       "      <td>NaN</td>\n",
       "      <td>...</td>\n",
       "      <td>1514</td>\n",
       "      <td>0</td>\n",
       "      <td>0</td>\n",
       "      <td>c878baea61754904c3c233d78e523723e2f4a8e1</td>\n",
       "      <td>0</td>\n",
       "      <td>0</td>\n",
       "      <td>0</td>\n",
       "      <td>0</td>\n",
       "      <td>0</td>\n",
       "      <td>NaN</td>\n",
       "    </tr>\n",
       "    <tr>\n",
       "      <th>4</th>\n",
       "      <td>4</td>\n",
       "      <td>20200824</td>\n",
       "      <td>AZ</td>\n",
       "      <td>198414.0</td>\n",
       "      <td>958808.0</td>\n",
       "      <td>NaN</td>\n",
       "      <td>908.0</td>\n",
       "      <td>21219.0</td>\n",
       "      <td>345.0</td>\n",
       "      <td>NaN</td>\n",
       "      <td>...</td>\n",
       "      <td>1157222</td>\n",
       "      <td>0</td>\n",
       "      <td>-22</td>\n",
       "      <td>a3a22a4967b6ca06481f5aa38b1c59235db23f87</td>\n",
       "      <td>0</td>\n",
       "      <td>0</td>\n",
       "      <td>0</td>\n",
       "      <td>0</td>\n",
       "      <td>0</td>\n",
       "      <td>NaN</td>\n",
       "    </tr>\n",
       "  </tbody>\n",
       "</table>\n",
       "<p>5 rows × 54 columns</p>\n",
       "</div>"
      ],
      "text/plain": [
       "   Unnamed: 0      date state  positive  negative  pending  \\\n",
       "0           0  20200824    AK    5628.0  324875.0      NaN   \n",
       "1           1  20200824    AL  116710.0  806609.0      NaN   \n",
       "2           2  20200824    AR   56894.0  616810.0      NaN   \n",
       "3           3  20200824    AS       0.0    1514.0      NaN   \n",
       "4           4  20200824    AZ  198414.0  958808.0      NaN   \n",
       "\n",
       "   hospitalizedCurrently  hospitalizedCumulative  inIcuCurrently  \\\n",
       "0                   43.0                     NaN             NaN   \n",
       "1                 1149.0                 13793.0             NaN   \n",
       "2                  466.0                  3962.0             NaN   \n",
       "3                    NaN                     NaN             NaN   \n",
       "4                  908.0                 21219.0           345.0   \n",
       "\n",
       "   inIcuCumulative  ...   posNeg  deathIncrease  hospitalizedIncrease  \\\n",
       "0              NaN  ...   330503              0                     0   \n",
       "1           1391.0  ...   923319             11                   291   \n",
       "2              NaN  ...   673704              9                    42   \n",
       "3              NaN  ...     1514              0                     0   \n",
       "4              NaN  ...  1157222              0                   -22   \n",
       "\n",
       "                                       hash commercialScore  \\\n",
       "0  54865e3eaef9af79f98d4ca570197186492760a0               0   \n",
       "1  2fe1d500d143b2a7f02117934c2c53d0b2648560               0   \n",
       "2  51dc585c49ed43ee35e01760e30b6b7aa792afe6               0   \n",
       "3  c878baea61754904c3c233d78e523723e2f4a8e1               0   \n",
       "4  a3a22a4967b6ca06481f5aa38b1c59235db23f87               0   \n",
       "\n",
       "  negativeRegularScore negativeScore  positiveScore  score grade  \n",
       "0                    0             0              0      0   NaN  \n",
       "1                    0             0              0      0   NaN  \n",
       "2                    0             0              0      0   NaN  \n",
       "3                    0             0              0      0   NaN  \n",
       "4                    0             0              0      0   NaN  \n",
       "\n",
       "[5 rows x 54 columns]"
      ]
     },
     "execution_count": 23,
     "metadata": {},
     "output_type": "execute_result"
    }
   ],
   "source": [
    "df_hist.head()"
   ]
  },
  {
   "cell_type": "markdown",
   "metadata": {},
   "source": [
    "# PPP Loan Data > 150k"
   ]
  },
  {
   "cell_type": "code",
   "execution_count": 6,
   "metadata": {},
   "outputs": [],
   "source": [
    "import pandas as pd"
   ]
  },
  {
   "cell_type": "code",
   "execution_count": 43,
   "metadata": {},
   "outputs": [],
   "source": [
    "df_loan = pd.read_csv('data/ppp_150.csv')\n",
    "\n",
    "cols = ['LoanRange', 'BusinessName', 'Address', 'City', 'State', 'Zip', 'NAICSCode', 'BusinessType', 'JobsRetained']"
   ]
  },
  {
   "cell_type": "code",
   "execution_count": 44,
   "metadata": {},
   "outputs": [],
   "source": [
    "df_loan_strip = df_loan[cols]"
   ]
  },
  {
   "cell_type": "code",
   "execution_count": 28,
   "metadata": {},
   "outputs": [
    {
     "data": {
      "text/plain": [
       "5950962"
      ]
     },
     "execution_count": 28,
     "metadata": {},
     "output_type": "execute_result"
    }
   ],
   "source": [
    "df_loan_strip.size"
   ]
  },
  {
   "cell_type": "code",
   "execution_count": 8,
   "metadata": {},
   "outputs": [],
   "source": [
    "df_loan_strip.to_json('data/ppp_loan_strip.json')"
   ]
  },
  {
   "cell_type": "code",
   "execution_count": 10,
   "metadata": {},
   "outputs": [],
   "source": [
    "df_loan_strip.to_csv('data/ppp_loan_strip.csv')"
   ]
  },
  {
   "cell_type": "code",
   "execution_count": 20,
   "metadata": {},
   "outputs": [
    {
     "data": {
      "text/html": [
       "<div>\n",
       "<style scoped>\n",
       "    .dataframe tbody tr th:only-of-type {\n",
       "        vertical-align: middle;\n",
       "    }\n",
       "\n",
       "    .dataframe tbody tr th {\n",
       "        vertical-align: top;\n",
       "    }\n",
       "\n",
       "    .dataframe thead th {\n",
       "        text-align: right;\n",
       "    }\n",
       "</style>\n",
       "<table border=\"1\" class=\"dataframe\">\n",
       "  <thead>\n",
       "    <tr style=\"text-align: right;\">\n",
       "      <th></th>\n",
       "      <th>LoanRange</th>\n",
       "      <th>BusinessName</th>\n",
       "      <th>Address</th>\n",
       "      <th>City</th>\n",
       "      <th>State</th>\n",
       "      <th>Zip</th>\n",
       "      <th>NAICSCode</th>\n",
       "      <th>BusinessType</th>\n",
       "      <th>JobsRetained</th>\n",
       "    </tr>\n",
       "  </thead>\n",
       "  <tbody>\n",
       "    <tr>\n",
       "      <th>0</th>\n",
       "      <td>a $5-10 million</td>\n",
       "      <td>ARCTIC SLOPE NATIVE ASSOCIATION, LTD.</td>\n",
       "      <td>7000 Uula St</td>\n",
       "      <td>BARROW</td>\n",
       "      <td>AK</td>\n",
       "      <td>99723.0</td>\n",
       "      <td>813920.0</td>\n",
       "      <td>Non-Profit Organization</td>\n",
       "      <td>295.0</td>\n",
       "    </tr>\n",
       "    <tr>\n",
       "      <th>492060</th>\n",
       "      <td>a $5-10 million</td>\n",
       "      <td>THIRSTY LION EXPANSION LLC</td>\n",
       "      <td>829 SE 9th Ave Ste 202</td>\n",
       "      <td>PORTLAND</td>\n",
       "      <td>OR</td>\n",
       "      <td>97214.0</td>\n",
       "      <td>722511.0</td>\n",
       "      <td>Limited  Liability Company(LLC)</td>\n",
       "      <td>500.0</td>\n",
       "    </tr>\n",
       "    <tr>\n",
       "      <th>492059</th>\n",
       "      <td>a $5-10 million</td>\n",
       "      <td>THE CORVALLIS CLINIC, P.C.</td>\n",
       "      <td>444 NW Elks Drive</td>\n",
       "      <td>CORVALLIS</td>\n",
       "      <td>OR</td>\n",
       "      <td>97330.0</td>\n",
       "      <td>621111.0</td>\n",
       "      <td>Corporation</td>\n",
       "      <td>500.0</td>\n",
       "    </tr>\n",
       "    <tr>\n",
       "      <th>492058</th>\n",
       "      <td>a $5-10 million</td>\n",
       "      <td>TEC OF CALIFORNIA, INC.</td>\n",
       "      <td>750 NE Columbia Blvd.</td>\n",
       "      <td>PORTLAND</td>\n",
       "      <td>OR</td>\n",
       "      <td>97211.0</td>\n",
       "      <td>441228.0</td>\n",
       "      <td>Corporation</td>\n",
       "      <td>480.0</td>\n",
       "    </tr>\n",
       "    <tr>\n",
       "      <th>492057</th>\n",
       "      <td>a $5-10 million</td>\n",
       "      <td>SWANSON GROUP INC</td>\n",
       "      <td>2635 OLD HWY 99 S</td>\n",
       "      <td>ROSEBURG</td>\n",
       "      <td>OR</td>\n",
       "      <td>97471.0</td>\n",
       "      <td>321113.0</td>\n",
       "      <td>Corporation</td>\n",
       "      <td>NaN</td>\n",
       "    </tr>\n",
       "    <tr>\n",
       "      <th>...</th>\n",
       "      <td>...</td>\n",
       "      <td>...</td>\n",
       "      <td>...</td>\n",
       "      <td>...</td>\n",
       "      <td>...</td>\n",
       "      <td>...</td>\n",
       "      <td>...</td>\n",
       "      <td>...</td>\n",
       "      <td>...</td>\n",
       "    </tr>\n",
       "    <tr>\n",
       "      <th>138998</th>\n",
       "      <td>e $150,000-350,000</td>\n",
       "      <td>HARRISON HOUSE COMMUNITY PROGRAMS INC</td>\n",
       "      <td>1415 PULASKI HWY</td>\n",
       "      <td>NEWARK</td>\n",
       "      <td>DE</td>\n",
       "      <td>19702.0</td>\n",
       "      <td>813410.0</td>\n",
       "      <td>Limited  Liability Company(LLC)</td>\n",
       "      <td>28.0</td>\n",
       "    </tr>\n",
       "    <tr>\n",
       "      <th>138999</th>\n",
       "      <td>e $150,000-350,000</td>\n",
       "      <td>HARVARD ENVIRONMENTAL INC</td>\n",
       "      <td>760 PULASKI HIGHWAY</td>\n",
       "      <td>BEAR</td>\n",
       "      <td>DE</td>\n",
       "      <td>19701.0</td>\n",
       "      <td>541620.0</td>\n",
       "      <td>Subchapter S Corporation</td>\n",
       "      <td>NaN</td>\n",
       "    </tr>\n",
       "    <tr>\n",
       "      <th>139000</th>\n",
       "      <td>e $150,000-350,000</td>\n",
       "      <td>HARVEST COMMUNITY DEVELOPMENT CORPORATION</td>\n",
       "      <td>2205 Lancaster Ave</td>\n",
       "      <td>WILMINGTON</td>\n",
       "      <td>DE</td>\n",
       "      <td>19805.0</td>\n",
       "      <td>611110.0</td>\n",
       "      <td>Professional Association</td>\n",
       "      <td>0.0</td>\n",
       "    </tr>\n",
       "    <tr>\n",
       "      <th>138990</th>\n",
       "      <td>e $150,000-350,000</td>\n",
       "      <td>HABITAT FOR HUMANITY OF NEW CASTLE COUNTY, INC.</td>\n",
       "      <td>1920 Hutton Street</td>\n",
       "      <td>WILMINGTON</td>\n",
       "      <td>DE</td>\n",
       "      <td>19802.0</td>\n",
       "      <td>236115.0</td>\n",
       "      <td>Non-Profit Organization</td>\n",
       "      <td>32.0</td>\n",
       "    </tr>\n",
       "    <tr>\n",
       "      <th>661217</th>\n",
       "      <td>e $150,000-350,000</td>\n",
       "      <td>POPPYCOCKS INC</td>\n",
       "      <td>NaN</td>\n",
       "      <td>NaN</td>\n",
       "      <td>XX</td>\n",
       "      <td>NaN</td>\n",
       "      <td>444220.0</td>\n",
       "      <td>NaN</td>\n",
       "      <td>NaN</td>\n",
       "    </tr>\n",
       "  </tbody>\n",
       "</table>\n",
       "<p>661218 rows × 9 columns</p>\n",
       "</div>"
      ],
      "text/plain": [
       "                 LoanRange                                     BusinessName  \\\n",
       "0          a $5-10 million            ARCTIC SLOPE NATIVE ASSOCIATION, LTD.   \n",
       "492060     a $5-10 million                       THIRSTY LION EXPANSION LLC   \n",
       "492059     a $5-10 million                       THE CORVALLIS CLINIC, P.C.   \n",
       "492058     a $5-10 million                          TEC OF CALIFORNIA, INC.   \n",
       "492057     a $5-10 million                                SWANSON GROUP INC   \n",
       "...                    ...                                              ...   \n",
       "138998  e $150,000-350,000            HARRISON HOUSE COMMUNITY PROGRAMS INC   \n",
       "138999  e $150,000-350,000                        HARVARD ENVIRONMENTAL INC   \n",
       "139000  e $150,000-350,000        HARVEST COMMUNITY DEVELOPMENT CORPORATION   \n",
       "138990  e $150,000-350,000  HABITAT FOR HUMANITY OF NEW CASTLE COUNTY, INC.   \n",
       "661217  e $150,000-350,000                                   POPPYCOCKS INC   \n",
       "\n",
       "                       Address        City State      Zip  NAICSCode  \\\n",
       "0                 7000 Uula St      BARROW    AK  99723.0   813920.0   \n",
       "492060  829 SE 9th Ave Ste 202    PORTLAND    OR  97214.0   722511.0   \n",
       "492059       444 NW Elks Drive   CORVALLIS    OR  97330.0   621111.0   \n",
       "492058   750 NE Columbia Blvd.    PORTLAND    OR  97211.0   441228.0   \n",
       "492057       2635 OLD HWY 99 S    ROSEBURG    OR  97471.0   321113.0   \n",
       "...                        ...         ...   ...      ...        ...   \n",
       "138998        1415 PULASKI HWY      NEWARK    DE  19702.0   813410.0   \n",
       "138999     760 PULASKI HIGHWAY        BEAR    DE  19701.0   541620.0   \n",
       "139000      2205 Lancaster Ave  WILMINGTON    DE  19805.0   611110.0   \n",
       "138990      1920 Hutton Street  WILMINGTON    DE  19802.0   236115.0   \n",
       "661217                     NaN         NaN    XX      NaN   444220.0   \n",
       "\n",
       "                           BusinessType  JobsRetained  \n",
       "0               Non-Profit Organization         295.0  \n",
       "492060  Limited  Liability Company(LLC)         500.0  \n",
       "492059                      Corporation         500.0  \n",
       "492058                      Corporation         480.0  \n",
       "492057                      Corporation           NaN  \n",
       "...                                 ...           ...  \n",
       "138998  Limited  Liability Company(LLC)          28.0  \n",
       "138999         Subchapter S Corporation           NaN  \n",
       "139000         Professional Association           0.0  \n",
       "138990          Non-Profit Organization          32.0  \n",
       "661217                              NaN           NaN  \n",
       "\n",
       "[661218 rows x 9 columns]"
      ]
     },
     "execution_count": 20,
     "metadata": {},
     "output_type": "execute_result"
    }
   ],
   "source": [
    "df_loan_strip.sort_values(by='LoanRange')"
   ]
  },
  {
   "cell_type": "markdown",
   "metadata": {},
   "source": [
    "# Create Loan Type Category Column"
   ]
  },
  {
   "cell_type": "code",
   "execution_count": 46,
   "metadata": {},
   "outputs": [
    {
     "name": "stderr",
     "output_type": "stream",
     "text": [
      "<ipython-input-46-c732ee95b3bb>:1: SettingWithCopyWarning: \n",
      "A value is trying to be set on a copy of a slice from a DataFrame.\n",
      "Try using .loc[row_indexer,col_indexer] = value instead\n",
      "\n",
      "See the caveats in the documentation: https://pandas.pydata.org/pandas-docs/stable/user_guide/indexing.html#returning-a-view-versus-a-copy\n",
      "  df_loan_strip['LoanCat'] = df_loan_strip.apply(lambda row: re.search(r\"[abcde]\", row['LoanRange'])[0], axis=1)\n"
     ]
    }
   ],
   "source": [
    "df_loan_strip['LoanCat'] = df_loan_strip.apply(lambda row: re.search(r\"[abcde]\", row['LoanRange'])[0], axis=1)"
   ]
  },
  {
   "cell_type": "code",
   "execution_count": 47,
   "metadata": {},
   "outputs": [],
   "source": [
    "del df_loan_strip['LoanRange']"
   ]
  },
  {
   "cell_type": "code",
   "execution_count": 38,
   "metadata": {},
   "outputs": [
    {
     "ename": "NameError",
     "evalue": "name 'df_loan_strip' is not defined",
     "output_type": "error",
     "traceback": [
      "\u001b[1;31m---------------------------------------------------------------------------\u001b[0m",
      "\u001b[1;31mNameError\u001b[0m                                 Traceback (most recent call last)",
      "\u001b[1;32m<ipython-input-38-add77d68e2be>\u001b[0m in \u001b[0;36m<module>\u001b[1;34m\u001b[0m\n\u001b[1;32m----> 1\u001b[1;33m \u001b[0mdf_loan_strip\u001b[0m\u001b[1;33m.\u001b[0m\u001b[0mhead\u001b[0m\u001b[1;33m(\u001b[0m\u001b[1;33m)\u001b[0m\u001b[1;33m\u001b[0m\u001b[1;33m\u001b[0m\u001b[0m\n\u001b[0m",
      "\u001b[1;31mNameError\u001b[0m: name 'df_loan_strip' is not defined"
     ]
    }
   ],
   "source": [
    "df_loan_strip.head()"
   ]
  },
  {
   "cell_type": "code",
   "execution_count": 75,
   "metadata": {},
   "outputs": [
    {
     "data": {
      "text/plain": [
       "float"
      ]
     },
     "execution_count": 75,
     "metadata": {},
     "output_type": "execute_result"
    }
   ],
   "source": [
    "type(df_loan_strip.iloc[661217].Address)"
   ]
  },
  {
   "cell_type": "code",
   "execution_count": 105,
   "metadata": {},
   "outputs": [],
   "source": [
    "na_addr = df_loan_strip[df_loan_strip['Address'].isna()]\n",
    "na_city = df_loan_strip[df_loan_strip['City'].isna()]\n",
    "na_zip = df_loan_strip[df_loan_strip['Zip'].isna()]\n",
    "na_jobs = df_loan_strip[df_loan_strip['JobsRetained'].isna()]\n",
    "zero_jobs = df_loan_strip[df_loan_strip['JobsRetained'] == 0]"
   ]
  },
  {
   "cell_type": "code",
   "execution_count": 106,
   "metadata": {},
   "outputs": [
    {
     "data": {
      "text/plain": [
       "((15, 9), (17, 9), (16, 9), (40506, 9), (48922, 9))"
      ]
     },
     "execution_count": 106,
     "metadata": {},
     "output_type": "execute_result"
    }
   ],
   "source": [
    "na_city.shape, na_addr.shape, na_zip.shape, na_jobs.shape, zero_jobs.shape"
   ]
  },
  {
   "cell_type": "code",
   "execution_count": 111,
   "metadata": {},
   "outputs": [],
   "source": [
    "loan_type_list = ['a', 'b', 'c', 'd', 'e']\n",
    "\n",
    "for l_type in loan_type_list:\n",
    "    df_loan_strip[df_loan_strip['LoanCat'] == l_type].to_csv('data/loan_strip_cat' + l_type.capitalize() + '.csv')"
   ]
  },
  {
   "cell_type": "markdown",
   "metadata": {},
   "source": [
    "### 13% of borrowers reported zero jobs retained"
   ]
  },
  {
   "cell_type": "code",
   "execution_count": 112,
   "metadata": {},
   "outputs": [
    {
     "data": {
      "text/plain": [
       "0.10890608946923204"
      ]
     },
     "execution_count": 112,
     "metadata": {},
     "output_type": "execute_result"
    }
   ],
   "source": [
    "df_loan[df_loan['JobsRetained'].isna()].size/df_loan_strip.size"
   ]
  },
  {
   "cell_type": "code",
   "execution_count": null,
   "metadata": {},
   "outputs": [],
   "source": [
    "df_loan[df_loan['JobsRetained'] == 0].size/df_loan_strip.size"
   ]
  },
  {
   "cell_type": "markdown",
   "metadata": {},
   "source": [
    "### Remove null and invalid states"
   ]
  },
  {
   "cell_type": "code",
   "execution_count": 15,
   "metadata": {},
   "outputs": [],
   "source": [
    "df_addr = df_loan[['LoanRange', 'Address', 'City', 'State', 'Zip']].dropna()"
   ]
  },
  {
   "cell_type": "code",
   "execution_count": 16,
   "metadata": {},
   "outputs": [
    {
     "data": {
      "text/html": [
       "<div>\n",
       "<style scoped>\n",
       "    .dataframe tbody tr th:only-of-type {\n",
       "        vertical-align: middle;\n",
       "    }\n",
       "\n",
       "    .dataframe tbody tr th {\n",
       "        vertical-align: top;\n",
       "    }\n",
       "\n",
       "    .dataframe thead th {\n",
       "        text-align: right;\n",
       "    }\n",
       "</style>\n",
       "<table border=\"1\" class=\"dataframe\">\n",
       "  <thead>\n",
       "    <tr style=\"text-align: right;\">\n",
       "      <th></th>\n",
       "      <th>LoanRange</th>\n",
       "      <th>Address</th>\n",
       "      <th>City</th>\n",
       "      <th>State</th>\n",
       "      <th>Zip</th>\n",
       "    </tr>\n",
       "  </thead>\n",
       "  <tbody>\n",
       "    <tr>\n",
       "      <th>661203</th>\n",
       "      <td>d $350,000-1 million</td>\n",
       "      <td>1850 BOYER AVE E</td>\n",
       "      <td>SEATTLE</td>\n",
       "      <td>XX</td>\n",
       "      <td>98112.0</td>\n",
       "    </tr>\n",
       "    <tr>\n",
       "      <th>661204</th>\n",
       "      <td>d $350,000-1 million</td>\n",
       "      <td>1661 MARTIN RANCH RD</td>\n",
       "      <td>SAN BERNARDINO</td>\n",
       "      <td>XX</td>\n",
       "      <td>92407.0</td>\n",
       "    </tr>\n",
       "    <tr>\n",
       "      <th>661205</th>\n",
       "      <td>d $350,000-1 million</td>\n",
       "      <td>7684 Southrail Road</td>\n",
       "      <td>NORTH CHARLESTON</td>\n",
       "      <td>XX</td>\n",
       "      <td>29420.0</td>\n",
       "    </tr>\n",
       "    <tr>\n",
       "      <th>661206</th>\n",
       "      <td>d $350,000-1 million</td>\n",
       "      <td>2410 Highway 15 South</td>\n",
       "      <td>SUMTER</td>\n",
       "      <td>XX</td>\n",
       "      <td>29150.0</td>\n",
       "    </tr>\n",
       "    <tr>\n",
       "      <th>661209</th>\n",
       "      <td>e $150,000-350,000</td>\n",
       "      <td>501 State Road 13</td>\n",
       "      <td>SAINT JOHNS</td>\n",
       "      <td>XX</td>\n",
       "      <td>32259.0</td>\n",
       "    </tr>\n",
       "  </tbody>\n",
       "</table>\n",
       "</div>"
      ],
      "text/plain": [
       "                   LoanRange                Address              City State  \\\n",
       "661203  d $350,000-1 million       1850 BOYER AVE E           SEATTLE    XX   \n",
       "661204  d $350,000-1 million   1661 MARTIN RANCH RD    SAN BERNARDINO    XX   \n",
       "661205  d $350,000-1 million    7684 Southrail Road  NORTH CHARLESTON    XX   \n",
       "661206  d $350,000-1 million  2410 Highway 15 South            SUMTER    XX   \n",
       "661209    e $150,000-350,000      501 State Road 13       SAINT JOHNS    XX   \n",
       "\n",
       "            Zip  \n",
       "661203  98112.0  \n",
       "661204  92407.0  \n",
       "661205  29420.0  \n",
       "661206  29150.0  \n",
       "661209  32259.0  "
      ]
     },
     "execution_count": 16,
     "metadata": {},
     "output_type": "execute_result"
    }
   ],
   "source": [
    "df_addr[df_addr['State'] == 'XX']"
   ]
  },
  {
   "cell_type": "code",
   "execution_count": 17,
   "metadata": {},
   "outputs": [],
   "source": [
    "df_addr = df_addr[df_addr['State'] != 'XX']"
   ]
  },
  {
   "cell_type": "code",
   "execution_count": 18,
   "metadata": {},
   "outputs": [
    {
     "data": {
      "text/plain": [
       "661195"
      ]
     },
     "execution_count": 18,
     "metadata": {},
     "output_type": "execute_result"
    }
   ],
   "source": [
    "len(df_addr)"
   ]
  },
  {
   "cell_type": "markdown",
   "metadata": {},
   "source": [
    "# Geocoder lib"
   ]
  },
  {
   "cell_type": "code",
   "execution_count": 13,
   "metadata": {},
   "outputs": [],
   "source": [
    "import pandas as pd"
   ]
  },
  {
   "cell_type": "code",
   "execution_count": 14,
   "metadata": {},
   "outputs": [],
   "source": [
    "a_addr = pd.read_csv('data/loan_strip_catA.csv')"
   ]
  },
  {
   "cell_type": "code",
   "execution_count": 16,
   "metadata": {},
   "outputs": [],
   "source": [
    "del a_addr['Unnamed: 0']"
   ]
  },
  {
   "cell_type": "code",
   "execution_count": 26,
   "metadata": {},
   "outputs": [
    {
     "data": {
      "text/plain": [
       "4840"
      ]
     },
     "execution_count": 26,
     "metadata": {},
     "output_type": "execute_result"
    }
   ],
   "source": [
    "len(a_addr)"
   ]
  },
  {
   "cell_type": "code",
   "execution_count": 42,
   "metadata": {},
   "outputs": [
    {
     "data": {
      "text/html": [
       "<div>\n",
       "<style scoped>\n",
       "    .dataframe tbody tr th:only-of-type {\n",
       "        vertical-align: middle;\n",
       "    }\n",
       "\n",
       "    .dataframe tbody tr th {\n",
       "        vertical-align: top;\n",
       "    }\n",
       "\n",
       "    .dataframe thead th {\n",
       "        text-align: right;\n",
       "    }\n",
       "</style>\n",
       "<table border=\"1\" class=\"dataframe\">\n",
       "  <thead>\n",
       "    <tr style=\"text-align: right;\">\n",
       "      <th></th>\n",
       "      <th>BusinessName</th>\n",
       "      <th>Address</th>\n",
       "      <th>City</th>\n",
       "      <th>State</th>\n",
       "      <th>Zip</th>\n",
       "      <th>NAICSCode</th>\n",
       "      <th>BusinessType</th>\n",
       "      <th>JobsRetained</th>\n",
       "      <th>LoanCat</th>\n",
       "      <th>full_addr</th>\n",
       "    </tr>\n",
       "  </thead>\n",
       "  <tbody>\n",
       "    <tr>\n",
       "      <th>0</th>\n",
       "      <td>ARCTIC SLOPE NATIVE ASSOCIATION, LTD.</td>\n",
       "      <td>7000 Uula St</td>\n",
       "      <td>BARROW</td>\n",
       "      <td>AK</td>\n",
       "      <td>99723.0</td>\n",
       "      <td>813920.0</td>\n",
       "      <td>Non-Profit Organization</td>\n",
       "      <td>295.0</td>\n",
       "      <td>a</td>\n",
       "      <td>7000 Uula St, BARROW, AK</td>\n",
       "    </tr>\n",
       "    <tr>\n",
       "      <th>1</th>\n",
       "      <td>CRUZ CONSTRUCTION INC</td>\n",
       "      <td>7000 East Palmer Wasilla Hwy</td>\n",
       "      <td>PALMER</td>\n",
       "      <td>AK</td>\n",
       "      <td>99645.0</td>\n",
       "      <td>238190.0</td>\n",
       "      <td>Subchapter S Corporation</td>\n",
       "      <td>215.0</td>\n",
       "      <td>a</td>\n",
       "      <td>7000 East Palmer Wasilla Hwy, PALMER, AK</td>\n",
       "    </tr>\n",
       "    <tr>\n",
       "      <th>2</th>\n",
       "      <td>I. C. E. SERVICES, INC</td>\n",
       "      <td>2606 C Street</td>\n",
       "      <td>ANCHORAGE</td>\n",
       "      <td>AK</td>\n",
       "      <td>99503.0</td>\n",
       "      <td>722310.0</td>\n",
       "      <td>Corporation</td>\n",
       "      <td>367.0</td>\n",
       "      <td>a</td>\n",
       "      <td>2606 C Street, ANCHORAGE, AK</td>\n",
       "    </tr>\n",
       "    <tr>\n",
       "      <th>3</th>\n",
       "      <td>KATMAI HEALTH SERVICES LLC</td>\n",
       "      <td>11001 O'MALLEY CENTRE DRIVE, SUITE 204</td>\n",
       "      <td>ANCHORAGE</td>\n",
       "      <td>AK</td>\n",
       "      <td>99515.0</td>\n",
       "      <td>621111.0</td>\n",
       "      <td>Limited  Liability Company(LLC)</td>\n",
       "      <td>0.0</td>\n",
       "      <td>a</td>\n",
       "      <td>11001 O'MALLEY CENTRE DRIVE, ANCHORAGE, AK</td>\n",
       "    </tr>\n",
       "    <tr>\n",
       "      <th>4</th>\n",
       "      <td>MATANUSKA TELEPHONE ASSOCIATION</td>\n",
       "      <td>1740 S. CHUGACH ST</td>\n",
       "      <td>PALMER</td>\n",
       "      <td>AK</td>\n",
       "      <td>99645.0</td>\n",
       "      <td>517311.0</td>\n",
       "      <td>Cooperative</td>\n",
       "      <td>267.0</td>\n",
       "      <td>a</td>\n",
       "      <td>1740 S. CHUGACH ST, PALMER, AK</td>\n",
       "    </tr>\n",
       "  </tbody>\n",
       "</table>\n",
       "</div>"
      ],
      "text/plain": [
       "                            BusinessName  \\\n",
       "0  ARCTIC SLOPE NATIVE ASSOCIATION, LTD.   \n",
       "1                  CRUZ CONSTRUCTION INC   \n",
       "2                 I. C. E. SERVICES, INC   \n",
       "3             KATMAI HEALTH SERVICES LLC   \n",
       "4        MATANUSKA TELEPHONE ASSOCIATION   \n",
       "\n",
       "                                  Address       City State      Zip  \\\n",
       "0                            7000 Uula St     BARROW    AK  99723.0   \n",
       "1            7000 East Palmer Wasilla Hwy     PALMER    AK  99645.0   \n",
       "2                           2606 C Street  ANCHORAGE    AK  99503.0   \n",
       "3  11001 O'MALLEY CENTRE DRIVE, SUITE 204  ANCHORAGE    AK  99515.0   \n",
       "4                      1740 S. CHUGACH ST     PALMER    AK  99645.0   \n",
       "\n",
       "   NAICSCode                     BusinessType  JobsRetained LoanCat  \\\n",
       "0   813920.0          Non-Profit Organization         295.0       a   \n",
       "1   238190.0         Subchapter S Corporation         215.0       a   \n",
       "2   722310.0                      Corporation         367.0       a   \n",
       "3   621111.0  Limited  Liability Company(LLC)           0.0       a   \n",
       "4   517311.0                      Cooperative         267.0       a   \n",
       "\n",
       "                                    full_addr  \n",
       "0                    7000 Uula St, BARROW, AK  \n",
       "1    7000 East Palmer Wasilla Hwy, PALMER, AK  \n",
       "2                2606 C Street, ANCHORAGE, AK  \n",
       "3  11001 O'MALLEY CENTRE DRIVE, ANCHORAGE, AK  \n",
       "4              1740 S. CHUGACH ST, PALMER, AK  "
      ]
     },
     "execution_count": 42,
     "metadata": {},
     "output_type": "execute_result"
    }
   ],
   "source": [
    "a_addr.head()"
   ]
  },
  {
   "cell_type": "markdown",
   "metadata": {},
   "source": [
    "def construct_full_addr(row):\n",
    "    a_addr['full_addr'] = ((row['Address'].split(',')[0] + ', ' \n",
    "                            + row['City'] + ', ' + row['State']))"
   ]
  },
  {
   "cell_type": "markdown",
   "metadata": {},
   "source": [
    "# Add full address to DF"
   ]
  },
  {
   "cell_type": "code",
   "execution_count": 41,
   "metadata": {},
   "outputs": [],
   "source": [
    "a_addr['full_addr'] = a_addr.apply(lambda row: (row['Address'].split(',')[0] + ', ' \n",
    "                            + row['City'] + ', ' + row['State']), axis=1)"
   ]
  },
  {
   "cell_type": "code",
   "execution_count": 49,
   "metadata": {},
   "outputs": [],
   "source": [
    "test_addr = []\n",
    "for i in range(len(a_addr)):\n",
    "    test_addr.append(a_addr.iloc[i]['full_addr'])"
   ]
  },
  {
   "cell_type": "code",
   "execution_count": 51,
   "metadata": {},
   "outputs": [
    {
     "data": {
      "text/plain": [
       "4840"
      ]
     },
     "execution_count": 51,
     "metadata": {},
     "output_type": "execute_result"
    }
   ],
   "source": [
    "len(test_addr)"
   ]
  },
  {
   "cell_type": "code",
   "execution_count": 64,
   "metadata": {},
   "outputs": [],
   "source": [
    "a_addr['latlng'] = a_addr.apply(lambda row: geo.osm(row['full_addr']), axis=1)"
   ]
  },
  {
   "cell_type": "code",
   "execution_count": 65,
   "metadata": {},
   "outputs": [
    {
     "data": {
      "text/html": [
       "<div>\n",
       "<style scoped>\n",
       "    .dataframe tbody tr th:only-of-type {\n",
       "        vertical-align: middle;\n",
       "    }\n",
       "\n",
       "    .dataframe tbody tr th {\n",
       "        vertical-align: top;\n",
       "    }\n",
       "\n",
       "    .dataframe thead th {\n",
       "        text-align: right;\n",
       "    }\n",
       "</style>\n",
       "<table border=\"1\" class=\"dataframe\">\n",
       "  <thead>\n",
       "    <tr style=\"text-align: right;\">\n",
       "      <th></th>\n",
       "      <th>BusinessName</th>\n",
       "      <th>Address</th>\n",
       "      <th>City</th>\n",
       "      <th>State</th>\n",
       "      <th>Zip</th>\n",
       "      <th>NAICSCode</th>\n",
       "      <th>BusinessType</th>\n",
       "      <th>JobsRetained</th>\n",
       "      <th>LoanCat</th>\n",
       "      <th>full_addr</th>\n",
       "      <th>latlng</th>\n",
       "    </tr>\n",
       "  </thead>\n",
       "  <tbody>\n",
       "    <tr>\n",
       "      <th>0</th>\n",
       "      <td>ARCTIC SLOPE NATIVE ASSOCIATION, LTD.</td>\n",
       "      <td>7000 Uula St</td>\n",
       "      <td>BARROW</td>\n",
       "      <td>AK</td>\n",
       "      <td>99723.0</td>\n",
       "      <td>813920.0</td>\n",
       "      <td>Non-Profit Organization</td>\n",
       "      <td>295.0</td>\n",
       "      <td>a</td>\n",
       "      <td>7000 Uula St, BARROW, AK</td>\n",
       "      <td>[[Samuel Simmonds Memorial Hospital, 7000, Uul...</td>\n",
       "    </tr>\n",
       "    <tr>\n",
       "      <th>1</th>\n",
       "      <td>CRUZ CONSTRUCTION INC</td>\n",
       "      <td>7000 East Palmer Wasilla Hwy</td>\n",
       "      <td>PALMER</td>\n",
       "      <td>AK</td>\n",
       "      <td>99645.0</td>\n",
       "      <td>238190.0</td>\n",
       "      <td>Subchapter S Corporation</td>\n",
       "      <td>215.0</td>\n",
       "      <td>a</td>\n",
       "      <td>7000 East Palmer Wasilla Hwy, PALMER, AK</td>\n",
       "      <td>[[East Palmer-Wasilla Highway, Palmer, Matanus...</td>\n",
       "    </tr>\n",
       "    <tr>\n",
       "      <th>2</th>\n",
       "      <td>I. C. E. SERVICES, INC</td>\n",
       "      <td>2606 C Street</td>\n",
       "      <td>ANCHORAGE</td>\n",
       "      <td>AK</td>\n",
       "      <td>99503.0</td>\n",
       "      <td>722310.0</td>\n",
       "      <td>Corporation</td>\n",
       "      <td>367.0</td>\n",
       "      <td>a</td>\n",
       "      <td>2606 C Street, ANCHORAGE, AK</td>\n",
       "      <td>[[2606, C Street, Campbell, Anchorage, Alaska,...</td>\n",
       "    </tr>\n",
       "    <tr>\n",
       "      <th>3</th>\n",
       "      <td>KATMAI HEALTH SERVICES LLC</td>\n",
       "      <td>11001 O'MALLEY CENTRE DRIVE, SUITE 204</td>\n",
       "      <td>ANCHORAGE</td>\n",
       "      <td>AK</td>\n",
       "      <td>99515.0</td>\n",
       "      <td>621111.0</td>\n",
       "      <td>Limited  Liability Company(LLC)</td>\n",
       "      <td>0.0</td>\n",
       "      <td>a</td>\n",
       "      <td>11001 O'MALLEY CENTRE DRIVE, ANCHORAGE, AK</td>\n",
       "      <td>[[11001, O'Malley Centre Drive, Anchorage, Ala...</td>\n",
       "    </tr>\n",
       "    <tr>\n",
       "      <th>4</th>\n",
       "      <td>MATANUSKA TELEPHONE ASSOCIATION</td>\n",
       "      <td>1740 S. CHUGACH ST</td>\n",
       "      <td>PALMER</td>\n",
       "      <td>AK</td>\n",
       "      <td>99645.0</td>\n",
       "      <td>517311.0</td>\n",
       "      <td>Cooperative</td>\n",
       "      <td>267.0</td>\n",
       "      <td>a</td>\n",
       "      <td>1740 S. CHUGACH ST, PALMER, AK</td>\n",
       "      <td>[[1740, South Chugach Street, Palmer, Matanusk...</td>\n",
       "    </tr>\n",
       "    <tr>\n",
       "      <th>...</th>\n",
       "      <td>...</td>\n",
       "      <td>...</td>\n",
       "      <td>...</td>\n",
       "      <td>...</td>\n",
       "      <td>...</td>\n",
       "      <td>...</td>\n",
       "      <td>...</td>\n",
       "      <td>...</td>\n",
       "      <td>...</td>\n",
       "      <td>...</td>\n",
       "      <td>...</td>\n",
       "    </tr>\n",
       "    <tr>\n",
       "      <th>4835</th>\n",
       "      <td>L &amp; H INDUSTRIAL INC.</td>\n",
       "      <td>913 L &amp; J Court</td>\n",
       "      <td>GILLETTE</td>\n",
       "      <td>WY</td>\n",
       "      <td>82718.0</td>\n",
       "      <td>333120.0</td>\n",
       "      <td>Subchapter S Corporation</td>\n",
       "      <td>260.0</td>\n",
       "      <td>a</td>\n",
       "      <td>913 L &amp; J Court, GILLETTE, WY</td>\n",
       "      <td>[[913, L &amp; J Court, Gillette, Campbell County,...</td>\n",
       "    </tr>\n",
       "    <tr>\n",
       "      <th>4836</th>\n",
       "      <td>NORTH LINCOLN COUNTY HOSPITAL DISTRICT</td>\n",
       "      <td>901 Adams Street</td>\n",
       "      <td>AFTON</td>\n",
       "      <td>WY</td>\n",
       "      <td>83110.0</td>\n",
       "      <td>622110.0</td>\n",
       "      <td>Non-Profit Organization</td>\n",
       "      <td>428.0</td>\n",
       "      <td>a</td>\n",
       "      <td>901 Adams Street, AFTON, WY</td>\n",
       "      <td>[[Star Valley Health, 901, Adams Street, Osmon...</td>\n",
       "    </tr>\n",
       "    <tr>\n",
       "      <th>4837</th>\n",
       "      <td>POWELL VALLEY HEALTCH CARE, INC.</td>\n",
       "      <td>777 Avenue H</td>\n",
       "      <td>POWELL</td>\n",
       "      <td>WY</td>\n",
       "      <td>82435.0</td>\n",
       "      <td>622110.0</td>\n",
       "      <td>Non-Profit Organization</td>\n",
       "      <td>449.0</td>\n",
       "      <td>a</td>\n",
       "      <td>777 Avenue H, POWELL, WY</td>\n",
       "      <td>[[Powell Hospital, 777, Avenue H, Powell, Park...</td>\n",
       "    </tr>\n",
       "    <tr>\n",
       "      <th>4838</th>\n",
       "      <td>REDI SERVICES, LLC</td>\n",
       "      <td>225 W OWEN ST</td>\n",
       "      <td>LYMAN</td>\n",
       "      <td>WY</td>\n",
       "      <td>82937.0</td>\n",
       "      <td>213112.0</td>\n",
       "      <td>Limited  Liability Company(LLC)</td>\n",
       "      <td>460.0</td>\n",
       "      <td>a</td>\n",
       "      <td>225 W OWEN ST, LYMAN, WY</td>\n",
       "      <td>[[225, West Owen Street, Lyman, Uinta County, ...</td>\n",
       "    </tr>\n",
       "    <tr>\n",
       "      <th>4839</th>\n",
       "      <td>TRIHYDRO CORPORATION</td>\n",
       "      <td>1252 Commerce Dr</td>\n",
       "      <td>LARAMIE</td>\n",
       "      <td>WY</td>\n",
       "      <td>82070.0</td>\n",
       "      <td>541330.0</td>\n",
       "      <td>Corporation</td>\n",
       "      <td>477.0</td>\n",
       "      <td>a</td>\n",
       "      <td>1252 Commerce Dr, LARAMIE, WY</td>\n",
       "      <td>[[Commerce Drive, Laramie, Albany County, Wyom...</td>\n",
       "    </tr>\n",
       "  </tbody>\n",
       "</table>\n",
       "<p>4840 rows × 11 columns</p>\n",
       "</div>"
      ],
      "text/plain": [
       "                                BusinessName  \\\n",
       "0      ARCTIC SLOPE NATIVE ASSOCIATION, LTD.   \n",
       "1                      CRUZ CONSTRUCTION INC   \n",
       "2                     I. C. E. SERVICES, INC   \n",
       "3                 KATMAI HEALTH SERVICES LLC   \n",
       "4            MATANUSKA TELEPHONE ASSOCIATION   \n",
       "...                                      ...   \n",
       "4835                   L & H INDUSTRIAL INC.   \n",
       "4836  NORTH LINCOLN COUNTY HOSPITAL DISTRICT   \n",
       "4837        POWELL VALLEY HEALTCH CARE, INC.   \n",
       "4838                      REDI SERVICES, LLC   \n",
       "4839                    TRIHYDRO CORPORATION   \n",
       "\n",
       "                                     Address       City State      Zip  \\\n",
       "0                               7000 Uula St     BARROW    AK  99723.0   \n",
       "1               7000 East Palmer Wasilla Hwy     PALMER    AK  99645.0   \n",
       "2                              2606 C Street  ANCHORAGE    AK  99503.0   \n",
       "3     11001 O'MALLEY CENTRE DRIVE, SUITE 204  ANCHORAGE    AK  99515.0   \n",
       "4                         1740 S. CHUGACH ST     PALMER    AK  99645.0   \n",
       "...                                      ...        ...   ...      ...   \n",
       "4835                         913 L & J Court   GILLETTE    WY  82718.0   \n",
       "4836                        901 Adams Street      AFTON    WY  83110.0   \n",
       "4837                            777 Avenue H     POWELL    WY  82435.0   \n",
       "4838                           225 W OWEN ST      LYMAN    WY  82937.0   \n",
       "4839                        1252 Commerce Dr    LARAMIE    WY  82070.0   \n",
       "\n",
       "      NAICSCode                     BusinessType  JobsRetained LoanCat  \\\n",
       "0      813920.0          Non-Profit Organization         295.0       a   \n",
       "1      238190.0         Subchapter S Corporation         215.0       a   \n",
       "2      722310.0                      Corporation         367.0       a   \n",
       "3      621111.0  Limited  Liability Company(LLC)           0.0       a   \n",
       "4      517311.0                      Cooperative         267.0       a   \n",
       "...         ...                              ...           ...     ...   \n",
       "4835   333120.0         Subchapter S Corporation         260.0       a   \n",
       "4836   622110.0          Non-Profit Organization         428.0       a   \n",
       "4837   622110.0          Non-Profit Organization         449.0       a   \n",
       "4838   213112.0  Limited  Liability Company(LLC)         460.0       a   \n",
       "4839   541330.0                      Corporation         477.0       a   \n",
       "\n",
       "                                       full_addr  \\\n",
       "0                       7000 Uula St, BARROW, AK   \n",
       "1       7000 East Palmer Wasilla Hwy, PALMER, AK   \n",
       "2                   2606 C Street, ANCHORAGE, AK   \n",
       "3     11001 O'MALLEY CENTRE DRIVE, ANCHORAGE, AK   \n",
       "4                 1740 S. CHUGACH ST, PALMER, AK   \n",
       "...                                          ...   \n",
       "4835               913 L & J Court, GILLETTE, WY   \n",
       "4836                 901 Adams Street, AFTON, WY   \n",
       "4837                    777 Avenue H, POWELL, WY   \n",
       "4838                    225 W OWEN ST, LYMAN, WY   \n",
       "4839               1252 Commerce Dr, LARAMIE, WY   \n",
       "\n",
       "                                                 latlng  \n",
       "0     [[Samuel Simmonds Memorial Hospital, 7000, Uul...  \n",
       "1     [[East Palmer-Wasilla Highway, Palmer, Matanus...  \n",
       "2     [[2606, C Street, Campbell, Anchorage, Alaska,...  \n",
       "3     [[11001, O'Malley Centre Drive, Anchorage, Ala...  \n",
       "4     [[1740, South Chugach Street, Palmer, Matanusk...  \n",
       "...                                                 ...  \n",
       "4835  [[913, L & J Court, Gillette, Campbell County,...  \n",
       "4836  [[Star Valley Health, 901, Adams Street, Osmon...  \n",
       "4837  [[Powell Hospital, 777, Avenue H, Powell, Park...  \n",
       "4838  [[225, West Owen Street, Lyman, Uinta County, ...  \n",
       "4839  [[Commerce Drive, Laramie, Albany County, Wyom...  \n",
       "\n",
       "[4840 rows x 11 columns]"
      ]
     },
     "execution_count": 65,
     "metadata": {},
     "output_type": "execute_result"
    }
   ],
   "source": [
    "a_addr"
   ]
  },
  {
   "cell_type": "code",
   "execution_count": 66,
   "metadata": {},
   "outputs": [
    {
     "data": {
      "text/plain": [
       "6006789"
      ]
     },
     "execution_count": 66,
     "metadata": {},
     "output_type": "execute_result"
    }
   ],
   "source": [
    "getsize(a_addr)"
   ]
  },
  {
   "cell_type": "code",
   "execution_count": 85,
   "metadata": {},
   "outputs": [
    {
     "data": {
      "text/plain": [
       "pandas.core.frame.DataFrame"
      ]
     },
     "execution_count": 85,
     "metadata": {},
     "output_type": "execute_result"
    }
   ],
   "source": [
    "type(a_addr)"
   ]
  },
  {
   "cell_type": "code",
   "execution_count": 86,
   "metadata": {},
   "outputs": [
    {
     "data": {
      "text/plain": [
       "geocoder.osm.OsmQuery"
      ]
     },
     "execution_count": 86,
     "metadata": {},
     "output_type": "execute_result"
    }
   ],
   "source": [
    "type(g)"
   ]
  },
  {
   "cell_type": "code",
   "execution_count": 70,
   "metadata": {},
   "outputs": [],
   "source": [
    "import pickle"
   ]
  },
  {
   "cell_type": "code",
   "execution_count": 69,
   "metadata": {},
   "outputs": [
    {
     "data": {
      "text/plain": [
       "[71.297403, -156.72989601511108]"
      ]
     },
     "execution_count": 69,
     "metadata": {},
     "output_type": "execute_result"
    }
   ],
   "source": [
    "a_addr.iloc[0]['latlng'].latlng"
   ]
  },
  {
   "cell_type": "code",
   "execution_count": 53,
   "metadata": {},
   "outputs": [],
   "source": [
    "g = geo.osm(a_addr.iloc[0]['full_addr'])"
   ]
  },
  {
   "cell_type": "markdown",
   "metadata": {},
   "source": [
    "https://stackoverflow.com/questions/449560/how-do-i-determine-the-size-of-an-object-in-python"
   ]
  },
  {
   "cell_type": "code",
   "execution_count": 61,
   "metadata": {},
   "outputs": [],
   "source": [
    "import sys\n",
    "from types import ModuleType, FunctionType\n",
    "from gc import get_referents\n",
    "\n",
    "# Custom objects know their class.\n",
    "# Function objects seem to know way too much, including modules.\n",
    "# Exclude modules as well.\n",
    "BLACKLIST = type, ModuleType, FunctionType\n",
    "\n",
    "\n",
    "def getsize(obj):\n",
    "    \"\"\"sum size of object & members.\"\"\"\n",
    "    if isinstance(obj, BLACKLIST):\n",
    "        raise TypeError('getsize() does not take argument of type: '+ str(type(obj)))\n",
    "    seen_ids = set()\n",
    "    size = 0\n",
    "    objects = [obj]\n",
    "    while objects:\n",
    "        need_referents = []\n",
    "        for obj in objects:\n",
    "            if not isinstance(obj, BLACKLIST) and id(obj) not in seen_ids:\n",
    "                seen_ids.add(id(obj))\n",
    "                size += sys.getsizeof(obj)\n",
    "                need_referents.append(obj)\n",
    "        objects = get_referents(*need_referents)\n",
    "    return size"
   ]
  },
  {
   "cell_type": "code",
   "execution_count": 1,
   "metadata": {},
   "outputs": [
    {
     "ename": "NameError",
     "evalue": "name 'g' is not defined",
     "output_type": "error",
     "traceback": [
      "\u001b[1;31m---------------------------------------------------------------------------\u001b[0m",
      "\u001b[1;31mNameError\u001b[0m                                 Traceback (most recent call last)",
      "\u001b[1;32m<ipython-input-1-a5938ace3f42>\u001b[0m in \u001b[0;36m<module>\u001b[1;34m\u001b[0m\n\u001b[1;32m----> 1\u001b[1;33m \u001b[0mg\u001b[0m\u001b[1;33m\u001b[0m\u001b[1;33m\u001b[0m\u001b[0m\n\u001b[0m",
      "\u001b[1;31mNameError\u001b[0m: name 'g' is not defined"
     ]
    }
   ],
   "source": [
    "g"
   ]
  },
  {
   "cell_type": "code",
   "execution_count": 24,
   "metadata": {},
   "outputs": [
    {
     "name": "stdout",
     "output_type": "stream",
     "text": [
      "[71.297403, -156.72989601511108]\n",
      "[61.5994781, -149.1414633]\n",
      "[61.196842691387914, -149.88684249310444]\n",
      "[61.120856, -149.861543]\n",
      "[61.58704402553256, -149.110754]\n",
      "[61.16275579511191, -149.98675425428237]\n",
      "[59.65246045, -151.55007250373038]\n",
      "[61.188151425240115, -149.87396846923346]\n",
      "[61.1844576, -149.8866635]\n",
      "['3700 Centerpoint Drive, ANCHORAGE, AK']\n"
     ]
    }
   ],
   "source": [
    "import geocoder as geo\n",
    "no_latlng = []\n",
    "for addr in test_addr:\n",
    "    g = geo.osm(addr)\n",
    "    if g.latlng is None:\n",
    "        no_latlng.append(addr)\n",
    "    else:\n",
    "        print(g.latlng)\n",
    "    \n",
    "print(no_latlng)"
   ]
  },
  {
   "cell_type": "code",
   "execution_count": 9,
   "metadata": {},
   "outputs": [
    {
     "data": {
      "text/plain": [
       "\"11001 O'MALLEY CENTRE DRIVE\""
      ]
     },
     "execution_count": 9,
     "metadata": {},
     "output_type": "execute_result"
    }
   ],
   "source": [
    "s = \"11001 O'MALLEY CENTRE DRIVE, SUITE 204\"\n",
    "s = s.split(',')\n",
    "s[0]"
   ]
  },
  {
   "cell_type": "code",
   "execution_count": 4,
   "metadata": {},
   "outputs": [],
   "source": [
    "import geocoder as geo"
   ]
  },
  {
   "cell_type": "code",
   "execution_count": 10,
   "metadata": {},
   "outputs": [],
   "source": [
    "g = geo.osm(\"3700 Centerpoint Drive, ANCHORAGE, AK\")"
   ]
  },
  {
   "cell_type": "code",
   "execution_count": 11,
   "metadata": {},
   "outputs": [],
   "source": [
    "g.latlng"
   ]
  },
  {
   "cell_type": "markdown",
   "metadata": {},
   "source": [
    "# Map"
   ]
  },
  {
   "cell_type": "code",
   "execution_count": 22,
   "metadata": {},
   "outputs": [],
   "source": [
    "import folium\n",
    "\n",
    "# create map\n",
    "m = folium.Map(location=geo.latlng, zoom_start=12)\n",
    "\n",
    "# global tooltip\n",
    "tooltip = 'Click for more info'\n",
    "\n",
    "# circle marker\n",
    "folium.CircleMarker(\n",
    "    location=geo.latlng,\n",
    "    radius=50,  # use for loan size? scale to size of loan? normalize these?\n",
    "    popup='50',  # loan value\n",
    "    color='blue',  # color according to some histogram?\n",
    "    fill=True,\n",
    "    fill_color='blue'\n",
    ").add_to(m)\n",
    "\n",
    "# generate map\n",
    "m.save('map.html')"
   ]
  },
  {
   "cell_type": "code",
   "execution_count": 53,
   "metadata": {},
   "outputs": [],
   "source": [
    "import folium as f"
   ]
  },
  {
   "cell_type": "markdown",
   "metadata": {},
   "source": [
    "# Separate by loan range"
   ]
  },
  {
   "cell_type": "code",
   "execution_count": 69,
   "metadata": {},
   "outputs": [],
   "source": [
    "loan = df_addr.iloc[0].LoanRange"
   ]
  },
  {
   "cell_type": "code",
   "execution_count": 71,
   "metadata": {},
   "outputs": [],
   "source": [
    "import re"
   ]
  },
  {
   "cell_type": "code",
   "execution_count": 83,
   "metadata": {},
   "outputs": [
    {
     "data": {
      "text/plain": [
       "'a $5-10 million'"
      ]
     },
     "execution_count": 83,
     "metadata": {},
     "output_type": "execute_result"
    }
   ],
   "source": [
    "loan"
   ]
  },
  {
   "cell_type": "code",
   "execution_count": 75,
   "metadata": {},
   "outputs": [],
   "source": [
    "dollars = re.compile(r\"(?P<amt>\\d+)|(?P<mag>million|thousand)\")"
   ]
  },
  {
   "cell_type": "code",
   "execution_count": 84,
   "metadata": {},
   "outputs": [
    {
     "data": {
      "text/plain": [
       "<re.Match object; span=(3, 4), match='5'>"
      ]
     },
     "execution_count": 84,
     "metadata": {},
     "output_type": "execute_result"
    }
   ],
   "source": [
    "re.search(dollars, loan)"
   ]
  },
  {
   "cell_type": "code",
   "execution_count": 94,
   "metadata": {},
   "outputs": [],
   "source": [
    "lr = loan_range = re.findall(dollars, loan)\n",
    "lr = str(1.*(int(lr[1][0]) + int(lr[0][0]))/2) + ' ' + lr[2][1]"
   ]
  },
  {
   "cell_type": "code",
   "execution_count": 104,
   "metadata": {},
   "outputs": [],
   "source": [
    "a = re.search(lr, r\"\\f\")"
   ]
  },
  {
   "cell_type": "code",
   "execution_count": 106,
   "metadata": {},
   "outputs": [
    {
     "data": {
      "text/plain": [
       "'7.5 million'"
      ]
     },
     "execution_count": 106,
     "metadata": {},
     "output_type": "execute_result"
    }
   ],
   "source": [
    "lr"
   ]
  },
  {
   "cell_type": "code",
   "execution_count": 60,
   "metadata": {},
   "outputs": [],
   "source": [
    "lat, long = geo[0]['geometry']['location']['lat'], geo[0]['geometry']['location']['lng']\n",
    "m = f.Map([lat, long], zoom_start=12)"
   ]
  },
  {
   "cell_type": "code",
   "execution_count": 109,
   "metadata": {},
   "outputs": [
    {
     "data": {
      "text/plain": [
       "<folium.vector_layers.CircleMarker at 0x2da094e71c8>"
      ]
     },
     "execution_count": 109,
     "metadata": {},
     "output_type": "execute_result"
    }
   ],
   "source": [
    "f.CircleMarker(\n",
    "    location=[lat, long],\n",
    "    radius=7.5,  # use for loan size? scale to size of loan? normalize these?\n",
    "    popup=str(lr),  # loan value\n",
    "    color='blue',  # color according to some histogram?\n",
    "    fill=True,\n",
    "    fill_color='blue'\n",
    ").add_to(m)"
   ]
  },
  {
   "cell_type": "code",
   "execution_count": 110,
   "metadata": {},
   "outputs": [],
   "source": [
    "m.save('ppp_test_map.html')"
   ]
  },
  {
   "cell_type": "code",
   "execution_count": null,
   "metadata": {},
   "outputs": [],
   "source": []
  }
 ],
 "metadata": {
  "kernelspec": {
   "display_name": "covid-ppp",
   "language": "python",
   "name": "covid-ppp"
  },
  "language_info": {
   "codemirror_mode": {
    "name": "ipython",
    "version": 3
   },
   "file_extension": ".py",
   "mimetype": "text/x-python",
   "name": "python",
   "nbconvert_exporter": "python",
   "pygments_lexer": "ipython3",
   "version": "3.8.5"
  }
 },
 "nbformat": 4,
 "nbformat_minor": 4
}
