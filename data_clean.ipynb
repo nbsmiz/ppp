{
 "cells": [
  {
   "cell_type": "code",
   "execution_count": 1,
   "metadata": {},
   "outputs": [],
   "source": [
    "import pandas as pd"
   ]
  },
  {
   "cell_type": "code",
   "execution_count": 39,
   "metadata": {},
   "outputs": [],
   "source": [
    "df_raw = pd.read_csv(\"data/ppp_loan_strip.csv\", index_col=0)"
   ]
  },
  {
   "cell_type": "code",
   "execution_count": 40,
   "metadata": {},
   "outputs": [
    {
     "data": {
      "text/plain": [
       "661218"
      ]
     },
     "execution_count": 40,
     "metadata": {},
     "output_type": "execute_result"
    }
   ],
   "source": [
    "len(df_raw)"
   ]
  },
  {
   "cell_type": "code",
   "execution_count": 12,
   "metadata": {},
   "outputs": [
    {
     "data": {
      "text/plain": [
       "LoanRange           0\n",
       "BusinessName        8\n",
       "Address            17\n",
       "City               15\n",
       "State               0\n",
       "Zip                16\n",
       "NAICSCode        6783\n",
       "BusinessType     1429\n",
       "JobsRetained    40506\n",
       "dtype: int64"
      ]
     },
     "execution_count": 12,
     "metadata": {},
     "output_type": "execute_result"
    }
   ],
   "source": [
    "df.isnull().sum()"
   ]
  },
  {
   "cell_type": "markdown",
   "metadata": {},
   "source": [
    "### Save and drop nulls\n",
    "Also saving csv's for loans with zero jobs retained reported"
   ]
  },
  {
   "cell_type": "code",
   "execution_count": 22,
   "metadata": {},
   "outputs": [],
   "source": [
    "na_addr = df[df['Address'].isna()]\n",
    "na_city = df[df['City'].isna()]\n",
    "na_zip = df[df['Zip'].isna()]\n",
    "na_jobs = df[df['JobsRetained'].isna()]\n",
    "zero_jobs = df[df['JobsRetained'] == 0]\n",
    "xx_state = df[df['State'] == \"XX\"]"
   ]
  },
  {
   "cell_type": "code",
   "execution_count": 38,
   "metadata": {},
   "outputs": [
    {
     "data": {
      "text/plain": [
       "((15, 9), (17, 9), (16, 9), (40506, 9), (48922, 9))"
      ]
     },
     "execution_count": 38,
     "metadata": {},
     "output_type": "execute_result"
    }
   ],
   "source": [
    "na_city.shape, na_addr.shape, na_zip.shape, na_jobs.shape, zero_jobs.shape"
   ]
  },
  {
   "cell_type": "code",
   "execution_count": 41,
   "metadata": {},
   "outputs": [
    {
     "data": {
      "text/plain": [
       "0.13524737681067364"
      ]
     },
     "execution_count": 41,
     "metadata": {},
     "output_type": "execute_result"
    }
   ],
   "source": [
    "no_jobs = (len(na_jobs) + len(zero_jobs))/len(df_raw)\n",
    "no_jobs"
   ]
  },
  {
   "cell_type": "markdown",
   "metadata": {},
   "source": [
    "There are 40,506 loans associated with no jobs retained reported and 48,922 loans associated with zero jobs retained reported. This accounts for over 13% of loans."
   ]
  },
  {
   "cell_type": "code",
   "execution_count": 14,
   "metadata": {},
   "outputs": [],
   "source": [
    "dropped = [na_addr, na_city, na_zip, na_jobs]"
   ]
  },
  {
   "cell_type": "code",
   "execution_count": 25,
   "metadata": {},
   "outputs": [],
   "source": [
    "na_addr.to_csv(\"data/na_addr.csv\")\n",
    "na_city.to_csv(\"data/na_city.csv\")\n",
    "na_zip.to_csv(\"data/na_zip.csv\")\n",
    "na_jobs.to_csv(\"data/na_jobs.csv\")\n",
    "zero_jobs.to_csv(\"data/zero_jobs.csv\")\n",
    "xx_state.to_csv(\"data/xx_state.csv\")"
   ]
  },
  {
   "cell_type": "code",
   "execution_count": 26,
   "metadata": {},
   "outputs": [],
   "source": [
    "df = df.dropna()"
   ]
  },
  {
   "cell_type": "markdown",
   "metadata": {},
   "source": [
    "## Convert loan range column to single-letter code\n",
    "There are five types:\n",
    "- A: \\$5-10 million\n",
    "- B: \\$2-5 million\n",
    "- C: \\$1-2 million\n",
    "- D: \\$350,000-1 million\n",
    "- E: \\$150,000-350,000\n",
    "\n",
    "Drop loan range column."
   ]
  },
  {
   "cell_type": "code",
   "execution_count": 30,
   "metadata": {},
   "outputs": [],
   "source": [
    "import re"
   ]
  },
  {
   "cell_type": "code",
   "execution_count": 34,
   "metadata": {},
   "outputs": [],
   "source": [
    "df['LoanCat'] = df.apply(lambda row: re.search(r\"[abcde]\", row['LoanRange'])[0], axis=1)\n",
    "df = df.drop(columns=\"LoanRange\")"
   ]
  },
  {
   "cell_type": "code",
   "execution_count": 58,
   "metadata": {},
   "outputs": [],
   "source": [
    "pickle.dump(df, open(\"data/loans_clean.pkd\", \"wb\"))"
   ]
  },
  {
   "cell_type": "markdown",
   "metadata": {},
   "source": [
    "### Save csv's for each loan category"
   ]
  },
  {
   "cell_type": "code",
   "execution_count": 49,
   "metadata": {},
   "outputs": [],
   "source": [
    "loan_type_list = ['a', 'b', 'c', 'd', 'e']\n",
    "\n",
    "for l_type in loan_type_list:\n",
    "    df[df['LoanCat'] == l_type].to_csv('data/loan_cat_' + l_type.capitalize() + '.csv')"
   ]
  },
  {
   "cell_type": "markdown",
   "metadata": {},
   "source": [
    "## Convert address to full address for geocoding\n",
    "`.split(',')` removes address appendices such as \"Suite A\", \"Room 17\", etc."
   ]
  },
  {
   "cell_type": "code",
   "execution_count": 43,
   "metadata": {},
   "outputs": [],
   "source": [
    "df['full_addr'] = df.apply(lambda row: (row['Address'].split(',')[0] + ', ' \n",
    "                            + row['City'] + ', ' + row['State']), axis=1)"
   ]
  },
  {
   "cell_type": "markdown",
   "metadata": {},
   "source": [
    "### Save csv's for individual loan categories with full addresses"
   ]
  },
  {
   "cell_type": "code",
   "execution_count": 50,
   "metadata": {},
   "outputs": [],
   "source": [
    "loan_type_list = ['a', 'b', 'c', 'd', 'e']\n",
    "\n",
    "for l_type in loan_type_list:\n",
    "    df[df['LoanCat'] == l_type].to_csv('data/addr_loan_cat_' + l_type.capitalize() + '.csv')"
   ]
  },
  {
   "cell_type": "code",
   "execution_count": 51,
   "metadata": {},
   "outputs": [],
   "source": [
    "import pickle"
   ]
  },
  {
   "cell_type": "code",
   "execution_count": 52,
   "metadata": {},
   "outputs": [],
   "source": [
    "for l_type in loan_type_list:\n",
    "    pickle.dump(df[df['LoanCat'] == l_type], open(\"data/addr_loan_cat_\" + l_type.capitalize() + \".pkd\", \"wb\"))"
   ]
  },
  {
   "cell_type": "code",
   "execution_count": null,
   "metadata": {},
   "outputs": [],
   "source": []
  }
 ],
 "metadata": {
  "kernelspec": {
   "display_name": "covid-ppp",
   "language": "python",
   "name": "covid-ppp"
  },
  "language_info": {
   "codemirror_mode": {
    "name": "ipython",
    "version": 3
   },
   "file_extension": ".py",
   "mimetype": "text/x-python",
   "name": "python",
   "nbconvert_exporter": "python",
   "pygments_lexer": "ipython3",
   "version": "3.8.5"
  }
 },
 "nbformat": 4,
 "nbformat_minor": 4
}
