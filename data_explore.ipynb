{
 "cells": [
  {
   "cell_type": "markdown",
   "metadata": {},
   "source": [
    "# PPP Loan Data > 150k"
   ]
  },
  {
   "cell_type": "code",
   "execution_count": 2,
   "metadata": {},
   "outputs": [],
   "source": [
    "import pandas as pd\n",
    "import pickle\n",
    "import geocoder as geo\n",
    "import folium as f\n",
    "import requests\n",
    "import re"
   ]
  },
  {
   "cell_type": "code",
   "execution_count": 29,
   "metadata": {},
   "outputs": [],
   "source": [
    "df_loan = pd.read_csv('data/ppp_150.csv')\n",
    "\n",
    "cols = ['LoanRange', 'BusinessName', 'Address', 'City', 'State', 'Zip', 'NAICSCode', 'BusinessType', 'JobsRetained']"
   ]
  },
  {
   "cell_type": "code",
   "execution_count": 30,
   "metadata": {},
   "outputs": [],
   "source": [
    "df_loan_strip = df_loan[cols]"
   ]
  },
  {
   "cell_type": "code",
   "execution_count": 28,
   "metadata": {},
   "outputs": [
    {
     "data": {
      "text/plain": [
       "5950962"
      ]
     },
     "execution_count": 28,
     "metadata": {},
     "output_type": "execute_result"
    }
   ],
   "source": [
    "df_loan_strip.size"
   ]
  },
  {
   "cell_type": "code",
   "execution_count": 8,
   "metadata": {},
   "outputs": [],
   "source": [
    "df_loan_strip.to_json('data/ppp_loan_strip.json')"
   ]
  },
  {
   "cell_type": "code",
   "execution_count": 1,
   "metadata": {},
   "outputs": [
    {
     "ename": "NameError",
     "evalue": "name 'df_loan_strip' is not defined",
     "output_type": "error",
     "traceback": [
      "\u001b[1;31m---------------------------------------------------------------------------\u001b[0m",
      "\u001b[1;31mNameError\u001b[0m                                 Traceback (most recent call last)",
      "\u001b[1;32m<ipython-input-1-a13a24581a0e>\u001b[0m in \u001b[0;36m<module>\u001b[1;34m\u001b[0m\n\u001b[1;32m----> 1\u001b[1;33m \u001b[0mdf_loan_strip\u001b[0m\u001b[1;33m.\u001b[0m\u001b[0mto_csv\u001b[0m\u001b[1;33m(\u001b[0m\u001b[1;34m'data/ppp_loan_strip.csv'\u001b[0m\u001b[1;33m)\u001b[0m\u001b[1;33m\u001b[0m\u001b[1;33m\u001b[0m\u001b[0m\n\u001b[0m",
      "\u001b[1;31mNameError\u001b[0m: name 'df_loan_strip' is not defined"
     ]
    }
   ],
   "source": [
    "df_loan_strip.to_csv('data/ppp_loan_strip.csv')"
   ]
  },
  {
   "cell_type": "code",
   "execution_count": 5,
   "metadata": {},
   "outputs": [],
   "source": [
    "df_loan_strip = pd.read_csv(\"data/ppp_loan_strip.csv\", index_col=0)"
   ]
  },
  {
   "cell_type": "code",
   "execution_count": 7,
   "metadata": {},
   "outputs": [
    {
     "data": {
      "text/plain": [
       "(661218, 9)"
      ]
     },
     "execution_count": 7,
     "metadata": {},
     "output_type": "execute_result"
    }
   ],
   "source": [
    "df_loan_strip.shape"
   ]
  },
  {
   "cell_type": "code",
   "execution_count": 17,
   "metadata": {},
   "outputs": [
    {
     "data": {
      "text/plain": [
       "LoanRange           0\n",
       "BusinessName        8\n",
       "Address            17\n",
       "City               15\n",
       "State               0\n",
       "Zip                16\n",
       "NAICSCode        6783\n",
       "BusinessType     1429\n",
       "JobsRetained    40506\n",
       "dtype: int64"
      ]
     },
     "execution_count": 17,
     "metadata": {},
     "output_type": "execute_result"
    }
   ],
   "source": [
    "df_loan_strip.isnull().sum()"
   ]
  },
  {
   "cell_type": "code",
   "execution_count": 4,
   "metadata": {},
   "outputs": [
    {
     "ename": "NameError",
     "evalue": "name 'df_loan_strip' is not defined",
     "output_type": "error",
     "traceback": [
      "\u001b[1;31m---------------------------------------------------------------------------\u001b[0m",
      "\u001b[1;31mNameError\u001b[0m                                 Traceback (most recent call last)",
      "\u001b[1;32m<ipython-input-4-f0e57a65e2d0>\u001b[0m in \u001b[0;36m<module>\u001b[1;34m\u001b[0m\n\u001b[1;32m----> 1\u001b[1;33m \u001b[0mdf_loan_strip\u001b[0m\u001b[1;33m.\u001b[0m\u001b[0msort_values\u001b[0m\u001b[1;33m(\u001b[0m\u001b[0mby\u001b[0m\u001b[1;33m=\u001b[0m\u001b[1;34m'LoanRange'\u001b[0m\u001b[1;33m)\u001b[0m\u001b[1;33m\u001b[0m\u001b[1;33m\u001b[0m\u001b[0m\n\u001b[0m",
      "\u001b[1;31mNameError\u001b[0m: name 'df_loan_strip' is not defined"
     ]
    }
   ],
   "source": [
    "df_loan_strip.sort_values(by='LoanRange')"
   ]
  },
  {
   "cell_type": "markdown",
   "metadata": {},
   "source": [
    "# Create Loan Type Category Column"
   ]
  },
  {
   "cell_type": "code",
   "execution_count": 46,
   "metadata": {},
   "outputs": [
    {
     "name": "stderr",
     "output_type": "stream",
     "text": [
      "<ipython-input-46-c732ee95b3bb>:1: SettingWithCopyWarning: \n",
      "A value is trying to be set on a copy of a slice from a DataFrame.\n",
      "Try using .loc[row_indexer,col_indexer] = value instead\n",
      "\n",
      "See the caveats in the documentation: https://pandas.pydata.org/pandas-docs/stable/user_guide/indexing.html#returning-a-view-versus-a-copy\n",
      "  df_loan_strip['LoanCat'] = df_loan_strip.apply(lambda row: re.search(r\"[abcde]\", row['LoanRange'])[0], axis=1)\n"
     ]
    }
   ],
   "source": [
    "df_loan_strip['LoanCat'] = df_loan_strip.apply(lambda row: re.search(r\"[abcde]\", row['LoanRange'])[0], axis=1)"
   ]
  },
  {
   "cell_type": "code",
   "execution_count": 47,
   "metadata": {},
   "outputs": [],
   "source": [
    "del df_loan_strip['LoanRange']"
   ]
  },
  {
   "cell_type": "code",
   "execution_count": 105,
   "metadata": {},
   "outputs": [],
   "source": [
    "na_addr = df_loan_strip[df_loan_strip['Address'].isna()]\n",
    "na_city = df_loan_strip[df_loan_strip['City'].isna()]\n",
    "na_zip = df_loan_strip[df_loan_strip['Zip'].isna()]\n",
    "na_jobs = df_loan_strip[df_loan_strip['JobsRetained'].isna()]\n",
    "zero_jobs = df_loan_strip[df_loan_strip['JobsRetained'] == 0]"
   ]
  },
  {
   "cell_type": "code",
   "execution_count": 106,
   "metadata": {},
   "outputs": [
    {
     "data": {
      "text/plain": [
       "((15, 9), (17, 9), (16, 9), (40506, 9), (48922, 9))"
      ]
     },
     "execution_count": 106,
     "metadata": {},
     "output_type": "execute_result"
    }
   ],
   "source": [
    "na_city.shape, na_addr.shape, na_zip.shape, na_jobs.shape, zero_jobs.shape"
   ]
  },
  {
   "cell_type": "code",
   "execution_count": 111,
   "metadata": {},
   "outputs": [],
   "source": [
    "loan_type_list = ['a', 'b', 'c', 'd', 'e']\n",
    "\n",
    "for l_type in loan_type_list:\n",
    "    df_loan_strip[df_loan_strip['LoanCat'] == l_type].to_csv('data/loan_strip_cat' + l_type.capitalize() + '.csv')"
   ]
  },
  {
   "cell_type": "markdown",
   "metadata": {},
   "source": [
    "### 13% of borrowers reported zero jobs retained"
   ]
  },
  {
   "cell_type": "code",
   "execution_count": 4,
   "metadata": {},
   "outputs": [
    {
     "data": {
      "text/plain": [
       "0.06125967532644302"
      ]
     },
     "execution_count": 4,
     "metadata": {},
     "output_type": "execute_result"
    }
   ],
   "source": [
    "df_loan_strip[df_loan_strip['JobsRetained'].isna()].size/df_loan_strip.size"
   ]
  },
  {
   "cell_type": "code",
   "execution_count": 5,
   "metadata": {},
   "outputs": [
    {
     "data": {
      "text/plain": [
       "0.07398770148423062"
      ]
     },
     "execution_count": 5,
     "metadata": {},
     "output_type": "execute_result"
    }
   ],
   "source": [
    "df_loan_strip[df_loan_strip['JobsRetained'] == 0].size/df_loan_strip.size"
   ]
  },
  {
   "cell_type": "markdown",
   "metadata": {},
   "source": [
    "### Remove null and invalid states"
   ]
  },
  {
   "cell_type": "code",
   "execution_count": 15,
   "metadata": {},
   "outputs": [],
   "source": [
    "df_addr = df_loan[['LoanRange', 'Address', 'City', 'State', 'Zip']].dropna()"
   ]
  },
  {
   "cell_type": "code",
   "execution_count": 16,
   "metadata": {},
   "outputs": [
    {
     "data": {
      "text/html": [
       "<div>\n",
       "<style scoped>\n",
       "    .dataframe tbody tr th:only-of-type {\n",
       "        vertical-align: middle;\n",
       "    }\n",
       "\n",
       "    .dataframe tbody tr th {\n",
       "        vertical-align: top;\n",
       "    }\n",
       "\n",
       "    .dataframe thead th {\n",
       "        text-align: right;\n",
       "    }\n",
       "</style>\n",
       "<table border=\"1\" class=\"dataframe\">\n",
       "  <thead>\n",
       "    <tr style=\"text-align: right;\">\n",
       "      <th></th>\n",
       "      <th>LoanRange</th>\n",
       "      <th>Address</th>\n",
       "      <th>City</th>\n",
       "      <th>State</th>\n",
       "      <th>Zip</th>\n",
       "    </tr>\n",
       "  </thead>\n",
       "  <tbody>\n",
       "    <tr>\n",
       "      <th>661203</th>\n",
       "      <td>d $350,000-1 million</td>\n",
       "      <td>1850 BOYER AVE E</td>\n",
       "      <td>SEATTLE</td>\n",
       "      <td>XX</td>\n",
       "      <td>98112.0</td>\n",
       "    </tr>\n",
       "    <tr>\n",
       "      <th>661204</th>\n",
       "      <td>d $350,000-1 million</td>\n",
       "      <td>1661 MARTIN RANCH RD</td>\n",
       "      <td>SAN BERNARDINO</td>\n",
       "      <td>XX</td>\n",
       "      <td>92407.0</td>\n",
       "    </tr>\n",
       "    <tr>\n",
       "      <th>661205</th>\n",
       "      <td>d $350,000-1 million</td>\n",
       "      <td>7684 Southrail Road</td>\n",
       "      <td>NORTH CHARLESTON</td>\n",
       "      <td>XX</td>\n",
       "      <td>29420.0</td>\n",
       "    </tr>\n",
       "    <tr>\n",
       "      <th>661206</th>\n",
       "      <td>d $350,000-1 million</td>\n",
       "      <td>2410 Highway 15 South</td>\n",
       "      <td>SUMTER</td>\n",
       "      <td>XX</td>\n",
       "      <td>29150.0</td>\n",
       "    </tr>\n",
       "    <tr>\n",
       "      <th>661209</th>\n",
       "      <td>e $150,000-350,000</td>\n",
       "      <td>501 State Road 13</td>\n",
       "      <td>SAINT JOHNS</td>\n",
       "      <td>XX</td>\n",
       "      <td>32259.0</td>\n",
       "    </tr>\n",
       "  </tbody>\n",
       "</table>\n",
       "</div>"
      ],
      "text/plain": [
       "                   LoanRange                Address              City State  \\\n",
       "661203  d $350,000-1 million       1850 BOYER AVE E           SEATTLE    XX   \n",
       "661204  d $350,000-1 million   1661 MARTIN RANCH RD    SAN BERNARDINO    XX   \n",
       "661205  d $350,000-1 million    7684 Southrail Road  NORTH CHARLESTON    XX   \n",
       "661206  d $350,000-1 million  2410 Highway 15 South            SUMTER    XX   \n",
       "661209    e $150,000-350,000      501 State Road 13       SAINT JOHNS    XX   \n",
       "\n",
       "            Zip  \n",
       "661203  98112.0  \n",
       "661204  92407.0  \n",
       "661205  29420.0  \n",
       "661206  29150.0  \n",
       "661209  32259.0  "
      ]
     },
     "execution_count": 16,
     "metadata": {},
     "output_type": "execute_result"
    }
   ],
   "source": [
    "df_addr[df_addr['State'] == 'XX']"
   ]
  },
  {
   "cell_type": "code",
   "execution_count": 17,
   "metadata": {},
   "outputs": [],
   "source": [
    "df_addr = df_addr[df_addr['State'] != 'XX']"
   ]
  },
  {
   "cell_type": "code",
   "execution_count": 18,
   "metadata": {},
   "outputs": [
    {
     "data": {
      "text/plain": [
       "661195"
      ]
     },
     "execution_count": 18,
     "metadata": {},
     "output_type": "execute_result"
    }
   ],
   "source": [
    "len(df_addr)"
   ]
  },
  {
   "cell_type": "markdown",
   "metadata": {},
   "source": [
    "# Geocoder lib"
   ]
  },
  {
   "cell_type": "markdown",
   "metadata": {},
   "source": [
    "## Get address for A-Class loans"
   ]
  },
  {
   "cell_type": "code",
   "execution_count": 5,
   "metadata": {},
   "outputs": [],
   "source": [
    "a_addr = pd.read_csv('data/loan_strip_catA.csv', index_col=0)"
   ]
  },
  {
   "cell_type": "code",
   "execution_count": 13,
   "metadata": {},
   "outputs": [
    {
     "data": {
      "text/plain": [
       "4840"
      ]
     },
     "execution_count": 13,
     "metadata": {},
     "output_type": "execute_result"
    }
   ],
   "source": [
    "len(a_addr)"
   ]
  },
  {
   "cell_type": "markdown",
   "metadata": {},
   "source": [
    "def construct_full_addr(row):\n",
    "    a_addr['full_addr'] = ((row['Address'].split(',')[0] + ', ' \n",
    "                            + row['City'] + ', ' + row['State']))"
   ]
  },
  {
   "cell_type": "markdown",
   "metadata": {},
   "source": [
    "### Construct Full Addresses\n",
    "\n",
    "`.split(',')` removes address appendices such as \"Suite A\", \"Room 17\", etc."
   ]
  },
  {
   "cell_type": "code",
   "execution_count": 7,
   "metadata": {},
   "outputs": [],
   "source": [
    "a_addr['full_addr'] = a_addr.apply(lambda row: (row['Address'].split(',')[0] + ', ' \n",
    "                            + row['City'] + ', ' + row['State']), axis=1)"
   ]
  },
  {
   "cell_type": "markdown",
   "metadata": {},
   "source": [
    "### Get latitude and longitude for addresses of recipients of A-class loans ($5-10 million)"
   ]
  },
  {
   "cell_type": "code",
   "execution_count": 46,
   "metadata": {},
   "outputs": [],
   "source": [
    "with requests.Session() as session:\n",
    "    a_addr['latlng'] = a_addr.apply(lambda row: geo.osm(row['full_addr'], session=session).latlng, axis=1)"
   ]
  },
  {
   "cell_type": "code",
   "execution_count": null,
   "metadata": {},
   "outputs": [],
   "source": [
    "pickle.dump(a_addr, open(\"a_adrr.pkd\", \"wb\"))"
   ]
  },
  {
   "cell_type": "code",
   "execution_count": 24,
   "metadata": {},
   "outputs": [],
   "source": [
    "a_addr = pickle.load(open(\"static/a_latlng.pkd\", \"rb\"))"
   ]
  },
  {
   "cell_type": "code",
   "execution_count": 26,
   "metadata": {},
   "outputs": [
    {
     "data": {
      "text/plain": [
       "((4840, 11), (1770, 11))"
      ]
     },
     "execution_count": 26,
     "metadata": {},
     "output_type": "execute_result"
    }
   ],
   "source": [
    "a_addr.shape, a_addr[a_addr['latlng'].isna()].shape"
   ]
  },
  {
   "cell_type": "markdown",
   "metadata": {},
   "source": [
    "## Get latlng for B-class loans"
   ]
  },
  {
   "cell_type": "code",
   "execution_count": 6,
   "metadata": {},
   "outputs": [],
   "source": [
    "b_addr = pd.read_csv('data/loan_strip_catB.csv', index_col=0)"
   ]
  },
  {
   "cell_type": "code",
   "execution_count": 7,
   "metadata": {},
   "outputs": [
    {
     "data": {
      "text/plain": [
       "24838"
      ]
     },
     "execution_count": 7,
     "metadata": {},
     "output_type": "execute_result"
    }
   ],
   "source": [
    "len(b_addr)"
   ]
  },
  {
   "cell_type": "markdown",
   "metadata": {},
   "source": [
    "### Construct Full Address Column"
   ]
  },
  {
   "cell_type": "code",
   "execution_count": 12,
   "metadata": {},
   "outputs": [],
   "source": [
    "b_addr['full_addr'] = b_addr.apply(lambda row: (row['Address'].split(',')[0] + ', ' \n",
    "                            + row['City'] + ', ' + row['State']), axis=1)"
   ]
  },
  {
   "cell_type": "markdown",
   "metadata": {},
   "source": [
    "### Request Latlng"
   ]
  },
  {
   "cell_type": "code",
   "execution_count": 23,
   "metadata": {},
   "outputs": [],
   "source": [
    "with requests.Session() as session:\n",
    "    b_addr['latlng'] = b_addr.apply(lambda row: geo.osm(row['full_addr'], session=session).latlng, axis=1)"
   ]
  },
  {
   "cell_type": "code",
   "execution_count": 25,
   "metadata": {},
   "outputs": [],
   "source": [
    "pickle.dump(b_addr, open(\"static/b_addr.pkd\", \"wb\"))"
   ]
  },
  {
   "cell_type": "code",
   "execution_count": 19,
   "metadata": {},
   "outputs": [],
   "source": [
    "b_addr = pickle.load(open(\"static/b_addr.pkd\", \"rb\"))"
   ]
  },
  {
   "cell_type": "code",
   "execution_count": 23,
   "metadata": {},
   "outputs": [
    {
     "data": {
      "text/plain": [
       "((24838, 11), (0, 11))"
      ]
     },
     "execution_count": 23,
     "metadata": {},
     "output_type": "execute_result"
    }
   ],
   "source": [
    "b_addr.shape, b_addr[b_addr['latlng'] ==].shape"
   ]
  },
  {
   "cell_type": "markdown",
   "metadata": {},
   "source": [
    "### Pickling"
   ]
  },
  {
   "cell_type": "markdown",
   "metadata": {},
   "source": [
    "### Useful function for checking actual size of an object"
   ]
  },
  {
   "cell_type": "markdown",
   "metadata": {},
   "source": [
    "https://stackoverflow.com/questions/449560/how-do-i-determine-the-size-of-an-object-in-python"
   ]
  },
  {
   "cell_type": "code",
   "execution_count": 61,
   "metadata": {},
   "outputs": [],
   "source": [
    "import sys\n",
    "from types import ModuleType, FunctionType\n",
    "from gc import get_referents\n",
    "\n",
    "# Custom objects know their class.\n",
    "# Function objects seem to know way too much, including modules.\n",
    "# Exclude modules as well.\n",
    "BLACKLIST = type, ModuleType, FunctionType\n",
    "\n",
    "\n",
    "def getsize(obj):\n",
    "    \"\"\"sum size of object & members.\"\"\"\n",
    "    if isinstance(obj, BLACKLIST):\n",
    "        raise TypeError('getsize() does not take argument of type: '+ str(type(obj)))\n",
    "    seen_ids = set()\n",
    "    size = 0\n",
    "    objects = [obj]\n",
    "    while objects:\n",
    "        need_referents = []\n",
    "        for obj in objects:\n",
    "            if not isinstance(obj, BLACKLIST) and id(obj) not in seen_ids:\n",
    "                seen_ids.add(id(obj))\n",
    "                size += sys.getsizeof(obj)\n",
    "                need_referents.append(obj)\n",
    "        objects = get_referents(*need_referents)\n",
    "    return size"
   ]
  },
  {
   "cell_type": "markdown",
   "metadata": {},
   "source": [
    "# Map"
   ]
  },
  {
   "cell_type": "code",
   "execution_count": 70,
   "metadata": {},
   "outputs": [],
   "source": [
    "# create map\n",
    "m = f.Map(location=[44.58, -103.46], zoom_start=3)\n",
    "\n",
    "# global tooltip\n",
    "tooltip = 'Click for more info'\n",
    "\n",
    "# generate map\n",
    "m.save('map.html')"
   ]
  },
  {
   "cell_type": "code",
   "execution_count": 71,
   "metadata": {},
   "outputs": [],
   "source": [
    "def add_aClass_loans(latlng):\n",
    "    f.CircleMarker(\n",
    "        location=latlng,\n",
    "        radius=2,  # use for loan size? scale to size of loan? normalize these?\n",
    "        popup=\"$5-10 Million\",  # loan value\n",
    "        color='blue',  # color according to some histogram?\n",
    "        fill=False,\n",
    "        fill_color='blue'\n",
    "    ).add_to(m)"
   ]
  },
  {
   "cell_type": "code",
   "execution_count": 72,
   "metadata": {},
   "outputs": [],
   "source": [
    "def add_loans_to_map():\n",
    "    for i in a_latlng.itertuples():\n",
    "        if i.latlng != None:\n",
    "            add_aClass_loans(i.latlng)\n",
    "#             print(i.latlng)"
   ]
  },
  {
   "cell_type": "code",
   "execution_count": 35,
   "metadata": {
    "collapsed": true
   },
   "outputs": [
    {
     "data": {
      "text/html": [
       "<div>\n",
       "<style scoped>\n",
       "    .dataframe tbody tr th:only-of-type {\n",
       "        vertical-align: middle;\n",
       "    }\n",
       "\n",
       "    .dataframe tbody tr th {\n",
       "        vertical-align: top;\n",
       "    }\n",
       "\n",
       "    .dataframe thead th {\n",
       "        text-align: right;\n",
       "    }\n",
       "</style>\n",
       "<table border=\"1\" class=\"dataframe\">\n",
       "  <thead>\n",
       "    <tr style=\"text-align: right;\">\n",
       "      <th></th>\n",
       "      <th>BusinessName</th>\n",
       "      <th>Address</th>\n",
       "      <th>City</th>\n",
       "      <th>State</th>\n",
       "      <th>Zip</th>\n",
       "      <th>NAICSCode</th>\n",
       "      <th>BusinessType</th>\n",
       "      <th>JobsRetained</th>\n",
       "      <th>LoanCat</th>\n",
       "      <th>full_addr</th>\n",
       "      <th>latlng</th>\n",
       "    </tr>\n",
       "  </thead>\n",
       "  <tbody>\n",
       "    <tr>\n",
       "      <th>5</th>\n",
       "      <td>NANA WORLEY, LLC</td>\n",
       "      <td>3700 Centerpoint Drive, 7th floor</td>\n",
       "      <td>ANCHORAGE</td>\n",
       "      <td>AK</td>\n",
       "      <td>99503.0</td>\n",
       "      <td>541330.0</td>\n",
       "      <td>Limited  Liability Company(LLC)</td>\n",
       "      <td>231.0</td>\n",
       "      <td>a</td>\n",
       "      <td>3700 Centerpoint Drive, ANCHORAGE, AK</td>\n",
       "      <td>None</td>\n",
       "    </tr>\n",
       "    <tr>\n",
       "      <th>11</th>\n",
       "      <td>YULISTA TACTICAL, LLC</td>\n",
       "      <td>5015 BUSINESS PARK BLVD Suite 3000</td>\n",
       "      <td>ANCHORAGE</td>\n",
       "      <td>AK</td>\n",
       "      <td>99503.0</td>\n",
       "      <td>541614.0</td>\n",
       "      <td>Limited  Liability Company(LLC)</td>\n",
       "      <td>220.0</td>\n",
       "      <td>a</td>\n",
       "      <td>5015 BUSINESS PARK BLVD Suite 3000, ANCHORAGE, AK</td>\n",
       "      <td>None</td>\n",
       "    </tr>\n",
       "    <tr>\n",
       "      <th>13</th>\n",
       "      <td>ALLIANCE HR, INC</td>\n",
       "      <td>307 CLINTON AVE suite 200</td>\n",
       "      <td>HUNTSVILLE</td>\n",
       "      <td>AL</td>\n",
       "      <td>35801.0</td>\n",
       "      <td>561311.0</td>\n",
       "      <td>Corporation</td>\n",
       "      <td>443.0</td>\n",
       "      <td>a</td>\n",
       "      <td>307 CLINTON AVE suite 200, HUNTSVILLE, AL</td>\n",
       "      <td>None</td>\n",
       "    </tr>\n",
       "    <tr>\n",
       "      <th>19</th>\n",
       "      <td>ATS OPERATING LLC</td>\n",
       "      <td>1900 CRESTWOOD BLVD SUITE 302</td>\n",
       "      <td>IRONDALE</td>\n",
       "      <td>AL</td>\n",
       "      <td>35210.0</td>\n",
       "      <td>453310.0</td>\n",
       "      <td>Limited  Liability Company(LLC)</td>\n",
       "      <td>250.0</td>\n",
       "      <td>a</td>\n",
       "      <td>1900 CRESTWOOD BLVD SUITE 302, IRONDALE, AL</td>\n",
       "      <td>None</td>\n",
       "    </tr>\n",
       "    <tr>\n",
       "      <th>22</th>\n",
       "      <td>BEVILACQUA RESEARCH CORPORATION</td>\n",
       "      <td>4901 CORPORATE DR Ste B</td>\n",
       "      <td>HUNTSVILLE</td>\n",
       "      <td>AL</td>\n",
       "      <td>35805.0</td>\n",
       "      <td>541330.0</td>\n",
       "      <td>Corporation</td>\n",
       "      <td>343.0</td>\n",
       "      <td>a</td>\n",
       "      <td>4901 CORPORATE DR Ste B, HUNTSVILLE, AL</td>\n",
       "      <td>None</td>\n",
       "    </tr>\n",
       "    <tr>\n",
       "      <th>...</th>\n",
       "      <td>...</td>\n",
       "      <td>...</td>\n",
       "      <td>...</td>\n",
       "      <td>...</td>\n",
       "      <td>...</td>\n",
       "      <td>...</td>\n",
       "      <td>...</td>\n",
       "      <td>...</td>\n",
       "      <td>...</td>\n",
       "      <td>...</td>\n",
       "      <td>...</td>\n",
       "    </tr>\n",
       "    <tr>\n",
       "      <th>4826</th>\n",
       "      <td>LEXINGTON COAL COMPANY, INC</td>\n",
       "      <td>1051 Main St</td>\n",
       "      <td>MILTON</td>\n",
       "      <td>WV</td>\n",
       "      <td>25541.0</td>\n",
       "      <td>213113.0</td>\n",
       "      <td>Limited  Liability Company(LLC)</td>\n",
       "      <td>139.0</td>\n",
       "      <td>a</td>\n",
       "      <td>1051 Main St, MILTON, WV</td>\n",
       "      <td>None</td>\n",
       "    </tr>\n",
       "    <tr>\n",
       "      <th>4828</th>\n",
       "      <td>NOBORNE PRESCHOOL AND DAYCARE CENTER</td>\n",
       "      <td>200 KING ST</td>\n",
       "      <td>MARTINSBURG</td>\n",
       "      <td>WV</td>\n",
       "      <td>25401.0</td>\n",
       "      <td>624410.0</td>\n",
       "      <td>Non-Profit Organization</td>\n",
       "      <td>17.0</td>\n",
       "      <td>a</td>\n",
       "      <td>200 KING ST, MARTINSBURG, WV</td>\n",
       "      <td>None</td>\n",
       "    </tr>\n",
       "    <tr>\n",
       "      <th>4831</th>\n",
       "      <td>TRITON CONSTRUCTION INC</td>\n",
       "      <td>1944 WINFIELD RD</td>\n",
       "      <td>SAINT ALBANS</td>\n",
       "      <td>WV</td>\n",
       "      <td>25177.0</td>\n",
       "      <td>237310.0</td>\n",
       "      <td>Subchapter S Corporation</td>\n",
       "      <td>264.0</td>\n",
       "      <td>a</td>\n",
       "      <td>1944 WINFIELD RD, SAINT ALBANS, WV</td>\n",
       "      <td>None</td>\n",
       "    </tr>\n",
       "    <tr>\n",
       "      <th>4832</th>\n",
       "      <td>CYCLONE DRILLING, INC.</td>\n",
       "      <td>5800 Mohan Road PO Box 908</td>\n",
       "      <td>GILLETTE</td>\n",
       "      <td>WY</td>\n",
       "      <td>82717.0</td>\n",
       "      <td>213112.0</td>\n",
       "      <td>Corporation</td>\n",
       "      <td>364.0</td>\n",
       "      <td>a</td>\n",
       "      <td>5800 Mohan Road PO Box 908, GILLETTE, WY</td>\n",
       "      <td>None</td>\n",
       "    </tr>\n",
       "    <tr>\n",
       "      <th>4833</th>\n",
       "      <td>EAGLE SPECIALTY MATERIALS LLC</td>\n",
       "      <td>PO Box 3039</td>\n",
       "      <td>GILLETTE</td>\n",
       "      <td>WY</td>\n",
       "      <td>82718.0</td>\n",
       "      <td>212393.0</td>\n",
       "      <td>Limited  Liability Company(LLC)</td>\n",
       "      <td>250.0</td>\n",
       "      <td>a</td>\n",
       "      <td>PO Box 3039, GILLETTE, WY</td>\n",
       "      <td>None</td>\n",
       "    </tr>\n",
       "  </tbody>\n",
       "</table>\n",
       "<p>1770 rows × 11 columns</p>\n",
       "</div>"
      ],
      "text/plain": [
       "                              BusinessName  \\\n",
       "5                         NANA WORLEY, LLC   \n",
       "11                   YULISTA TACTICAL, LLC   \n",
       "13                        ALLIANCE HR, INC   \n",
       "19                       ATS OPERATING LLC   \n",
       "22         BEVILACQUA RESEARCH CORPORATION   \n",
       "...                                    ...   \n",
       "4826           LEXINGTON COAL COMPANY, INC   \n",
       "4828  NOBORNE PRESCHOOL AND DAYCARE CENTER   \n",
       "4831               TRITON CONSTRUCTION INC   \n",
       "4832                CYCLONE DRILLING, INC.   \n",
       "4833         EAGLE SPECIALTY MATERIALS LLC   \n",
       "\n",
       "                                 Address          City State      Zip  \\\n",
       "5      3700 Centerpoint Drive, 7th floor     ANCHORAGE    AK  99503.0   \n",
       "11    5015 BUSINESS PARK BLVD Suite 3000     ANCHORAGE    AK  99503.0   \n",
       "13             307 CLINTON AVE suite 200    HUNTSVILLE    AL  35801.0   \n",
       "19         1900 CRESTWOOD BLVD SUITE 302      IRONDALE    AL  35210.0   \n",
       "22               4901 CORPORATE DR Ste B    HUNTSVILLE    AL  35805.0   \n",
       "...                                  ...           ...   ...      ...   \n",
       "4826                        1051 Main St        MILTON    WV  25541.0   \n",
       "4828                         200 KING ST   MARTINSBURG    WV  25401.0   \n",
       "4831                    1944 WINFIELD RD  SAINT ALBANS    WV  25177.0   \n",
       "4832          5800 Mohan Road PO Box 908      GILLETTE    WY  82717.0   \n",
       "4833                         PO Box 3039      GILLETTE    WY  82718.0   \n",
       "\n",
       "      NAICSCode                     BusinessType  JobsRetained LoanCat  \\\n",
       "5      541330.0  Limited  Liability Company(LLC)         231.0       a   \n",
       "11     541614.0  Limited  Liability Company(LLC)         220.0       a   \n",
       "13     561311.0                      Corporation         443.0       a   \n",
       "19     453310.0  Limited  Liability Company(LLC)         250.0       a   \n",
       "22     541330.0                      Corporation         343.0       a   \n",
       "...         ...                              ...           ...     ...   \n",
       "4826   213113.0  Limited  Liability Company(LLC)         139.0       a   \n",
       "4828   624410.0          Non-Profit Organization          17.0       a   \n",
       "4831   237310.0         Subchapter S Corporation         264.0       a   \n",
       "4832   213112.0                      Corporation         364.0       a   \n",
       "4833   212393.0  Limited  Liability Company(LLC)         250.0       a   \n",
       "\n",
       "                                              full_addr latlng  \n",
       "5                 3700 Centerpoint Drive, ANCHORAGE, AK   None  \n",
       "11    5015 BUSINESS PARK BLVD Suite 3000, ANCHORAGE, AK   None  \n",
       "13            307 CLINTON AVE suite 200, HUNTSVILLE, AL   None  \n",
       "19          1900 CRESTWOOD BLVD SUITE 302, IRONDALE, AL   None  \n",
       "22              4901 CORPORATE DR Ste B, HUNTSVILLE, AL   None  \n",
       "...                                                 ...    ...  \n",
       "4826                           1051 Main St, MILTON, WV   None  \n",
       "4828                       200 KING ST, MARTINSBURG, WV   None  \n",
       "4831                 1944 WINFIELD RD, SAINT ALBANS, WV   None  \n",
       "4832           5800 Mohan Road PO Box 908, GILLETTE, WY   None  \n",
       "4833                          PO Box 3039, GILLETTE, WY   None  \n",
       "\n",
       "[1770 rows x 11 columns]"
      ]
     },
     "execution_count": 35,
     "metadata": {},
     "output_type": "execute_result"
    }
   ],
   "source": [
    "a_latlng[a_latlng['latlng'].isna()]"
   ]
  },
  {
   "cell_type": "code",
   "execution_count": 73,
   "metadata": {},
   "outputs": [],
   "source": [
    "add_loans_to_map()"
   ]
  },
  {
   "cell_type": "code",
   "execution_count": 74,
   "metadata": {},
   "outputs": [],
   "source": [
    "m.save('map.html')"
   ]
  },
  {
   "cell_type": "markdown",
   "metadata": {},
   "source": [
    "# Separate by loan range"
   ]
  },
  {
   "cell_type": "code",
   "execution_count": 75,
   "metadata": {},
   "outputs": [],
   "source": [
    "dollars = re.compile(r\"(?P<amt>\\d+)|(?P<mag>million|thousand)\")"
   ]
  },
  {
   "cell_type": "code",
   "execution_count": 84,
   "metadata": {},
   "outputs": [
    {
     "data": {
      "text/plain": [
       "<re.Match object; span=(3, 4), match='5'>"
      ]
     },
     "execution_count": 84,
     "metadata": {},
     "output_type": "execute_result"
    }
   ],
   "source": [
    "re.search(dollars, loan)"
   ]
  },
  {
   "cell_type": "code",
   "execution_count": 94,
   "metadata": {},
   "outputs": [],
   "source": [
    "lr = loan_range = re.findall(dollars, loan)\n",
    "lr = str(1.*(int(lr[1][0]) + int(lr[0][0]))/2) + ' ' + lr[2][1]"
   ]
  },
  {
   "cell_type": "code",
   "execution_count": 104,
   "metadata": {},
   "outputs": [],
   "source": [
    "a = re.search(lr, r\"\\f\")"
   ]
  },
  {
   "cell_type": "code",
   "execution_count": 106,
   "metadata": {},
   "outputs": [
    {
     "data": {
      "text/plain": [
       "'7.5 million'"
      ]
     },
     "execution_count": 106,
     "metadata": {},
     "output_type": "execute_result"
    }
   ],
   "source": [
    "lr"
   ]
  },
  {
   "cell_type": "code",
   "execution_count": 60,
   "metadata": {},
   "outputs": [],
   "source": [
    "lat, long = geo[0]['geometry']['location']['lat'], geo[0]['geometry']['location']['lng']\n",
    "m = f.Map([lat, long], zoom_start=12)"
   ]
  },
  {
   "cell_type": "code",
   "execution_count": 109,
   "metadata": {},
   "outputs": [
    {
     "data": {
      "text/plain": [
       "<folium.vector_layers.CircleMarker at 0x2da094e71c8>"
      ]
     },
     "execution_count": 109,
     "metadata": {},
     "output_type": "execute_result"
    }
   ],
   "source": [
    "f.CircleMarker(\n",
    "    location=[lat, long],\n",
    "    radius=7.5,  # use for loan size? scale to size of loan? normalize these?\n",
    "    popup=str(lr),  # loan value\n",
    "    color='blue',  # color according to some histogram?\n",
    "    fill=True,\n",
    "    fill_color='blue'\n",
    ").add_to(m)"
   ]
  },
  {
   "cell_type": "code",
   "execution_count": 110,
   "metadata": {},
   "outputs": [],
   "source": [
    "m.save('ppp_test_map.html')"
   ]
  },
  {
   "cell_type": "code",
   "execution_count": null,
   "metadata": {},
   "outputs": [],
   "source": []
  }
 ],
 "metadata": {
  "kernelspec": {
   "display_name": "covid-ppp",
   "language": "python",
   "name": "covid-ppp"
  },
  "language_info": {
   "codemirror_mode": {
    "name": "ipython",
    "version": 3
   },
   "file_extension": ".py",
   "mimetype": "text/x-python",
   "name": "python",
   "nbconvert_exporter": "python",
   "pygments_lexer": "ipython3",
   "version": "3.8.5"
  }
 },
 "nbformat": 4,
 "nbformat_minor": 4
}
