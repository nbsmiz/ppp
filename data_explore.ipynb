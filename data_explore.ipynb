{
 "cells": [
  {
   "cell_type": "markdown",
   "metadata": {},
   "source": [
    "# Historical Covid API Data"
   ]
  },
  {
   "cell_type": "markdown",
   "metadata": {},
   "source": [
    "# PPP Loan Data > 150k"
   ]
  },
  {
   "cell_type": "code",
   "execution_count": 15,
   "metadata": {},
   "outputs": [],
   "source": [
    "import pandas as pd\n",
    "import pickle\n",
    "import geocoder as geo\n",
    "import folium as f\n",
    "import requests\n",
    "import re"
   ]
  },
  {
   "cell_type": "code",
   "execution_count": 43,
   "metadata": {},
   "outputs": [],
   "source": [
    "df_loan = pd.read_csv('data/ppp_150.csv')\n",
    "\n",
    "cols = ['LoanRange', 'BusinessName', 'Address', 'City', 'State', 'Zip', 'NAICSCode', 'BusinessType', 'JobsRetained']"
   ]
  },
  {
   "cell_type": "code",
   "execution_count": 44,
   "metadata": {},
   "outputs": [],
   "source": [
    "df_loan_strip = df_loan[cols]"
   ]
  },
  {
   "cell_type": "code",
   "execution_count": 28,
   "metadata": {},
   "outputs": [
    {
     "data": {
      "text/plain": [
       "5950962"
      ]
     },
     "execution_count": 28,
     "metadata": {},
     "output_type": "execute_result"
    }
   ],
   "source": [
    "df_loan_strip.size"
   ]
  },
  {
   "cell_type": "code",
   "execution_count": 8,
   "metadata": {},
   "outputs": [],
   "source": [
    "df_loan_strip.to_json('data/ppp_loan_strip.json')"
   ]
  },
  {
   "cell_type": "code",
   "execution_count": 10,
   "metadata": {},
   "outputs": [],
   "source": [
    "df_loan_strip.to_csv('data/ppp_loan_strip.csv')"
   ]
  },
  {
   "cell_type": "code",
   "execution_count": 20,
   "metadata": {},
   "outputs": [
    {
     "data": {
      "text/html": [
       "<div>\n",
       "<style scoped>\n",
       "    .dataframe tbody tr th:only-of-type {\n",
       "        vertical-align: middle;\n",
       "    }\n",
       "\n",
       "    .dataframe tbody tr th {\n",
       "        vertical-align: top;\n",
       "    }\n",
       "\n",
       "    .dataframe thead th {\n",
       "        text-align: right;\n",
       "    }\n",
       "</style>\n",
       "<table border=\"1\" class=\"dataframe\">\n",
       "  <thead>\n",
       "    <tr style=\"text-align: right;\">\n",
       "      <th></th>\n",
       "      <th>LoanRange</th>\n",
       "      <th>BusinessName</th>\n",
       "      <th>Address</th>\n",
       "      <th>City</th>\n",
       "      <th>State</th>\n",
       "      <th>Zip</th>\n",
       "      <th>NAICSCode</th>\n",
       "      <th>BusinessType</th>\n",
       "      <th>JobsRetained</th>\n",
       "    </tr>\n",
       "  </thead>\n",
       "  <tbody>\n",
       "    <tr>\n",
       "      <th>0</th>\n",
       "      <td>a $5-10 million</td>\n",
       "      <td>ARCTIC SLOPE NATIVE ASSOCIATION, LTD.</td>\n",
       "      <td>7000 Uula St</td>\n",
       "      <td>BARROW</td>\n",
       "      <td>AK</td>\n",
       "      <td>99723.0</td>\n",
       "      <td>813920.0</td>\n",
       "      <td>Non-Profit Organization</td>\n",
       "      <td>295.0</td>\n",
       "    </tr>\n",
       "    <tr>\n",
       "      <th>492060</th>\n",
       "      <td>a $5-10 million</td>\n",
       "      <td>THIRSTY LION EXPANSION LLC</td>\n",
       "      <td>829 SE 9th Ave Ste 202</td>\n",
       "      <td>PORTLAND</td>\n",
       "      <td>OR</td>\n",
       "      <td>97214.0</td>\n",
       "      <td>722511.0</td>\n",
       "      <td>Limited  Liability Company(LLC)</td>\n",
       "      <td>500.0</td>\n",
       "    </tr>\n",
       "    <tr>\n",
       "      <th>492059</th>\n",
       "      <td>a $5-10 million</td>\n",
       "      <td>THE CORVALLIS CLINIC, P.C.</td>\n",
       "      <td>444 NW Elks Drive</td>\n",
       "      <td>CORVALLIS</td>\n",
       "      <td>OR</td>\n",
       "      <td>97330.0</td>\n",
       "      <td>621111.0</td>\n",
       "      <td>Corporation</td>\n",
       "      <td>500.0</td>\n",
       "    </tr>\n",
       "    <tr>\n",
       "      <th>492058</th>\n",
       "      <td>a $5-10 million</td>\n",
       "      <td>TEC OF CALIFORNIA, INC.</td>\n",
       "      <td>750 NE Columbia Blvd.</td>\n",
       "      <td>PORTLAND</td>\n",
       "      <td>OR</td>\n",
       "      <td>97211.0</td>\n",
       "      <td>441228.0</td>\n",
       "      <td>Corporation</td>\n",
       "      <td>480.0</td>\n",
       "    </tr>\n",
       "    <tr>\n",
       "      <th>492057</th>\n",
       "      <td>a $5-10 million</td>\n",
       "      <td>SWANSON GROUP INC</td>\n",
       "      <td>2635 OLD HWY 99 S</td>\n",
       "      <td>ROSEBURG</td>\n",
       "      <td>OR</td>\n",
       "      <td>97471.0</td>\n",
       "      <td>321113.0</td>\n",
       "      <td>Corporation</td>\n",
       "      <td>NaN</td>\n",
       "    </tr>\n",
       "    <tr>\n",
       "      <th>...</th>\n",
       "      <td>...</td>\n",
       "      <td>...</td>\n",
       "      <td>...</td>\n",
       "      <td>...</td>\n",
       "      <td>...</td>\n",
       "      <td>...</td>\n",
       "      <td>...</td>\n",
       "      <td>...</td>\n",
       "      <td>...</td>\n",
       "    </tr>\n",
       "    <tr>\n",
       "      <th>138998</th>\n",
       "      <td>e $150,000-350,000</td>\n",
       "      <td>HARRISON HOUSE COMMUNITY PROGRAMS INC</td>\n",
       "      <td>1415 PULASKI HWY</td>\n",
       "      <td>NEWARK</td>\n",
       "      <td>DE</td>\n",
       "      <td>19702.0</td>\n",
       "      <td>813410.0</td>\n",
       "      <td>Limited  Liability Company(LLC)</td>\n",
       "      <td>28.0</td>\n",
       "    </tr>\n",
       "    <tr>\n",
       "      <th>138999</th>\n",
       "      <td>e $150,000-350,000</td>\n",
       "      <td>HARVARD ENVIRONMENTAL INC</td>\n",
       "      <td>760 PULASKI HIGHWAY</td>\n",
       "      <td>BEAR</td>\n",
       "      <td>DE</td>\n",
       "      <td>19701.0</td>\n",
       "      <td>541620.0</td>\n",
       "      <td>Subchapter S Corporation</td>\n",
       "      <td>NaN</td>\n",
       "    </tr>\n",
       "    <tr>\n",
       "      <th>139000</th>\n",
       "      <td>e $150,000-350,000</td>\n",
       "      <td>HARVEST COMMUNITY DEVELOPMENT CORPORATION</td>\n",
       "      <td>2205 Lancaster Ave</td>\n",
       "      <td>WILMINGTON</td>\n",
       "      <td>DE</td>\n",
       "      <td>19805.0</td>\n",
       "      <td>611110.0</td>\n",
       "      <td>Professional Association</td>\n",
       "      <td>0.0</td>\n",
       "    </tr>\n",
       "    <tr>\n",
       "      <th>138990</th>\n",
       "      <td>e $150,000-350,000</td>\n",
       "      <td>HABITAT FOR HUMANITY OF NEW CASTLE COUNTY, INC.</td>\n",
       "      <td>1920 Hutton Street</td>\n",
       "      <td>WILMINGTON</td>\n",
       "      <td>DE</td>\n",
       "      <td>19802.0</td>\n",
       "      <td>236115.0</td>\n",
       "      <td>Non-Profit Organization</td>\n",
       "      <td>32.0</td>\n",
       "    </tr>\n",
       "    <tr>\n",
       "      <th>661217</th>\n",
       "      <td>e $150,000-350,000</td>\n",
       "      <td>POPPYCOCKS INC</td>\n",
       "      <td>NaN</td>\n",
       "      <td>NaN</td>\n",
       "      <td>XX</td>\n",
       "      <td>NaN</td>\n",
       "      <td>444220.0</td>\n",
       "      <td>NaN</td>\n",
       "      <td>NaN</td>\n",
       "    </tr>\n",
       "  </tbody>\n",
       "</table>\n",
       "<p>661218 rows × 9 columns</p>\n",
       "</div>"
      ],
      "text/plain": [
       "                 LoanRange                                     BusinessName  \\\n",
       "0          a $5-10 million            ARCTIC SLOPE NATIVE ASSOCIATION, LTD.   \n",
       "492060     a $5-10 million                       THIRSTY LION EXPANSION LLC   \n",
       "492059     a $5-10 million                       THE CORVALLIS CLINIC, P.C.   \n",
       "492058     a $5-10 million                          TEC OF CALIFORNIA, INC.   \n",
       "492057     a $5-10 million                                SWANSON GROUP INC   \n",
       "...                    ...                                              ...   \n",
       "138998  e $150,000-350,000            HARRISON HOUSE COMMUNITY PROGRAMS INC   \n",
       "138999  e $150,000-350,000                        HARVARD ENVIRONMENTAL INC   \n",
       "139000  e $150,000-350,000        HARVEST COMMUNITY DEVELOPMENT CORPORATION   \n",
       "138990  e $150,000-350,000  HABITAT FOR HUMANITY OF NEW CASTLE COUNTY, INC.   \n",
       "661217  e $150,000-350,000                                   POPPYCOCKS INC   \n",
       "\n",
       "                       Address        City State      Zip  NAICSCode  \\\n",
       "0                 7000 Uula St      BARROW    AK  99723.0   813920.0   \n",
       "492060  829 SE 9th Ave Ste 202    PORTLAND    OR  97214.0   722511.0   \n",
       "492059       444 NW Elks Drive   CORVALLIS    OR  97330.0   621111.0   \n",
       "492058   750 NE Columbia Blvd.    PORTLAND    OR  97211.0   441228.0   \n",
       "492057       2635 OLD HWY 99 S    ROSEBURG    OR  97471.0   321113.0   \n",
       "...                        ...         ...   ...      ...        ...   \n",
       "138998        1415 PULASKI HWY      NEWARK    DE  19702.0   813410.0   \n",
       "138999     760 PULASKI HIGHWAY        BEAR    DE  19701.0   541620.0   \n",
       "139000      2205 Lancaster Ave  WILMINGTON    DE  19805.0   611110.0   \n",
       "138990      1920 Hutton Street  WILMINGTON    DE  19802.0   236115.0   \n",
       "661217                     NaN         NaN    XX      NaN   444220.0   \n",
       "\n",
       "                           BusinessType  JobsRetained  \n",
       "0               Non-Profit Organization         295.0  \n",
       "492060  Limited  Liability Company(LLC)         500.0  \n",
       "492059                      Corporation         500.0  \n",
       "492058                      Corporation         480.0  \n",
       "492057                      Corporation           NaN  \n",
       "...                                 ...           ...  \n",
       "138998  Limited  Liability Company(LLC)          28.0  \n",
       "138999         Subchapter S Corporation           NaN  \n",
       "139000         Professional Association           0.0  \n",
       "138990          Non-Profit Organization          32.0  \n",
       "661217                              NaN           NaN  \n",
       "\n",
       "[661218 rows x 9 columns]"
      ]
     },
     "execution_count": 20,
     "metadata": {},
     "output_type": "execute_result"
    }
   ],
   "source": [
    "df_loan_strip.sort_values(by='LoanRange')"
   ]
  },
  {
   "cell_type": "markdown",
   "metadata": {},
   "source": [
    "# Create Loan Type Category Column"
   ]
  },
  {
   "cell_type": "code",
   "execution_count": 46,
   "metadata": {},
   "outputs": [
    {
     "name": "stderr",
     "output_type": "stream",
     "text": [
      "<ipython-input-46-c732ee95b3bb>:1: SettingWithCopyWarning: \n",
      "A value is trying to be set on a copy of a slice from a DataFrame.\n",
      "Try using .loc[row_indexer,col_indexer] = value instead\n",
      "\n",
      "See the caveats in the documentation: https://pandas.pydata.org/pandas-docs/stable/user_guide/indexing.html#returning-a-view-versus-a-copy\n",
      "  df_loan_strip['LoanCat'] = df_loan_strip.apply(lambda row: re.search(r\"[abcde]\", row['LoanRange'])[0], axis=1)\n"
     ]
    }
   ],
   "source": [
    "df_loan_strip['LoanCat'] = df_loan_strip.apply(lambda row: re.search(r\"[abcde]\", row['LoanRange'])[0], axis=1)"
   ]
  },
  {
   "cell_type": "code",
   "execution_count": 47,
   "metadata": {},
   "outputs": [],
   "source": [
    "del df_loan_strip['LoanRange']"
   ]
  },
  {
   "cell_type": "code",
   "execution_count": 75,
   "metadata": {},
   "outputs": [
    {
     "data": {
      "text/plain": [
       "float"
      ]
     },
     "execution_count": 75,
     "metadata": {},
     "output_type": "execute_result"
    }
   ],
   "source": [
    "type(df_loan_strip.iloc[661217].Address)"
   ]
  },
  {
   "cell_type": "code",
   "execution_count": 105,
   "metadata": {},
   "outputs": [],
   "source": [
    "na_addr = df_loan_strip[df_loan_strip['Address'].isna()]\n",
    "na_city = df_loan_strip[df_loan_strip['City'].isna()]\n",
    "na_zip = df_loan_strip[df_loan_strip['Zip'].isna()]\n",
    "na_jobs = df_loan_strip[df_loan_strip['JobsRetained'].isna()]\n",
    "zero_jobs = df_loan_strip[df_loan_strip['JobsRetained'] == 0]"
   ]
  },
  {
   "cell_type": "code",
   "execution_count": 106,
   "metadata": {},
   "outputs": [
    {
     "data": {
      "text/plain": [
       "((15, 9), (17, 9), (16, 9), (40506, 9), (48922, 9))"
      ]
     },
     "execution_count": 106,
     "metadata": {},
     "output_type": "execute_result"
    }
   ],
   "source": [
    "na_city.shape, na_addr.shape, na_zip.shape, na_jobs.shape, zero_jobs.shape"
   ]
  },
  {
   "cell_type": "code",
   "execution_count": 111,
   "metadata": {},
   "outputs": [],
   "source": [
    "loan_type_list = ['a', 'b', 'c', 'd', 'e']\n",
    "\n",
    "for l_type in loan_type_list:\n",
    "    df_loan_strip[df_loan_strip['LoanCat'] == l_type].to_csv('data/loan_strip_cat' + l_type.capitalize() + '.csv')"
   ]
  },
  {
   "cell_type": "markdown",
   "metadata": {},
   "source": [
    "### 13% of borrowers reported zero jobs retained"
   ]
  },
  {
   "cell_type": "code",
   "execution_count": 112,
   "metadata": {},
   "outputs": [
    {
     "data": {
      "text/plain": [
       "0.10890608946923204"
      ]
     },
     "execution_count": 112,
     "metadata": {},
     "output_type": "execute_result"
    }
   ],
   "source": [
    "df_loan[df_loan['JobsRetained'].isna()].size/df_loan_strip.size"
   ]
  },
  {
   "cell_type": "code",
   "execution_count": null,
   "metadata": {},
   "outputs": [],
   "source": [
    "df_loan[df_loan['JobsRetained'] == 0].size/df_loan_strip.size"
   ]
  },
  {
   "cell_type": "markdown",
   "metadata": {},
   "source": [
    "### Remove null and invalid states"
   ]
  },
  {
   "cell_type": "code",
   "execution_count": 15,
   "metadata": {},
   "outputs": [],
   "source": [
    "df_addr = df_loan[['LoanRange', 'Address', 'City', 'State', 'Zip']].dropna()"
   ]
  },
  {
   "cell_type": "code",
   "execution_count": 16,
   "metadata": {},
   "outputs": [
    {
     "data": {
      "text/html": [
       "<div>\n",
       "<style scoped>\n",
       "    .dataframe tbody tr th:only-of-type {\n",
       "        vertical-align: middle;\n",
       "    }\n",
       "\n",
       "    .dataframe tbody tr th {\n",
       "        vertical-align: top;\n",
       "    }\n",
       "\n",
       "    .dataframe thead th {\n",
       "        text-align: right;\n",
       "    }\n",
       "</style>\n",
       "<table border=\"1\" class=\"dataframe\">\n",
       "  <thead>\n",
       "    <tr style=\"text-align: right;\">\n",
       "      <th></th>\n",
       "      <th>LoanRange</th>\n",
       "      <th>Address</th>\n",
       "      <th>City</th>\n",
       "      <th>State</th>\n",
       "      <th>Zip</th>\n",
       "    </tr>\n",
       "  </thead>\n",
       "  <tbody>\n",
       "    <tr>\n",
       "      <th>661203</th>\n",
       "      <td>d $350,000-1 million</td>\n",
       "      <td>1850 BOYER AVE E</td>\n",
       "      <td>SEATTLE</td>\n",
       "      <td>XX</td>\n",
       "      <td>98112.0</td>\n",
       "    </tr>\n",
       "    <tr>\n",
       "      <th>661204</th>\n",
       "      <td>d $350,000-1 million</td>\n",
       "      <td>1661 MARTIN RANCH RD</td>\n",
       "      <td>SAN BERNARDINO</td>\n",
       "      <td>XX</td>\n",
       "      <td>92407.0</td>\n",
       "    </tr>\n",
       "    <tr>\n",
       "      <th>661205</th>\n",
       "      <td>d $350,000-1 million</td>\n",
       "      <td>7684 Southrail Road</td>\n",
       "      <td>NORTH CHARLESTON</td>\n",
       "      <td>XX</td>\n",
       "      <td>29420.0</td>\n",
       "    </tr>\n",
       "    <tr>\n",
       "      <th>661206</th>\n",
       "      <td>d $350,000-1 million</td>\n",
       "      <td>2410 Highway 15 South</td>\n",
       "      <td>SUMTER</td>\n",
       "      <td>XX</td>\n",
       "      <td>29150.0</td>\n",
       "    </tr>\n",
       "    <tr>\n",
       "      <th>661209</th>\n",
       "      <td>e $150,000-350,000</td>\n",
       "      <td>501 State Road 13</td>\n",
       "      <td>SAINT JOHNS</td>\n",
       "      <td>XX</td>\n",
       "      <td>32259.0</td>\n",
       "    </tr>\n",
       "  </tbody>\n",
       "</table>\n",
       "</div>"
      ],
      "text/plain": [
       "                   LoanRange                Address              City State  \\\n",
       "661203  d $350,000-1 million       1850 BOYER AVE E           SEATTLE    XX   \n",
       "661204  d $350,000-1 million   1661 MARTIN RANCH RD    SAN BERNARDINO    XX   \n",
       "661205  d $350,000-1 million    7684 Southrail Road  NORTH CHARLESTON    XX   \n",
       "661206  d $350,000-1 million  2410 Highway 15 South            SUMTER    XX   \n",
       "661209    e $150,000-350,000      501 State Road 13       SAINT JOHNS    XX   \n",
       "\n",
       "            Zip  \n",
       "661203  98112.0  \n",
       "661204  92407.0  \n",
       "661205  29420.0  \n",
       "661206  29150.0  \n",
       "661209  32259.0  "
      ]
     },
     "execution_count": 16,
     "metadata": {},
     "output_type": "execute_result"
    }
   ],
   "source": [
    "df_addr[df_addr['State'] == 'XX']"
   ]
  },
  {
   "cell_type": "code",
   "execution_count": 17,
   "metadata": {},
   "outputs": [],
   "source": [
    "df_addr = df_addr[df_addr['State'] != 'XX']"
   ]
  },
  {
   "cell_type": "code",
   "execution_count": 18,
   "metadata": {},
   "outputs": [
    {
     "data": {
      "text/plain": [
       "661195"
      ]
     },
     "execution_count": 18,
     "metadata": {},
     "output_type": "execute_result"
    }
   ],
   "source": [
    "len(df_addr)"
   ]
  },
  {
   "cell_type": "markdown",
   "metadata": {},
   "source": [
    "# Geocoder lib"
   ]
  },
  {
   "cell_type": "code",
   "execution_count": 5,
   "metadata": {},
   "outputs": [],
   "source": [
    "a_addr = pd.read_csv('data/loan_strip_catA.csv', index_col=0)"
   ]
  },
  {
   "cell_type": "code",
   "execution_count": 13,
   "metadata": {},
   "outputs": [
    {
     "data": {
      "text/plain": [
       "4840"
      ]
     },
     "execution_count": 13,
     "metadata": {},
     "output_type": "execute_result"
    }
   ],
   "source": [
    "len(a_addr)"
   ]
  },
  {
   "cell_type": "code",
   "execution_count": 12,
   "metadata": {},
   "outputs": [
    {
     "data": {
      "text/html": [
       "<div>\n",
       "<style scoped>\n",
       "    .dataframe tbody tr th:only-of-type {\n",
       "        vertical-align: middle;\n",
       "    }\n",
       "\n",
       "    .dataframe tbody tr th {\n",
       "        vertical-align: top;\n",
       "    }\n",
       "\n",
       "    .dataframe thead th {\n",
       "        text-align: right;\n",
       "    }\n",
       "</style>\n",
       "<table border=\"1\" class=\"dataframe\">\n",
       "  <thead>\n",
       "    <tr style=\"text-align: right;\">\n",
       "      <th></th>\n",
       "      <th>BusinessName</th>\n",
       "      <th>Address</th>\n",
       "      <th>City</th>\n",
       "      <th>State</th>\n",
       "      <th>Zip</th>\n",
       "      <th>NAICSCode</th>\n",
       "      <th>BusinessType</th>\n",
       "      <th>JobsRetained</th>\n",
       "      <th>LoanCat</th>\n",
       "    </tr>\n",
       "  </thead>\n",
       "  <tbody>\n",
       "    <tr>\n",
       "      <th>0</th>\n",
       "      <td>ARCTIC SLOPE NATIVE ASSOCIATION, LTD.</td>\n",
       "      <td>7000 Uula St</td>\n",
       "      <td>BARROW</td>\n",
       "      <td>AK</td>\n",
       "      <td>99723.0</td>\n",
       "      <td>813920.0</td>\n",
       "      <td>Non-Profit Organization</td>\n",
       "      <td>295.0</td>\n",
       "      <td>a</td>\n",
       "    </tr>\n",
       "    <tr>\n",
       "      <th>1</th>\n",
       "      <td>CRUZ CONSTRUCTION INC</td>\n",
       "      <td>7000 East Palmer Wasilla Hwy</td>\n",
       "      <td>PALMER</td>\n",
       "      <td>AK</td>\n",
       "      <td>99645.0</td>\n",
       "      <td>238190.0</td>\n",
       "      <td>Subchapter S Corporation</td>\n",
       "      <td>215.0</td>\n",
       "      <td>a</td>\n",
       "    </tr>\n",
       "    <tr>\n",
       "      <th>2</th>\n",
       "      <td>I. C. E. SERVICES, INC</td>\n",
       "      <td>2606 C Street</td>\n",
       "      <td>ANCHORAGE</td>\n",
       "      <td>AK</td>\n",
       "      <td>99503.0</td>\n",
       "      <td>722310.0</td>\n",
       "      <td>Corporation</td>\n",
       "      <td>367.0</td>\n",
       "      <td>a</td>\n",
       "    </tr>\n",
       "    <tr>\n",
       "      <th>3</th>\n",
       "      <td>KATMAI HEALTH SERVICES LLC</td>\n",
       "      <td>11001 O'MALLEY CENTRE DRIVE, SUITE 204</td>\n",
       "      <td>ANCHORAGE</td>\n",
       "      <td>AK</td>\n",
       "      <td>99515.0</td>\n",
       "      <td>621111.0</td>\n",
       "      <td>Limited  Liability Company(LLC)</td>\n",
       "      <td>0.0</td>\n",
       "      <td>a</td>\n",
       "    </tr>\n",
       "    <tr>\n",
       "      <th>4</th>\n",
       "      <td>MATANUSKA TELEPHONE ASSOCIATION</td>\n",
       "      <td>1740 S. CHUGACH ST</td>\n",
       "      <td>PALMER</td>\n",
       "      <td>AK</td>\n",
       "      <td>99645.0</td>\n",
       "      <td>517311.0</td>\n",
       "      <td>Cooperative</td>\n",
       "      <td>267.0</td>\n",
       "      <td>a</td>\n",
       "    </tr>\n",
       "  </tbody>\n",
       "</table>\n",
       "</div>"
      ],
      "text/plain": [
       "                            BusinessName  \\\n",
       "0  ARCTIC SLOPE NATIVE ASSOCIATION, LTD.   \n",
       "1                  CRUZ CONSTRUCTION INC   \n",
       "2                 I. C. E. SERVICES, INC   \n",
       "3             KATMAI HEALTH SERVICES LLC   \n",
       "4        MATANUSKA TELEPHONE ASSOCIATION   \n",
       "\n",
       "                                  Address       City State      Zip  \\\n",
       "0                            7000 Uula St     BARROW    AK  99723.0   \n",
       "1            7000 East Palmer Wasilla Hwy     PALMER    AK  99645.0   \n",
       "2                           2606 C Street  ANCHORAGE    AK  99503.0   \n",
       "3  11001 O'MALLEY CENTRE DRIVE, SUITE 204  ANCHORAGE    AK  99515.0   \n",
       "4                      1740 S. CHUGACH ST     PALMER    AK  99645.0   \n",
       "\n",
       "   NAICSCode                     BusinessType  JobsRetained LoanCat  \n",
       "0   813920.0          Non-Profit Organization         295.0       a  \n",
       "1   238190.0         Subchapter S Corporation         215.0       a  \n",
       "2   722310.0                      Corporation         367.0       a  \n",
       "3   621111.0  Limited  Liability Company(LLC)           0.0       a  \n",
       "4   517311.0                      Cooperative         267.0       a  "
      ]
     },
     "execution_count": 12,
     "metadata": {},
     "output_type": "execute_result"
    }
   ],
   "source": [
    "a_addr.head()"
   ]
  },
  {
   "cell_type": "markdown",
   "metadata": {},
   "source": [
    "def construct_full_addr(row):\n",
    "    a_addr['full_addr'] = ((row['Address'].split(',')[0] + ', ' \n",
    "                            + row['City'] + ', ' + row['State']))"
   ]
  },
  {
   "cell_type": "markdown",
   "metadata": {},
   "source": [
    "# Add full address to DF"
   ]
  },
  {
   "cell_type": "markdown",
   "metadata": {},
   "source": [
    "### Construct Full Addresses\n",
    "\n",
    "`.split(',')` removes address appendices such as \"Suite A\", \"Room 17\", etc."
   ]
  },
  {
   "cell_type": "code",
   "execution_count": 7,
   "metadata": {},
   "outputs": [],
   "source": [
    "a_addr['full_addr'] = a_addr.apply(lambda row: (row['Address'].split(',')[0] + ', ' \n",
    "                            + row['City'] + ', ' + row['State']), axis=1)"
   ]
  },
  {
   "cell_type": "markdown",
   "metadata": {},
   "source": [
    "### Get latitude and longitude for addresses of recipients of A-class loans ($5-10 million)"
   ]
  },
  {
   "cell_type": "code",
   "execution_count": 46,
   "metadata": {},
   "outputs": [],
   "source": [
    "with requests.Session() as session:\n",
    "    a_addr['latlng'] = a_addr.apply(lambda row: geo.osm(row['full_addr'], session=session).latlng, axis=1)"
   ]
  },
  {
   "cell_type": "markdown",
   "metadata": {},
   "source": [
    "### Pickling"
   ]
  },
  {
   "cell_type": "code",
   "execution_count": 48,
   "metadata": {},
   "outputs": [],
   "source": [
    "pickle.dump(a_addr, open(\"a_adrr.pkd\", \"wb\"))"
   ]
  },
  {
   "cell_type": "code",
   "execution_count": 14,
   "metadata": {},
   "outputs": [
    {
     "ename": "FileNotFoundError",
     "evalue": "[Errno 2] No such file or directory: 'a_addr.pkd'",
     "output_type": "error",
     "traceback": [
      "\u001b[1;31m---------------------------------------------------------------------------\u001b[0m",
      "\u001b[1;31mFileNotFoundError\u001b[0m                         Traceback (most recent call last)",
      "\u001b[1;32m<ipython-input-14-30b7abe4fb41>\u001b[0m in \u001b[0;36m<module>\u001b[1;34m\u001b[0m\n\u001b[1;32m----> 1\u001b[1;33m \u001b[0ma_addr\u001b[0m \u001b[1;33m=\u001b[0m \u001b[0mpickle\u001b[0m\u001b[1;33m.\u001b[0m\u001b[0mload\u001b[0m\u001b[1;33m(\u001b[0m\u001b[0mopen\u001b[0m\u001b[1;33m(\u001b[0m\u001b[1;34m\"a_addr.pkd\"\u001b[0m\u001b[1;33m,\u001b[0m \u001b[1;34m\"rb\"\u001b[0m\u001b[1;33m)\u001b[0m\u001b[1;33m)\u001b[0m\u001b[1;33m\u001b[0m\u001b[1;33m\u001b[0m\u001b[0m\n\u001b[0m",
      "\u001b[1;31mFileNotFoundError\u001b[0m: [Errno 2] No such file or directory: 'a_addr.pkd'"
     ]
    }
   ],
   "source": [
    "a_addr = pickle.load(open(\"a_addr.pkd\", \"rb\"))"
   ]
  },
  {
   "cell_type": "markdown",
   "metadata": {},
   "source": [
    "### Useful function for checking actual size of an object"
   ]
  },
  {
   "cell_type": "markdown",
   "metadata": {},
   "source": [
    "https://stackoverflow.com/questions/449560/how-do-i-determine-the-size-of-an-object-in-python"
   ]
  },
  {
   "cell_type": "code",
   "execution_count": 61,
   "metadata": {},
   "outputs": [],
   "source": [
    "import sys\n",
    "from types import ModuleType, FunctionType\n",
    "from gc import get_referents\n",
    "\n",
    "# Custom objects know their class.\n",
    "# Function objects seem to know way too much, including modules.\n",
    "# Exclude modules as well.\n",
    "BLACKLIST = type, ModuleType, FunctionType\n",
    "\n",
    "\n",
    "def getsize(obj):\n",
    "    \"\"\"sum size of object & members.\"\"\"\n",
    "    if isinstance(obj, BLACKLIST):\n",
    "        raise TypeError('getsize() does not take argument of type: '+ str(type(obj)))\n",
    "    seen_ids = set()\n",
    "    size = 0\n",
    "    objects = [obj]\n",
    "    while objects:\n",
    "        need_referents = []\n",
    "        for obj in objects:\n",
    "            if not isinstance(obj, BLACKLIST) and id(obj) not in seen_ids:\n",
    "                seen_ids.add(id(obj))\n",
    "                size += sys.getsizeof(obj)\n",
    "                need_referents.append(obj)\n",
    "        objects = get_referents(*need_referents)\n",
    "    return size"
   ]
  },
  {
   "cell_type": "markdown",
   "metadata": {},
   "source": [
    "# Map"
   ]
  },
  {
   "cell_type": "code",
   "execution_count": 70,
   "metadata": {},
   "outputs": [],
   "source": [
    "# create map\n",
    "m = f.Map(location=[44.58, -103.46], zoom_start=3)\n",
    "\n",
    "# global tooltip\n",
    "tooltip = 'Click for more info'\n",
    "\n",
    "# generate map\n",
    "m.save('map.html')"
   ]
  },
  {
   "cell_type": "code",
   "execution_count": 71,
   "metadata": {},
   "outputs": [],
   "source": [
    "def add_aClass_loans(latlng):\n",
    "    f.CircleMarker(\n",
    "        location=latlng,\n",
    "        radius=2,  # use for loan size? scale to size of loan? normalize these?\n",
    "        popup=\"$5-10 Million\",  # loan value\n",
    "        color='blue',  # color according to some histogram?\n",
    "        fill=False,\n",
    "        fill_color='blue'\n",
    "    ).add_to(m)"
   ]
  },
  {
   "cell_type": "code",
   "execution_count": 72,
   "metadata": {},
   "outputs": [],
   "source": [
    "def add_loans_to_map():\n",
    "    for i in a_latlng.itertuples():\n",
    "        if i.latlng != None:\n",
    "            add_aClass_loans(i.latlng)\n",
    "#             print(i.latlng)"
   ]
  },
  {
   "cell_type": "code",
   "execution_count": 35,
   "metadata": {
    "collapsed": true
   },
   "outputs": [
    {
     "data": {
      "text/html": [
       "<div>\n",
       "<style scoped>\n",
       "    .dataframe tbody tr th:only-of-type {\n",
       "        vertical-align: middle;\n",
       "    }\n",
       "\n",
       "    .dataframe tbody tr th {\n",
       "        vertical-align: top;\n",
       "    }\n",
       "\n",
       "    .dataframe thead th {\n",
       "        text-align: right;\n",
       "    }\n",
       "</style>\n",
       "<table border=\"1\" class=\"dataframe\">\n",
       "  <thead>\n",
       "    <tr style=\"text-align: right;\">\n",
       "      <th></th>\n",
       "      <th>BusinessName</th>\n",
       "      <th>Address</th>\n",
       "      <th>City</th>\n",
       "      <th>State</th>\n",
       "      <th>Zip</th>\n",
       "      <th>NAICSCode</th>\n",
       "      <th>BusinessType</th>\n",
       "      <th>JobsRetained</th>\n",
       "      <th>LoanCat</th>\n",
       "      <th>full_addr</th>\n",
       "      <th>latlng</th>\n",
       "    </tr>\n",
       "  </thead>\n",
       "  <tbody>\n",
       "    <tr>\n",
       "      <th>5</th>\n",
       "      <td>NANA WORLEY, LLC</td>\n",
       "      <td>3700 Centerpoint Drive, 7th floor</td>\n",
       "      <td>ANCHORAGE</td>\n",
       "      <td>AK</td>\n",
       "      <td>99503.0</td>\n",
       "      <td>541330.0</td>\n",
       "      <td>Limited  Liability Company(LLC)</td>\n",
       "      <td>231.0</td>\n",
       "      <td>a</td>\n",
       "      <td>3700 Centerpoint Drive, ANCHORAGE, AK</td>\n",
       "      <td>None</td>\n",
       "    </tr>\n",
       "    <tr>\n",
       "      <th>11</th>\n",
       "      <td>YULISTA TACTICAL, LLC</td>\n",
       "      <td>5015 BUSINESS PARK BLVD Suite 3000</td>\n",
       "      <td>ANCHORAGE</td>\n",
       "      <td>AK</td>\n",
       "      <td>99503.0</td>\n",
       "      <td>541614.0</td>\n",
       "      <td>Limited  Liability Company(LLC)</td>\n",
       "      <td>220.0</td>\n",
       "      <td>a</td>\n",
       "      <td>5015 BUSINESS PARK BLVD Suite 3000, ANCHORAGE, AK</td>\n",
       "      <td>None</td>\n",
       "    </tr>\n",
       "    <tr>\n",
       "      <th>13</th>\n",
       "      <td>ALLIANCE HR, INC</td>\n",
       "      <td>307 CLINTON AVE suite 200</td>\n",
       "      <td>HUNTSVILLE</td>\n",
       "      <td>AL</td>\n",
       "      <td>35801.0</td>\n",
       "      <td>561311.0</td>\n",
       "      <td>Corporation</td>\n",
       "      <td>443.0</td>\n",
       "      <td>a</td>\n",
       "      <td>307 CLINTON AVE suite 200, HUNTSVILLE, AL</td>\n",
       "      <td>None</td>\n",
       "    </tr>\n",
       "    <tr>\n",
       "      <th>19</th>\n",
       "      <td>ATS OPERATING LLC</td>\n",
       "      <td>1900 CRESTWOOD BLVD SUITE 302</td>\n",
       "      <td>IRONDALE</td>\n",
       "      <td>AL</td>\n",
       "      <td>35210.0</td>\n",
       "      <td>453310.0</td>\n",
       "      <td>Limited  Liability Company(LLC)</td>\n",
       "      <td>250.0</td>\n",
       "      <td>a</td>\n",
       "      <td>1900 CRESTWOOD BLVD SUITE 302, IRONDALE, AL</td>\n",
       "      <td>None</td>\n",
       "    </tr>\n",
       "    <tr>\n",
       "      <th>22</th>\n",
       "      <td>BEVILACQUA RESEARCH CORPORATION</td>\n",
       "      <td>4901 CORPORATE DR Ste B</td>\n",
       "      <td>HUNTSVILLE</td>\n",
       "      <td>AL</td>\n",
       "      <td>35805.0</td>\n",
       "      <td>541330.0</td>\n",
       "      <td>Corporation</td>\n",
       "      <td>343.0</td>\n",
       "      <td>a</td>\n",
       "      <td>4901 CORPORATE DR Ste B, HUNTSVILLE, AL</td>\n",
       "      <td>None</td>\n",
       "    </tr>\n",
       "    <tr>\n",
       "      <th>...</th>\n",
       "      <td>...</td>\n",
       "      <td>...</td>\n",
       "      <td>...</td>\n",
       "      <td>...</td>\n",
       "      <td>...</td>\n",
       "      <td>...</td>\n",
       "      <td>...</td>\n",
       "      <td>...</td>\n",
       "      <td>...</td>\n",
       "      <td>...</td>\n",
       "      <td>...</td>\n",
       "    </tr>\n",
       "    <tr>\n",
       "      <th>4826</th>\n",
       "      <td>LEXINGTON COAL COMPANY, INC</td>\n",
       "      <td>1051 Main St</td>\n",
       "      <td>MILTON</td>\n",
       "      <td>WV</td>\n",
       "      <td>25541.0</td>\n",
       "      <td>213113.0</td>\n",
       "      <td>Limited  Liability Company(LLC)</td>\n",
       "      <td>139.0</td>\n",
       "      <td>a</td>\n",
       "      <td>1051 Main St, MILTON, WV</td>\n",
       "      <td>None</td>\n",
       "    </tr>\n",
       "    <tr>\n",
       "      <th>4828</th>\n",
       "      <td>NOBORNE PRESCHOOL AND DAYCARE CENTER</td>\n",
       "      <td>200 KING ST</td>\n",
       "      <td>MARTINSBURG</td>\n",
       "      <td>WV</td>\n",
       "      <td>25401.0</td>\n",
       "      <td>624410.0</td>\n",
       "      <td>Non-Profit Organization</td>\n",
       "      <td>17.0</td>\n",
       "      <td>a</td>\n",
       "      <td>200 KING ST, MARTINSBURG, WV</td>\n",
       "      <td>None</td>\n",
       "    </tr>\n",
       "    <tr>\n",
       "      <th>4831</th>\n",
       "      <td>TRITON CONSTRUCTION INC</td>\n",
       "      <td>1944 WINFIELD RD</td>\n",
       "      <td>SAINT ALBANS</td>\n",
       "      <td>WV</td>\n",
       "      <td>25177.0</td>\n",
       "      <td>237310.0</td>\n",
       "      <td>Subchapter S Corporation</td>\n",
       "      <td>264.0</td>\n",
       "      <td>a</td>\n",
       "      <td>1944 WINFIELD RD, SAINT ALBANS, WV</td>\n",
       "      <td>None</td>\n",
       "    </tr>\n",
       "    <tr>\n",
       "      <th>4832</th>\n",
       "      <td>CYCLONE DRILLING, INC.</td>\n",
       "      <td>5800 Mohan Road PO Box 908</td>\n",
       "      <td>GILLETTE</td>\n",
       "      <td>WY</td>\n",
       "      <td>82717.0</td>\n",
       "      <td>213112.0</td>\n",
       "      <td>Corporation</td>\n",
       "      <td>364.0</td>\n",
       "      <td>a</td>\n",
       "      <td>5800 Mohan Road PO Box 908, GILLETTE, WY</td>\n",
       "      <td>None</td>\n",
       "    </tr>\n",
       "    <tr>\n",
       "      <th>4833</th>\n",
       "      <td>EAGLE SPECIALTY MATERIALS LLC</td>\n",
       "      <td>PO Box 3039</td>\n",
       "      <td>GILLETTE</td>\n",
       "      <td>WY</td>\n",
       "      <td>82718.0</td>\n",
       "      <td>212393.0</td>\n",
       "      <td>Limited  Liability Company(LLC)</td>\n",
       "      <td>250.0</td>\n",
       "      <td>a</td>\n",
       "      <td>PO Box 3039, GILLETTE, WY</td>\n",
       "      <td>None</td>\n",
       "    </tr>\n",
       "  </tbody>\n",
       "</table>\n",
       "<p>1770 rows × 11 columns</p>\n",
       "</div>"
      ],
      "text/plain": [
       "                              BusinessName  \\\n",
       "5                         NANA WORLEY, LLC   \n",
       "11                   YULISTA TACTICAL, LLC   \n",
       "13                        ALLIANCE HR, INC   \n",
       "19                       ATS OPERATING LLC   \n",
       "22         BEVILACQUA RESEARCH CORPORATION   \n",
       "...                                    ...   \n",
       "4826           LEXINGTON COAL COMPANY, INC   \n",
       "4828  NOBORNE PRESCHOOL AND DAYCARE CENTER   \n",
       "4831               TRITON CONSTRUCTION INC   \n",
       "4832                CYCLONE DRILLING, INC.   \n",
       "4833         EAGLE SPECIALTY MATERIALS LLC   \n",
       "\n",
       "                                 Address          City State      Zip  \\\n",
       "5      3700 Centerpoint Drive, 7th floor     ANCHORAGE    AK  99503.0   \n",
       "11    5015 BUSINESS PARK BLVD Suite 3000     ANCHORAGE    AK  99503.0   \n",
       "13             307 CLINTON AVE suite 200    HUNTSVILLE    AL  35801.0   \n",
       "19         1900 CRESTWOOD BLVD SUITE 302      IRONDALE    AL  35210.0   \n",
       "22               4901 CORPORATE DR Ste B    HUNTSVILLE    AL  35805.0   \n",
       "...                                  ...           ...   ...      ...   \n",
       "4826                        1051 Main St        MILTON    WV  25541.0   \n",
       "4828                         200 KING ST   MARTINSBURG    WV  25401.0   \n",
       "4831                    1944 WINFIELD RD  SAINT ALBANS    WV  25177.0   \n",
       "4832          5800 Mohan Road PO Box 908      GILLETTE    WY  82717.0   \n",
       "4833                         PO Box 3039      GILLETTE    WY  82718.0   \n",
       "\n",
       "      NAICSCode                     BusinessType  JobsRetained LoanCat  \\\n",
       "5      541330.0  Limited  Liability Company(LLC)         231.0       a   \n",
       "11     541614.0  Limited  Liability Company(LLC)         220.0       a   \n",
       "13     561311.0                      Corporation         443.0       a   \n",
       "19     453310.0  Limited  Liability Company(LLC)         250.0       a   \n",
       "22     541330.0                      Corporation         343.0       a   \n",
       "...         ...                              ...           ...     ...   \n",
       "4826   213113.0  Limited  Liability Company(LLC)         139.0       a   \n",
       "4828   624410.0          Non-Profit Organization          17.0       a   \n",
       "4831   237310.0         Subchapter S Corporation         264.0       a   \n",
       "4832   213112.0                      Corporation         364.0       a   \n",
       "4833   212393.0  Limited  Liability Company(LLC)         250.0       a   \n",
       "\n",
       "                                              full_addr latlng  \n",
       "5                 3700 Centerpoint Drive, ANCHORAGE, AK   None  \n",
       "11    5015 BUSINESS PARK BLVD Suite 3000, ANCHORAGE, AK   None  \n",
       "13            307 CLINTON AVE suite 200, HUNTSVILLE, AL   None  \n",
       "19          1900 CRESTWOOD BLVD SUITE 302, IRONDALE, AL   None  \n",
       "22              4901 CORPORATE DR Ste B, HUNTSVILLE, AL   None  \n",
       "...                                                 ...    ...  \n",
       "4826                           1051 Main St, MILTON, WV   None  \n",
       "4828                       200 KING ST, MARTINSBURG, WV   None  \n",
       "4831                 1944 WINFIELD RD, SAINT ALBANS, WV   None  \n",
       "4832           5800 Mohan Road PO Box 908, GILLETTE, WY   None  \n",
       "4833                          PO Box 3039, GILLETTE, WY   None  \n",
       "\n",
       "[1770 rows x 11 columns]"
      ]
     },
     "execution_count": 35,
     "metadata": {},
     "output_type": "execute_result"
    }
   ],
   "source": [
    "a_latlng[a_latlng['latlng'].isna()]"
   ]
  },
  {
   "cell_type": "code",
   "execution_count": 73,
   "metadata": {},
   "outputs": [],
   "source": [
    "add_loans_to_map()"
   ]
  },
  {
   "cell_type": "code",
   "execution_count": 74,
   "metadata": {},
   "outputs": [],
   "source": [
    "m.save('map.html')"
   ]
  },
  {
   "cell_type": "markdown",
   "metadata": {},
   "source": [
    "# Separate by loan range"
   ]
  },
  {
   "cell_type": "code",
   "execution_count": 75,
   "metadata": {},
   "outputs": [],
   "source": [
    "dollars = re.compile(r\"(?P<amt>\\d+)|(?P<mag>million|thousand)\")"
   ]
  },
  {
   "cell_type": "code",
   "execution_count": 84,
   "metadata": {},
   "outputs": [
    {
     "data": {
      "text/plain": [
       "<re.Match object; span=(3, 4), match='5'>"
      ]
     },
     "execution_count": 84,
     "metadata": {},
     "output_type": "execute_result"
    }
   ],
   "source": [
    "re.search(dollars, loan)"
   ]
  },
  {
   "cell_type": "code",
   "execution_count": 94,
   "metadata": {},
   "outputs": [],
   "source": [
    "lr = loan_range = re.findall(dollars, loan)\n",
    "lr = str(1.*(int(lr[1][0]) + int(lr[0][0]))/2) + ' ' + lr[2][1]"
   ]
  },
  {
   "cell_type": "code",
   "execution_count": 104,
   "metadata": {},
   "outputs": [],
   "source": [
    "a = re.search(lr, r\"\\f\")"
   ]
  },
  {
   "cell_type": "code",
   "execution_count": 106,
   "metadata": {},
   "outputs": [
    {
     "data": {
      "text/plain": [
       "'7.5 million'"
      ]
     },
     "execution_count": 106,
     "metadata": {},
     "output_type": "execute_result"
    }
   ],
   "source": [
    "lr"
   ]
  },
  {
   "cell_type": "code",
   "execution_count": 60,
   "metadata": {},
   "outputs": [],
   "source": [
    "lat, long = geo[0]['geometry']['location']['lat'], geo[0]['geometry']['location']['lng']\n",
    "m = f.Map([lat, long], zoom_start=12)"
   ]
  },
  {
   "cell_type": "code",
   "execution_count": 109,
   "metadata": {},
   "outputs": [
    {
     "data": {
      "text/plain": [
       "<folium.vector_layers.CircleMarker at 0x2da094e71c8>"
      ]
     },
     "execution_count": 109,
     "metadata": {},
     "output_type": "execute_result"
    }
   ],
   "source": [
    "f.CircleMarker(\n",
    "    location=[lat, long],\n",
    "    radius=7.5,  # use for loan size? scale to size of loan? normalize these?\n",
    "    popup=str(lr),  # loan value\n",
    "    color='blue',  # color according to some histogram?\n",
    "    fill=True,\n",
    "    fill_color='blue'\n",
    ").add_to(m)"
   ]
  },
  {
   "cell_type": "code",
   "execution_count": 110,
   "metadata": {},
   "outputs": [],
   "source": [
    "m.save('ppp_test_map.html')"
   ]
  },
  {
   "cell_type": "code",
   "execution_count": null,
   "metadata": {},
   "outputs": [],
   "source": []
  }
 ],
 "metadata": {
  "kernelspec": {
   "display_name": "covid-ppp",
   "language": "python",
   "name": "covid-ppp"
  },
  "language_info": {
   "codemirror_mode": {
    "name": "ipython",
    "version": 3
   },
   "file_extension": ".py",
   "mimetype": "text/x-python",
   "name": "python",
   "nbconvert_exporter": "python",
   "pygments_lexer": "ipython3",
   "version": "3.8.5"
  }
 },
 "nbformat": 4,
 "nbformat_minor": 4
}
