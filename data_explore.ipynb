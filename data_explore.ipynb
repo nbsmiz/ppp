{
 "cells": [
  {
   "cell_type": "markdown",
   "metadata": {},
   "source": [
    "# Current Covid API Data"
   ]
  },
  {
   "cell_type": "code",
   "execution_count": 17,
   "metadata": {},
   "outputs": [],
   "source": [
    "import pandas as pd\n",
    "import requests"
   ]
  },
  {
   "cell_type": "markdown",
   "metadata": {},
   "source": [
    "df_curr = pd.read_csv('https://api.covidtracking.com/v1/states/current.csv')"
   ]
  },
  {
   "cell_type": "code",
   "execution_count": 41,
   "metadata": {},
   "outputs": [],
   "source": [
    "df_curr.to_csv('covid_current.csv')"
   ]
  },
  {
   "cell_type": "code",
   "execution_count": 18,
   "metadata": {},
   "outputs": [],
   "source": [
    "df_curr = pd.read_csv('covid_current.csv')"
   ]
  },
  {
   "cell_type": "code",
   "execution_count": 19,
   "metadata": {},
   "outputs": [],
   "source": [
    "cols = ['state', 'positive']"
   ]
  },
  {
   "cell_type": "code",
   "execution_count": 20,
   "metadata": {},
   "outputs": [
    {
     "data": {
      "text/plain": [
       "(56, 2)"
      ]
     },
     "execution_count": 20,
     "metadata": {},
     "output_type": "execute_result"
    }
   ],
   "source": [
    "df_curr[cols].shape"
   ]
  },
  {
   "cell_type": "markdown",
   "metadata": {},
   "source": [
    "# Historical Covid API Data"
   ]
  },
  {
   "cell_type": "code",
   "execution_count": 30,
   "metadata": {},
   "outputs": [],
   "source": [
    "df_hist = pd.read_csv('https://api.covidtracking.com/v1/states/daily.csv')"
   ]
  },
  {
   "cell_type": "code",
   "execution_count": 31,
   "metadata": {},
   "outputs": [
    {
     "data": {
      "text/html": [
       "<div>\n",
       "<style scoped>\n",
       "    .dataframe tbody tr th:only-of-type {\n",
       "        vertical-align: middle;\n",
       "    }\n",
       "\n",
       "    .dataframe tbody tr th {\n",
       "        vertical-align: top;\n",
       "    }\n",
       "\n",
       "    .dataframe thead th {\n",
       "        text-align: right;\n",
       "    }\n",
       "</style>\n",
       "<table border=\"1\" class=\"dataframe\">\n",
       "  <thead>\n",
       "    <tr style=\"text-align: right;\">\n",
       "      <th></th>\n",
       "      <th>date</th>\n",
       "      <th>state</th>\n",
       "      <th>positive</th>\n",
       "      <th>negative</th>\n",
       "      <th>pending</th>\n",
       "      <th>hospitalizedCurrently</th>\n",
       "      <th>hospitalizedCumulative</th>\n",
       "      <th>inIcuCurrently</th>\n",
       "      <th>inIcuCumulative</th>\n",
       "      <th>onVentilatorCurrently</th>\n",
       "      <th>...</th>\n",
       "      <th>posNeg</th>\n",
       "      <th>deathIncrease</th>\n",
       "      <th>hospitalizedIncrease</th>\n",
       "      <th>hash</th>\n",
       "      <th>commercialScore</th>\n",
       "      <th>negativeRegularScore</th>\n",
       "      <th>negativeScore</th>\n",
       "      <th>positiveScore</th>\n",
       "      <th>score</th>\n",
       "      <th>grade</th>\n",
       "    </tr>\n",
       "  </thead>\n",
       "  <tbody>\n",
       "    <tr>\n",
       "      <th>0</th>\n",
       "      <td>20200824</td>\n",
       "      <td>AK</td>\n",
       "      <td>5628.0</td>\n",
       "      <td>324875.0</td>\n",
       "      <td>NaN</td>\n",
       "      <td>43.0</td>\n",
       "      <td>NaN</td>\n",
       "      <td>NaN</td>\n",
       "      <td>NaN</td>\n",
       "      <td>8.0</td>\n",
       "      <td>...</td>\n",
       "      <td>330503</td>\n",
       "      <td>0</td>\n",
       "      <td>0</td>\n",
       "      <td>54865e3eaef9af79f98d4ca570197186492760a0</td>\n",
       "      <td>0</td>\n",
       "      <td>0</td>\n",
       "      <td>0</td>\n",
       "      <td>0</td>\n",
       "      <td>0</td>\n",
       "      <td>NaN</td>\n",
       "    </tr>\n",
       "    <tr>\n",
       "      <th>1</th>\n",
       "      <td>20200824</td>\n",
       "      <td>AL</td>\n",
       "      <td>116710.0</td>\n",
       "      <td>806609.0</td>\n",
       "      <td>NaN</td>\n",
       "      <td>1149.0</td>\n",
       "      <td>13793.0</td>\n",
       "      <td>NaN</td>\n",
       "      <td>1391.0</td>\n",
       "      <td>NaN</td>\n",
       "      <td>...</td>\n",
       "      <td>923319</td>\n",
       "      <td>11</td>\n",
       "      <td>291</td>\n",
       "      <td>2fe1d500d143b2a7f02117934c2c53d0b2648560</td>\n",
       "      <td>0</td>\n",
       "      <td>0</td>\n",
       "      <td>0</td>\n",
       "      <td>0</td>\n",
       "      <td>0</td>\n",
       "      <td>NaN</td>\n",
       "    </tr>\n",
       "    <tr>\n",
       "      <th>2</th>\n",
       "      <td>20200824</td>\n",
       "      <td>AR</td>\n",
       "      <td>56894.0</td>\n",
       "      <td>616810.0</td>\n",
       "      <td>NaN</td>\n",
       "      <td>466.0</td>\n",
       "      <td>3962.0</td>\n",
       "      <td>NaN</td>\n",
       "      <td>NaN</td>\n",
       "      <td>108.0</td>\n",
       "      <td>...</td>\n",
       "      <td>673704</td>\n",
       "      <td>9</td>\n",
       "      <td>42</td>\n",
       "      <td>51dc585c49ed43ee35e01760e30b6b7aa792afe6</td>\n",
       "      <td>0</td>\n",
       "      <td>0</td>\n",
       "      <td>0</td>\n",
       "      <td>0</td>\n",
       "      <td>0</td>\n",
       "      <td>NaN</td>\n",
       "    </tr>\n",
       "    <tr>\n",
       "      <th>3</th>\n",
       "      <td>20200824</td>\n",
       "      <td>AS</td>\n",
       "      <td>0.0</td>\n",
       "      <td>1514.0</td>\n",
       "      <td>NaN</td>\n",
       "      <td>NaN</td>\n",
       "      <td>NaN</td>\n",
       "      <td>NaN</td>\n",
       "      <td>NaN</td>\n",
       "      <td>NaN</td>\n",
       "      <td>...</td>\n",
       "      <td>1514</td>\n",
       "      <td>0</td>\n",
       "      <td>0</td>\n",
       "      <td>c878baea61754904c3c233d78e523723e2f4a8e1</td>\n",
       "      <td>0</td>\n",
       "      <td>0</td>\n",
       "      <td>0</td>\n",
       "      <td>0</td>\n",
       "      <td>0</td>\n",
       "      <td>NaN</td>\n",
       "    </tr>\n",
       "    <tr>\n",
       "      <th>4</th>\n",
       "      <td>20200824</td>\n",
       "      <td>AZ</td>\n",
       "      <td>198414.0</td>\n",
       "      <td>958808.0</td>\n",
       "      <td>NaN</td>\n",
       "      <td>908.0</td>\n",
       "      <td>21219.0</td>\n",
       "      <td>345.0</td>\n",
       "      <td>NaN</td>\n",
       "      <td>176.0</td>\n",
       "      <td>...</td>\n",
       "      <td>1157222</td>\n",
       "      <td>0</td>\n",
       "      <td>-22</td>\n",
       "      <td>a3a22a4967b6ca06481f5aa38b1c59235db23f87</td>\n",
       "      <td>0</td>\n",
       "      <td>0</td>\n",
       "      <td>0</td>\n",
       "      <td>0</td>\n",
       "      <td>0</td>\n",
       "      <td>NaN</td>\n",
       "    </tr>\n",
       "  </tbody>\n",
       "</table>\n",
       "<p>5 rows × 53 columns</p>\n",
       "</div>"
      ],
      "text/plain": [
       "       date state  positive  negative  pending  hospitalizedCurrently  \\\n",
       "0  20200824    AK    5628.0  324875.0      NaN                   43.0   \n",
       "1  20200824    AL  116710.0  806609.0      NaN                 1149.0   \n",
       "2  20200824    AR   56894.0  616810.0      NaN                  466.0   \n",
       "3  20200824    AS       0.0    1514.0      NaN                    NaN   \n",
       "4  20200824    AZ  198414.0  958808.0      NaN                  908.0   \n",
       "\n",
       "   hospitalizedCumulative  inIcuCurrently  inIcuCumulative  \\\n",
       "0                     NaN             NaN              NaN   \n",
       "1                 13793.0             NaN           1391.0   \n",
       "2                  3962.0             NaN              NaN   \n",
       "3                     NaN             NaN              NaN   \n",
       "4                 21219.0           345.0              NaN   \n",
       "\n",
       "   onVentilatorCurrently  ...   posNeg  deathIncrease hospitalizedIncrease  \\\n",
       "0                    8.0  ...   330503              0                    0   \n",
       "1                    NaN  ...   923319             11                  291   \n",
       "2                  108.0  ...   673704              9                   42   \n",
       "3                    NaN  ...     1514              0                    0   \n",
       "4                  176.0  ...  1157222              0                  -22   \n",
       "\n",
       "                                       hash commercialScore  \\\n",
       "0  54865e3eaef9af79f98d4ca570197186492760a0               0   \n",
       "1  2fe1d500d143b2a7f02117934c2c53d0b2648560               0   \n",
       "2  51dc585c49ed43ee35e01760e30b6b7aa792afe6               0   \n",
       "3  c878baea61754904c3c233d78e523723e2f4a8e1               0   \n",
       "4  a3a22a4967b6ca06481f5aa38b1c59235db23f87               0   \n",
       "\n",
       "  negativeRegularScore  negativeScore  positiveScore score  grade  \n",
       "0                    0              0              0     0    NaN  \n",
       "1                    0              0              0     0    NaN  \n",
       "2                    0              0              0     0    NaN  \n",
       "3                    0              0              0     0    NaN  \n",
       "4                    0              0              0     0    NaN  \n",
       "\n",
       "[5 rows x 53 columns]"
      ]
     },
     "execution_count": 31,
     "metadata": {},
     "output_type": "execute_result"
    }
   ],
   "source": [
    "df_hist.head()"
   ]
  },
  {
   "cell_type": "code",
   "execution_count": 39,
   "metadata": {},
   "outputs": [],
   "source": [
    "df_hist.to_csv('daily.csv')"
   ]
  },
  {
   "cell_type": "code",
   "execution_count": 22,
   "metadata": {},
   "outputs": [],
   "source": [
    "df_hist = pd.read_csv('daily.csv')"
   ]
  },
  {
   "cell_type": "code",
   "execution_count": 23,
   "metadata": {},
   "outputs": [
    {
     "data": {
      "text/html": [
       "<div>\n",
       "<style scoped>\n",
       "    .dataframe tbody tr th:only-of-type {\n",
       "        vertical-align: middle;\n",
       "    }\n",
       "\n",
       "    .dataframe tbody tr th {\n",
       "        vertical-align: top;\n",
       "    }\n",
       "\n",
       "    .dataframe thead th {\n",
       "        text-align: right;\n",
       "    }\n",
       "</style>\n",
       "<table border=\"1\" class=\"dataframe\">\n",
       "  <thead>\n",
       "    <tr style=\"text-align: right;\">\n",
       "      <th></th>\n",
       "      <th>Unnamed: 0</th>\n",
       "      <th>date</th>\n",
       "      <th>state</th>\n",
       "      <th>positive</th>\n",
       "      <th>negative</th>\n",
       "      <th>pending</th>\n",
       "      <th>hospitalizedCurrently</th>\n",
       "      <th>hospitalizedCumulative</th>\n",
       "      <th>inIcuCurrently</th>\n",
       "      <th>inIcuCumulative</th>\n",
       "      <th>...</th>\n",
       "      <th>posNeg</th>\n",
       "      <th>deathIncrease</th>\n",
       "      <th>hospitalizedIncrease</th>\n",
       "      <th>hash</th>\n",
       "      <th>commercialScore</th>\n",
       "      <th>negativeRegularScore</th>\n",
       "      <th>negativeScore</th>\n",
       "      <th>positiveScore</th>\n",
       "      <th>score</th>\n",
       "      <th>grade</th>\n",
       "    </tr>\n",
       "  </thead>\n",
       "  <tbody>\n",
       "    <tr>\n",
       "      <th>0</th>\n",
       "      <td>0</td>\n",
       "      <td>20200824</td>\n",
       "      <td>AK</td>\n",
       "      <td>5628.0</td>\n",
       "      <td>324875.0</td>\n",
       "      <td>NaN</td>\n",
       "      <td>43.0</td>\n",
       "      <td>NaN</td>\n",
       "      <td>NaN</td>\n",
       "      <td>NaN</td>\n",
       "      <td>...</td>\n",
       "      <td>330503</td>\n",
       "      <td>0</td>\n",
       "      <td>0</td>\n",
       "      <td>54865e3eaef9af79f98d4ca570197186492760a0</td>\n",
       "      <td>0</td>\n",
       "      <td>0</td>\n",
       "      <td>0</td>\n",
       "      <td>0</td>\n",
       "      <td>0</td>\n",
       "      <td>NaN</td>\n",
       "    </tr>\n",
       "    <tr>\n",
       "      <th>1</th>\n",
       "      <td>1</td>\n",
       "      <td>20200824</td>\n",
       "      <td>AL</td>\n",
       "      <td>116710.0</td>\n",
       "      <td>806609.0</td>\n",
       "      <td>NaN</td>\n",
       "      <td>1149.0</td>\n",
       "      <td>13793.0</td>\n",
       "      <td>NaN</td>\n",
       "      <td>1391.0</td>\n",
       "      <td>...</td>\n",
       "      <td>923319</td>\n",
       "      <td>11</td>\n",
       "      <td>291</td>\n",
       "      <td>2fe1d500d143b2a7f02117934c2c53d0b2648560</td>\n",
       "      <td>0</td>\n",
       "      <td>0</td>\n",
       "      <td>0</td>\n",
       "      <td>0</td>\n",
       "      <td>0</td>\n",
       "      <td>NaN</td>\n",
       "    </tr>\n",
       "    <tr>\n",
       "      <th>2</th>\n",
       "      <td>2</td>\n",
       "      <td>20200824</td>\n",
       "      <td>AR</td>\n",
       "      <td>56894.0</td>\n",
       "      <td>616810.0</td>\n",
       "      <td>NaN</td>\n",
       "      <td>466.0</td>\n",
       "      <td>3962.0</td>\n",
       "      <td>NaN</td>\n",
       "      <td>NaN</td>\n",
       "      <td>...</td>\n",
       "      <td>673704</td>\n",
       "      <td>9</td>\n",
       "      <td>42</td>\n",
       "      <td>51dc585c49ed43ee35e01760e30b6b7aa792afe6</td>\n",
       "      <td>0</td>\n",
       "      <td>0</td>\n",
       "      <td>0</td>\n",
       "      <td>0</td>\n",
       "      <td>0</td>\n",
       "      <td>NaN</td>\n",
       "    </tr>\n",
       "    <tr>\n",
       "      <th>3</th>\n",
       "      <td>3</td>\n",
       "      <td>20200824</td>\n",
       "      <td>AS</td>\n",
       "      <td>0.0</td>\n",
       "      <td>1514.0</td>\n",
       "      <td>NaN</td>\n",
       "      <td>NaN</td>\n",
       "      <td>NaN</td>\n",
       "      <td>NaN</td>\n",
       "      <td>NaN</td>\n",
       "      <td>...</td>\n",
       "      <td>1514</td>\n",
       "      <td>0</td>\n",
       "      <td>0</td>\n",
       "      <td>c878baea61754904c3c233d78e523723e2f4a8e1</td>\n",
       "      <td>0</td>\n",
       "      <td>0</td>\n",
       "      <td>0</td>\n",
       "      <td>0</td>\n",
       "      <td>0</td>\n",
       "      <td>NaN</td>\n",
       "    </tr>\n",
       "    <tr>\n",
       "      <th>4</th>\n",
       "      <td>4</td>\n",
       "      <td>20200824</td>\n",
       "      <td>AZ</td>\n",
       "      <td>198414.0</td>\n",
       "      <td>958808.0</td>\n",
       "      <td>NaN</td>\n",
       "      <td>908.0</td>\n",
       "      <td>21219.0</td>\n",
       "      <td>345.0</td>\n",
       "      <td>NaN</td>\n",
       "      <td>...</td>\n",
       "      <td>1157222</td>\n",
       "      <td>0</td>\n",
       "      <td>-22</td>\n",
       "      <td>a3a22a4967b6ca06481f5aa38b1c59235db23f87</td>\n",
       "      <td>0</td>\n",
       "      <td>0</td>\n",
       "      <td>0</td>\n",
       "      <td>0</td>\n",
       "      <td>0</td>\n",
       "      <td>NaN</td>\n",
       "    </tr>\n",
       "  </tbody>\n",
       "</table>\n",
       "<p>5 rows × 54 columns</p>\n",
       "</div>"
      ],
      "text/plain": [
       "   Unnamed: 0      date state  positive  negative  pending  \\\n",
       "0           0  20200824    AK    5628.0  324875.0      NaN   \n",
       "1           1  20200824    AL  116710.0  806609.0      NaN   \n",
       "2           2  20200824    AR   56894.0  616810.0      NaN   \n",
       "3           3  20200824    AS       0.0    1514.0      NaN   \n",
       "4           4  20200824    AZ  198414.0  958808.0      NaN   \n",
       "\n",
       "   hospitalizedCurrently  hospitalizedCumulative  inIcuCurrently  \\\n",
       "0                   43.0                     NaN             NaN   \n",
       "1                 1149.0                 13793.0             NaN   \n",
       "2                  466.0                  3962.0             NaN   \n",
       "3                    NaN                     NaN             NaN   \n",
       "4                  908.0                 21219.0           345.0   \n",
       "\n",
       "   inIcuCumulative  ...   posNeg  deathIncrease  hospitalizedIncrease  \\\n",
       "0              NaN  ...   330503              0                     0   \n",
       "1           1391.0  ...   923319             11                   291   \n",
       "2              NaN  ...   673704              9                    42   \n",
       "3              NaN  ...     1514              0                     0   \n",
       "4              NaN  ...  1157222              0                   -22   \n",
       "\n",
       "                                       hash commercialScore  \\\n",
       "0  54865e3eaef9af79f98d4ca570197186492760a0               0   \n",
       "1  2fe1d500d143b2a7f02117934c2c53d0b2648560               0   \n",
       "2  51dc585c49ed43ee35e01760e30b6b7aa792afe6               0   \n",
       "3  c878baea61754904c3c233d78e523723e2f4a8e1               0   \n",
       "4  a3a22a4967b6ca06481f5aa38b1c59235db23f87               0   \n",
       "\n",
       "  negativeRegularScore negativeScore  positiveScore  score grade  \n",
       "0                    0             0              0      0   NaN  \n",
       "1                    0             0              0      0   NaN  \n",
       "2                    0             0              0      0   NaN  \n",
       "3                    0             0              0      0   NaN  \n",
       "4                    0             0              0      0   NaN  \n",
       "\n",
       "[5 rows x 54 columns]"
      ]
     },
     "execution_count": 23,
     "metadata": {},
     "output_type": "execute_result"
    }
   ],
   "source": [
    "df_hist.head()"
   ]
  },
  {
   "cell_type": "markdown",
   "metadata": {},
   "source": [
    "# PPP Loan Data > 150k"
   ]
  },
  {
   "cell_type": "code",
   "execution_count": 24,
   "metadata": {},
   "outputs": [],
   "source": [
    "df_loan = pd.read_csv('data/ppp_150.csv')"
   ]
  },
  {
   "cell_type": "code",
   "execution_count": 25,
   "metadata": {},
   "outputs": [
    {
     "data": {
      "text/html": [
       "<div>\n",
       "<style scoped>\n",
       "    .dataframe tbody tr th:only-of-type {\n",
       "        vertical-align: middle;\n",
       "    }\n",
       "\n",
       "    .dataframe tbody tr th {\n",
       "        vertical-align: top;\n",
       "    }\n",
       "\n",
       "    .dataframe thead th {\n",
       "        text-align: right;\n",
       "    }\n",
       "</style>\n",
       "<table border=\"1\" class=\"dataframe\">\n",
       "  <thead>\n",
       "    <tr style=\"text-align: right;\">\n",
       "      <th></th>\n",
       "      <th>LoanRange</th>\n",
       "      <th>BusinessName</th>\n",
       "      <th>Address</th>\n",
       "      <th>City</th>\n",
       "      <th>State</th>\n",
       "      <th>Zip</th>\n",
       "      <th>NAICSCode</th>\n",
       "      <th>BusinessType</th>\n",
       "      <th>RaceEthnicity</th>\n",
       "      <th>Gender</th>\n",
       "      <th>Veteran</th>\n",
       "      <th>NonProfit</th>\n",
       "      <th>JobsRetained</th>\n",
       "      <th>DateApproved</th>\n",
       "      <th>Lender</th>\n",
       "      <th>CD</th>\n",
       "    </tr>\n",
       "  </thead>\n",
       "  <tbody>\n",
       "    <tr>\n",
       "      <th>0</th>\n",
       "      <td>a $5-10 million</td>\n",
       "      <td>ARCTIC SLOPE NATIVE ASSOCIATION, LTD.</td>\n",
       "      <td>7000 Uula St</td>\n",
       "      <td>BARROW</td>\n",
       "      <td>AK</td>\n",
       "      <td>99723.0</td>\n",
       "      <td>813920.0</td>\n",
       "      <td>Non-Profit Organization</td>\n",
       "      <td>Unanswered</td>\n",
       "      <td>Unanswered</td>\n",
       "      <td>Unanswered</td>\n",
       "      <td>Y</td>\n",
       "      <td>295.0</td>\n",
       "      <td>04/14/2020</td>\n",
       "      <td>National Cooperative Bank, National Association</td>\n",
       "      <td>AK - 00</td>\n",
       "    </tr>\n",
       "    <tr>\n",
       "      <th>1</th>\n",
       "      <td>a $5-10 million</td>\n",
       "      <td>CRUZ CONSTRUCTION INC</td>\n",
       "      <td>7000 East Palmer Wasilla Hwy</td>\n",
       "      <td>PALMER</td>\n",
       "      <td>AK</td>\n",
       "      <td>99645.0</td>\n",
       "      <td>238190.0</td>\n",
       "      <td>Subchapter S Corporation</td>\n",
       "      <td>Unanswered</td>\n",
       "      <td>Unanswered</td>\n",
       "      <td>Unanswered</td>\n",
       "      <td>NaN</td>\n",
       "      <td>215.0</td>\n",
       "      <td>04/15/2020</td>\n",
       "      <td>First National Bank Alaska</td>\n",
       "      <td>AK - 00</td>\n",
       "    </tr>\n",
       "    <tr>\n",
       "      <th>2</th>\n",
       "      <td>a $5-10 million</td>\n",
       "      <td>I. C. E. SERVICES, INC</td>\n",
       "      <td>2606 C Street</td>\n",
       "      <td>ANCHORAGE</td>\n",
       "      <td>AK</td>\n",
       "      <td>99503.0</td>\n",
       "      <td>722310.0</td>\n",
       "      <td>Corporation</td>\n",
       "      <td>Unanswered</td>\n",
       "      <td>Unanswered</td>\n",
       "      <td>Unanswered</td>\n",
       "      <td>NaN</td>\n",
       "      <td>367.0</td>\n",
       "      <td>04/11/2020</td>\n",
       "      <td>KeyBank National Association</td>\n",
       "      <td>AK - 00</td>\n",
       "    </tr>\n",
       "    <tr>\n",
       "      <th>3</th>\n",
       "      <td>a $5-10 million</td>\n",
       "      <td>KATMAI HEALTH SERVICES LLC</td>\n",
       "      <td>11001 O'MALLEY CENTRE DRIVE, SUITE 204</td>\n",
       "      <td>ANCHORAGE</td>\n",
       "      <td>AK</td>\n",
       "      <td>99515.0</td>\n",
       "      <td>621111.0</td>\n",
       "      <td>Limited  Liability Company(LLC)</td>\n",
       "      <td>Unanswered</td>\n",
       "      <td>Unanswered</td>\n",
       "      <td>Unanswered</td>\n",
       "      <td>NaN</td>\n",
       "      <td>0.0</td>\n",
       "      <td>04/29/2020</td>\n",
       "      <td>Truist Bank d/b/a Branch Banking &amp; Trust Co</td>\n",
       "      <td>AK - 00</td>\n",
       "    </tr>\n",
       "    <tr>\n",
       "      <th>4</th>\n",
       "      <td>a $5-10 million</td>\n",
       "      <td>MATANUSKA TELEPHONE ASSOCIATION</td>\n",
       "      <td>1740 S. CHUGACH ST</td>\n",
       "      <td>PALMER</td>\n",
       "      <td>AK</td>\n",
       "      <td>99645.0</td>\n",
       "      <td>517311.0</td>\n",
       "      <td>Cooperative</td>\n",
       "      <td>Unanswered</td>\n",
       "      <td>Unanswered</td>\n",
       "      <td>Unanswered</td>\n",
       "      <td>NaN</td>\n",
       "      <td>267.0</td>\n",
       "      <td>06/10/2020</td>\n",
       "      <td>CoBank ACB</td>\n",
       "      <td>AK - 00</td>\n",
       "    </tr>\n",
       "  </tbody>\n",
       "</table>\n",
       "</div>"
      ],
      "text/plain": [
       "         LoanRange                           BusinessName  \\\n",
       "0  a $5-10 million  ARCTIC SLOPE NATIVE ASSOCIATION, LTD.   \n",
       "1  a $5-10 million                  CRUZ CONSTRUCTION INC   \n",
       "2  a $5-10 million                 I. C. E. SERVICES, INC   \n",
       "3  a $5-10 million             KATMAI HEALTH SERVICES LLC   \n",
       "4  a $5-10 million        MATANUSKA TELEPHONE ASSOCIATION   \n",
       "\n",
       "                                  Address       City State      Zip  \\\n",
       "0                            7000 Uula St     BARROW    AK  99723.0   \n",
       "1            7000 East Palmer Wasilla Hwy     PALMER    AK  99645.0   \n",
       "2                           2606 C Street  ANCHORAGE    AK  99503.0   \n",
       "3  11001 O'MALLEY CENTRE DRIVE, SUITE 204  ANCHORAGE    AK  99515.0   \n",
       "4                      1740 S. CHUGACH ST     PALMER    AK  99645.0   \n",
       "\n",
       "   NAICSCode                     BusinessType RaceEthnicity      Gender  \\\n",
       "0   813920.0          Non-Profit Organization    Unanswered  Unanswered   \n",
       "1   238190.0         Subchapter S Corporation    Unanswered  Unanswered   \n",
       "2   722310.0                      Corporation    Unanswered  Unanswered   \n",
       "3   621111.0  Limited  Liability Company(LLC)    Unanswered  Unanswered   \n",
       "4   517311.0                      Cooperative    Unanswered  Unanswered   \n",
       "\n",
       "      Veteran NonProfit  JobsRetained DateApproved  \\\n",
       "0  Unanswered         Y         295.0   04/14/2020   \n",
       "1  Unanswered       NaN         215.0   04/15/2020   \n",
       "2  Unanswered       NaN         367.0   04/11/2020   \n",
       "3  Unanswered       NaN           0.0   04/29/2020   \n",
       "4  Unanswered       NaN         267.0   06/10/2020   \n",
       "\n",
       "                                            Lender       CD  \n",
       "0  National Cooperative Bank, National Association  AK - 00  \n",
       "1                       First National Bank Alaska  AK - 00  \n",
       "2                     KeyBank National Association  AK - 00  \n",
       "3      Truist Bank d/b/a Branch Banking & Trust Co  AK - 00  \n",
       "4                                       CoBank ACB  AK - 00  "
      ]
     },
     "execution_count": 25,
     "metadata": {},
     "output_type": "execute_result"
    }
   ],
   "source": [
    "df_loan.head()"
   ]
  },
  {
   "cell_type": "code",
   "execution_count": 35,
   "metadata": {},
   "outputs": [
    {
     "data": {
      "text/plain": [
       "661218"
      ]
     },
     "execution_count": 35,
     "metadata": {},
     "output_type": "execute_result"
    }
   ],
   "source": [
    "len(df_loan)"
   ]
  },
  {
   "cell_type": "code",
   "execution_count": 61,
   "metadata": {},
   "outputs": [],
   "source": [
    "df_addr = df_loan[['LoanRange', 'Address', 'City', 'State', 'Zip']].dropna()"
   ]
  },
  {
   "cell_type": "code",
   "execution_count": 65,
   "metadata": {},
   "outputs": [
    {
     "data": {
      "text/html": [
       "<div>\n",
       "<style scoped>\n",
       "    .dataframe tbody tr th:only-of-type {\n",
       "        vertical-align: middle;\n",
       "    }\n",
       "\n",
       "    .dataframe tbody tr th {\n",
       "        vertical-align: top;\n",
       "    }\n",
       "\n",
       "    .dataframe thead th {\n",
       "        text-align: right;\n",
       "    }\n",
       "</style>\n",
       "<table border=\"1\" class=\"dataframe\">\n",
       "  <thead>\n",
       "    <tr style=\"text-align: right;\">\n",
       "      <th></th>\n",
       "      <th>LoanRange</th>\n",
       "      <th>Address</th>\n",
       "      <th>City</th>\n",
       "      <th>State</th>\n",
       "      <th>Zip</th>\n",
       "    </tr>\n",
       "  </thead>\n",
       "  <tbody>\n",
       "    <tr>\n",
       "      <th>661203</th>\n",
       "      <td>d $350,000-1 million</td>\n",
       "      <td>1850 BOYER AVE E</td>\n",
       "      <td>SEATTLE</td>\n",
       "      <td>XX</td>\n",
       "      <td>98112.0</td>\n",
       "    </tr>\n",
       "    <tr>\n",
       "      <th>661204</th>\n",
       "      <td>d $350,000-1 million</td>\n",
       "      <td>1661 MARTIN RANCH RD</td>\n",
       "      <td>SAN BERNARDINO</td>\n",
       "      <td>XX</td>\n",
       "      <td>92407.0</td>\n",
       "    </tr>\n",
       "    <tr>\n",
       "      <th>661205</th>\n",
       "      <td>d $350,000-1 million</td>\n",
       "      <td>7684 Southrail Road</td>\n",
       "      <td>NORTH CHARLESTON</td>\n",
       "      <td>XX</td>\n",
       "      <td>29420.0</td>\n",
       "    </tr>\n",
       "    <tr>\n",
       "      <th>661206</th>\n",
       "      <td>d $350,000-1 million</td>\n",
       "      <td>2410 Highway 15 South</td>\n",
       "      <td>SUMTER</td>\n",
       "      <td>XX</td>\n",
       "      <td>29150.0</td>\n",
       "    </tr>\n",
       "    <tr>\n",
       "      <th>661209</th>\n",
       "      <td>e $150,000-350,000</td>\n",
       "      <td>501 State Road 13</td>\n",
       "      <td>SAINT JOHNS</td>\n",
       "      <td>XX</td>\n",
       "      <td>32259.0</td>\n",
       "    </tr>\n",
       "  </tbody>\n",
       "</table>\n",
       "</div>"
      ],
      "text/plain": [
       "                   LoanRange                Address              City State  \\\n",
       "661203  d $350,000-1 million       1850 BOYER AVE E           SEATTLE    XX   \n",
       "661204  d $350,000-1 million   1661 MARTIN RANCH RD    SAN BERNARDINO    XX   \n",
       "661205  d $350,000-1 million    7684 Southrail Road  NORTH CHARLESTON    XX   \n",
       "661206  d $350,000-1 million  2410 Highway 15 South            SUMTER    XX   \n",
       "661209    e $150,000-350,000      501 State Road 13       SAINT JOHNS    XX   \n",
       "\n",
       "            Zip  \n",
       "661203  98112.0  \n",
       "661204  92407.0  \n",
       "661205  29420.0  \n",
       "661206  29150.0  \n",
       "661209  32259.0  "
      ]
     },
     "execution_count": 65,
     "metadata": {},
     "output_type": "execute_result"
    }
   ],
   "source": [
    "df_addr[df_addr['State'] == 'XX']"
   ]
  },
  {
   "cell_type": "code",
   "execution_count": 66,
   "metadata": {},
   "outputs": [],
   "source": [
    "df_addr = df_addr[df_addr['State'] != 'XX']"
   ]
  },
  {
   "cell_type": "code",
   "execution_count": 67,
   "metadata": {},
   "outputs": [
    {
     "data": {
      "text/plain": [
       "661195"
      ]
     },
     "execution_count": 67,
     "metadata": {},
     "output_type": "execute_result"
    }
   ],
   "source": [
    "len(df_addr)"
   ]
  },
  {
   "cell_type": "code",
   "execution_count": 68,
   "metadata": {},
   "outputs": [
    {
     "data": {
      "text/plain": [
       "'7000 Uula St, BARROW, AK'"
      ]
     },
     "execution_count": 68,
     "metadata": {},
     "output_type": "execute_result"
    }
   ],
   "source": [
    "test_addr = df_addr.iloc[0].Address + ', ' + df_addr.iloc[0].City + ', ' + df_addr.iloc[0].State\n",
    "test_addr"
   ]
  },
  {
   "cell_type": "markdown",
   "metadata": {},
   "source": [
    "# Google Maps API"
   ]
  },
  {
   "cell_type": "code",
   "execution_count": 1,
   "metadata": {},
   "outputs": [
    {
     "name": "stdout",
     "output_type": "stream",
     "text": [
      "[{'address_components': [{'long_name': '1600', 'short_name': '1600', 'types': ['street_number']}, {'long_name': 'Amphitheatre Parkway', 'short_name': 'Amphitheatre Pkwy', 'types': ['route']}, {'long_name': 'Mountain View', 'short_name': 'Mountain View', 'types': ['locality', 'political']}, {'long_name': 'Santa Clara County', 'short_name': 'Santa Clara County', 'types': ['administrative_area_level_2', 'political']}, {'long_name': 'California', 'short_name': 'CA', 'types': ['administrative_area_level_1', 'political']}, {'long_name': 'United States', 'short_name': 'US', 'types': ['country', 'political']}, {'long_name': '94043', 'short_name': '94043', 'types': ['postal_code']}], 'formatted_address': '1600 Amphitheatre Pkwy, Mountain View, CA 94043, USA', 'geometry': {'location': {'lat': 37.4220656, 'lng': -122.0840897}, 'location_type': 'ROOFTOP', 'viewport': {'northeast': {'lat': 37.4234145802915, 'lng': -122.0827407197085}, 'southwest': {'lat': 37.4207166197085, 'lng': -122.0854386802915}}}, 'place_id': 'ChIJVYBZP-Oxj4ARls-qJ_G3tgM', 'plus_code': {'compound_code': 'CWC8+R9 Mountain View, CA, USA', 'global_code': '849VCWC8+R9'}, 'types': ['street_address']}]\n"
     ]
    }
   ],
   "source": [
    "import googlemaps\n",
    "from datetime import datetime as dt\n",
    "\n",
    "file = open('api_key.txt', 'r')\n",
    "key = file.read()\n",
    "\n",
    "gmaps = googlemaps.Client(key)\n",
    "\n",
    "geo = gmaps.geocode('1600 Amphitheatre Parkway, Mountain View, CA')\n",
    "\n",
    "print(geo)"
   ]
  },
  {
   "cell_type": "code",
   "execution_count": 5,
   "metadata": {},
   "outputs": [],
   "source": [
    "import json"
   ]
  },
  {
   "cell_type": "code",
   "execution_count": 55,
   "metadata": {},
   "outputs": [
    {
     "data": {
      "text/plain": [
       "{'lat': 71.2989367, 'lng': -156.7286143}"
      ]
     },
     "execution_count": 55,
     "metadata": {},
     "output_type": "execute_result"
    }
   ],
   "source": [
    "geo[0]['geometry']['location']"
   ]
  },
  {
   "cell_type": "code",
   "execution_count": 52,
   "metadata": {},
   "outputs": [
    {
     "name": "stdout",
     "output_type": "stream",
     "text": [
      "{'lat': 71.2989367, 'lng': -156.7286143}\n"
     ]
    }
   ],
   "source": [
    "geo = gmaps.geocode(test_addr)\n",
    "\n",
    "print(geo[0]['geometry']['location'])"
   ]
  },
  {
   "cell_type": "markdown",
   "metadata": {},
   "source": [
    "# 5 dollars per 1,000 requests?!?!?!"
   ]
  },
  {
   "cell_type": "code",
   "execution_count": null,
   "metadata": {},
   "outputs": [],
   "source": [
    "# import folium\n",
    "\n",
    "# # create map\n",
    "# m = folium.Map(location=[42, -71], zoom_start=12)\n",
    "\n",
    "# # global tooltip\n",
    "# tooltip = 'Click for more info'\n",
    "\n",
    "# # create markers\n",
    "# # folium.Marker([42, -71],\n",
    "# #     popup='<strong>Location One</strong>',\n",
    "# #     tooltip=tooltip\n",
    "# # ).add_to(m)\n",
    "\n",
    "# # circle marker\n",
    "# folium.CircleMarker(\n",
    "#     location=[42, -71],\n",
    "#     radius=50,  # use for loan size? scale to size of loan? normalize these?\n",
    "#     popup='50',  # loan value\n",
    "#     color='blue',  # color according to some histogram?\n",
    "#     fill=True,\n",
    "#     fill_color='blue'\n",
    "# ).add_to(m)\n",
    "\n",
    "# # generate map\n",
    "# m.save('map.html')"
   ]
  },
  {
   "cell_type": "code",
   "execution_count": 53,
   "metadata": {},
   "outputs": [],
   "source": [
    "import folium as f"
   ]
  },
  {
   "cell_type": "code",
   "execution_count": 69,
   "metadata": {},
   "outputs": [],
   "source": [
    "loan = df_addr.iloc[0].LoanRange"
   ]
  },
  {
   "cell_type": "code",
   "execution_count": 71,
   "metadata": {},
   "outputs": [],
   "source": [
    "import re"
   ]
  },
  {
   "cell_type": "code",
   "execution_count": 83,
   "metadata": {},
   "outputs": [
    {
     "data": {
      "text/plain": [
       "'a $5-10 million'"
      ]
     },
     "execution_count": 83,
     "metadata": {},
     "output_type": "execute_result"
    }
   ],
   "source": [
    "loan"
   ]
  },
  {
   "cell_type": "code",
   "execution_count": 75,
   "metadata": {},
   "outputs": [],
   "source": [
    "dollars = re.compile(r\"(?P<amt>\\d+)|(?P<mag>million|thousand)\")"
   ]
  },
  {
   "cell_type": "code",
   "execution_count": 84,
   "metadata": {},
   "outputs": [
    {
     "data": {
      "text/plain": [
       "<re.Match object; span=(3, 4), match='5'>"
      ]
     },
     "execution_count": 84,
     "metadata": {},
     "output_type": "execute_result"
    }
   ],
   "source": [
    "re.search(dollars, loan)"
   ]
  },
  {
   "cell_type": "code",
   "execution_count": 94,
   "metadata": {},
   "outputs": [],
   "source": [
    "lr = loan_range = re.findall(dollars, loan)\n",
    "lr = str(1.*(int(lr[1][0]) + int(lr[0][0]))/2) + ' ' + lr[2][1]"
   ]
  },
  {
   "cell_type": "code",
   "execution_count": 95,
   "metadata": {},
   "outputs": [
    {
     "data": {
      "text/plain": [
       "'7.5 million'"
      ]
     },
     "execution_count": 95,
     "metadata": {},
     "output_type": "execute_result"
    }
   ],
   "source": [
    "lr"
   ]
  },
  {
   "cell_type": "code",
   "execution_count": 60,
   "metadata": {},
   "outputs": [],
   "source": [
    "lat, long = geo[0]['geometry']['location']['lat'], geo[0]['geometry']['location']['lng']\n",
    "m = f.Map([lat, long], zoom_start=12)"
   ]
  },
  {
   "cell_type": "code",
   "execution_count": 97,
   "metadata": {},
   "outputs": [
    {
     "data": {
      "text/plain": [
       "<folium.vector_layers.CircleMarker at 0x2da09655188>"
      ]
     },
     "execution_count": 97,
     "metadata": {},
     "output_type": "execute_result"
    }
   ],
   "source": [
    "f.CircleMarker(\n",
    "    location=[lat, long],\n",
    "    radius=lr,  # use for loan size? scale to size of loan? normalize these?\n",
    "    popup=str(lr),  # loan value\n",
    "    color='blue',  # color according to some histogram?\n",
    "    fill=True,\n",
    "    fill_color='blue'\n",
    ").add_to(m)"
   ]
  },
  {
   "cell_type": "code",
   "execution_count": 98,
   "metadata": {},
   "outputs": [],
   "source": [
    "m.save('ppp_test_map.html')"
   ]
  },
  {
   "cell_type": "code",
   "execution_count": null,
   "metadata": {},
   "outputs": [],
   "source": []
  }
 ],
 "metadata": {
  "kernelspec": {
   "display_name": "covid-ppp",
   "language": "python",
   "name": "covid-ppp"
  },
  "language_info": {
   "codemirror_mode": {
    "name": "ipython",
    "version": 3
   },
   "file_extension": ".py",
   "mimetype": "text/x-python",
   "name": "python",
   "nbconvert_exporter": "python",
   "pygments_lexer": "ipython3",
   "version": "3.7.5"
  }
 },
 "nbformat": 4,
 "nbformat_minor": 4
}
